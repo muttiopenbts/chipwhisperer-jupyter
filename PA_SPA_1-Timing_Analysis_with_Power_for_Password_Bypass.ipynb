{
 "cells": [
  {
   "cell_type": "markdown",
   "metadata": {},
   "source": [
    "# Timing Analysis with Power for Password Bypass\n",
    "\n",
    "Supported setups:\n",
    "\n",
    "SCOPES:\n",
    "\n",
    "* OPENADC\n",
    "* CWNANO\n",
    "\n",
    "PLATFORMS:\n",
    "\n",
    "* CWLITEARM\n",
    "* CWLITEXMEGA\n",
    "* CWNANO"
   ]
  },
  {
   "cell_type": "markdown",
   "metadata": {},
   "source": [
    "This tutorial will introduce you to breaking devices by determining when a device is performing certain operations. It will use a simple password check, and demonstrate how to perform a basic power analysis.\n",
    "\n",
    "Note this is not a prerequisite to the tutorial on breaking AES. You can skip this tutorial if you wish to go ahead with the AES tutorial."
   ]
  },
  {
   "cell_type": "code",
   "execution_count": 1,
   "metadata": {},
   "outputs": [],
   "source": [
    "SCOPETYPE = 'OPENADC'\n",
    "PLATFORM = 'CWLITEXMEGA'\n",
    "CRYPTO_TARGET = 'NONE'"
   ]
  },
  {
   "cell_type": "markdown",
   "metadata": {},
   "source": [
    "## Firmware"
   ]
  },
  {
   "cell_type": "markdown",
   "metadata": {},
   "source": [
    "Like before, we'll need to setup our `PLATFORM`, then build the firmware:"
   ]
  },
  {
   "cell_type": "code",
   "execution_count": 2,
   "metadata": {},
   "outputs": [
    {
     "name": "stdout",
     "output_type": "stream",
     "text": [
      "rm -f -- basic-passwdcheck-CWLITEXMEGA.hex\n",
      "rm -f -- basic-passwdcheck-CWLITEXMEGA.eep\n",
      "rm -f -- basic-passwdcheck-CWLITEXMEGA.cof\n",
      "rm -f -- basic-passwdcheck-CWLITEXMEGA.elf\n",
      "rm -f -- basic-passwdcheck-CWLITEXMEGA.map\n",
      "rm -f -- basic-passwdcheck-CWLITEXMEGA.sym\n",
      "rm -f -- basic-passwdcheck-CWLITEXMEGA.lss\n",
      "rm -f -- objdir/*.o\n",
      "rm -f -- objdir/*.lst\n",
      "rm -f -- basic-passwdcheck.s simpleserial.s XMEGA_AES_driver.s uart.s usart_driver.s xmega_hal.s\n",
      "rm -f -- basic-passwdcheck.d simpleserial.d XMEGA_AES_driver.d uart.d usart_driver.d xmega_hal.d\n",
      "rm -f -- basic-passwdcheck.i simpleserial.i XMEGA_AES_driver.i uart.i usart_driver.i xmega_hal.i\n",
      "mkdir objdir \n",
      "mkdir .dep\n",
      ".\n",
      "-------- begin --------\n",
      "avr-gcc (GCC) 5.4.0\n",
      "Copyright (C) 2015 Free Software Foundation, Inc.\n",
      "This is free software; see the source for copying conditions.  There is NO\n",
      "warranty; not even for MERCHANTABILITY or FITNESS FOR A PARTICULAR PURPOSE.\n",
      "\n",
      ".\n",
      "Compiling C: basic-passwdcheck.c\n",
      "avr-gcc -c -mmcu=atxmega128d3 -I. -fpack-struct -gdwarf-2 -DSS_VER=SS_VER_1_0 -DHAL_TYPE=HAL_xmega -DPLATFORM=CWLITEXMEGA -DF_CPU=7372800UL -Os -funsigned-char -funsigned-bitfields -fshort-enums -Wall -Wstrict-prototypes -Wa,-adhlns=objdir/basic-passwdcheck.lst -I.././simpleserial/ -I.././hal -I.././hal/xmega -I.././crypto/ -std=gnu99 -MMD -MP -MF .dep/basic-passwdcheck.o.d basic-passwdcheck.c -o objdir/basic-passwdcheck.o \n",
      ".\n",
      "Compiling C: .././simpleserial/simpleserial.c\n",
      "avr-gcc -c -mmcu=atxmega128d3 -I. -fpack-struct -gdwarf-2 -DSS_VER=SS_VER_1_0 -DHAL_TYPE=HAL_xmega -DPLATFORM=CWLITEXMEGA -DF_CPU=7372800UL -Os -funsigned-char -funsigned-bitfields -fshort-enums -Wall -Wstrict-prototypes -Wa,-adhlns=objdir/simpleserial.lst -I.././simpleserial/ -I.././hal -I.././hal/xmega -I.././crypto/ -std=gnu99 -MMD -MP -MF .dep/simpleserial.o.d .././simpleserial/simpleserial.c -o objdir/simpleserial.o \n",
      ".\n",
      "Compiling C: .././hal/xmega/XMEGA_AES_driver.c\n",
      "avr-gcc -c -mmcu=atxmega128d3 -I. -fpack-struct -gdwarf-2 -DSS_VER=SS_VER_1_0 -DHAL_TYPE=HAL_xmega -DPLATFORM=CWLITEXMEGA -DF_CPU=7372800UL -Os -funsigned-char -funsigned-bitfields -fshort-enums -Wall -Wstrict-prototypes -Wa,-adhlns=objdir/XMEGA_AES_driver.lst -I.././simpleserial/ -I.././hal -I.././hal/xmega -I.././crypto/ -std=gnu99 -MMD -MP -MF .dep/XMEGA_AES_driver.o.d .././hal/xmega/XMEGA_AES_driver.c -o objdir/XMEGA_AES_driver.o \n",
      ".\n",
      "Compiling C: .././hal/xmega/uart.c\n",
      "avr-gcc -c -mmcu=atxmega128d3 -I. -fpack-struct -gdwarf-2 -DSS_VER=SS_VER_1_0 -DHAL_TYPE=HAL_xmega -DPLATFORM=CWLITEXMEGA -DF_CPU=7372800UL -Os -funsigned-char -funsigned-bitfields -fshort-enums -Wall -Wstrict-prototypes -Wa,-adhlns=objdir/uart.lst -I.././simpleserial/ -I.././hal -I.././hal/xmega -I.././crypto/ -std=gnu99 -MMD -MP -MF .dep/uart.o.d .././hal/xmega/uart.c -o objdir/uart.o \n",
      ".\n",
      "Compiling C: .././hal/xmega/usart_driver.c\n",
      "avr-gcc -c -mmcu=atxmega128d3 -I. -fpack-struct -gdwarf-2 -DSS_VER=SS_VER_1_0 -DHAL_TYPE=HAL_xmega -DPLATFORM=CWLITEXMEGA -DF_CPU=7372800UL -Os -funsigned-char -funsigned-bitfields -fshort-enums -Wall -Wstrict-prototypes -Wa,-adhlns=objdir/usart_driver.lst -I.././simpleserial/ -I.././hal -I.././hal/xmega -I.././crypto/ -std=gnu99 -MMD -MP -MF .dep/usart_driver.o.d .././hal/xmega/usart_driver.c -o objdir/usart_driver.o \n",
      ".\n",
      "Compiling C: .././hal/xmega/xmega_hal.c\n",
      "avr-gcc -c -mmcu=atxmega128d3 -I. -fpack-struct -gdwarf-2 -DSS_VER=SS_VER_1_0 -DHAL_TYPE=HAL_xmega -DPLATFORM=CWLITEXMEGA -DF_CPU=7372800UL -Os -funsigned-char -funsigned-bitfields -fshort-enums -Wall -Wstrict-prototypes -Wa,-adhlns=objdir/xmega_hal.lst -I.././simpleserial/ -I.././hal -I.././hal/xmega -I.././crypto/ -std=gnu99 -MMD -MP -MF .dep/xmega_hal.o.d .././hal/xmega/xmega_hal.c -o objdir/xmega_hal.o \n",
      ".\n",
      "Linking: basic-passwdcheck-CWLITEXMEGA.elf\n",
      "avr-gcc -mmcu=atxmega128d3 -I. -fpack-struct -gdwarf-2 -DSS_VER=SS_VER_1_0 -DHAL_TYPE=HAL_xmega -DPLATFORM=CWLITEXMEGA -DF_CPU=7372800UL -Os -funsigned-char -funsigned-bitfields -fshort-enums -Wall -Wstrict-prototypes -Wa,-adhlns=objdir/basic-passwdcheck.o -I.././simpleserial/ -I.././hal -I.././hal/xmega -I.././crypto/ -std=gnu99 -MMD -MP -MF .dep/basic-passwdcheck-CWLITEXMEGA.elf.d objdir/basic-passwdcheck.o objdir/simpleserial.o objdir/XMEGA_AES_driver.o objdir/uart.o objdir/usart_driver.o objdir/xmega_hal.o --output basic-passwdcheck-CWLITEXMEGA.elf -Wl,-Map=basic-passwdcheck-CWLITEXMEGA.map,--cref   -lm  \n",
      ".\n",
      "Creating load file for Flash: basic-passwdcheck-CWLITEXMEGA.hex\n",
      "avr-objcopy -O ihex -R .eeprom -R .fuse -R .lock -R .signature basic-passwdcheck-CWLITEXMEGA.elf basic-passwdcheck-CWLITEXMEGA.hex\n",
      ".\n",
      "Creating load file for EEPROM: basic-passwdcheck-CWLITEXMEGA.eep\n",
      "avr-objcopy -j .eeprom --set-section-flags=.eeprom=\"alloc,load\" \\\n",
      "--change-section-lma .eeprom=0 --no-change-warnings -O ihex basic-passwdcheck-CWLITEXMEGA.elf basic-passwdcheck-CWLITEXMEGA.eep || exit 0\n",
      ".\n",
      "Creating Extended Listing: basic-passwdcheck-CWLITEXMEGA.lss\n",
      "avr-objdump -h -S -z basic-passwdcheck-CWLITEXMEGA.elf > basic-passwdcheck-CWLITEXMEGA.lss\n",
      ".\n",
      "Creating Symbol Table: basic-passwdcheck-CWLITEXMEGA.sym\n",
      "avr-nm -n basic-passwdcheck-CWLITEXMEGA.elf > basic-passwdcheck-CWLITEXMEGA.sym\n",
      "Size after:\n",
      "   text\t   data\t    bss\t    dec\t    hex\tfilename\n",
      "   2354\t    304\t    260\t   2918\t    b66\tbasic-passwdcheck-CWLITEXMEGA.elf\n",
      "+--------------------------------------------------------\n",
      "+ Built for platform CW-Lite XMEGA\n",
      "+--------------------------------------------------------\n"
     ]
    },
    {
     "name": "stderr",
     "output_type": "stream",
     "text": [
      ".././simpleserial/simpleserial.c: In function ‘simpleserial_get’:\n",
      ".././simpleserial/simpleserial.c:131:10: warning: variable ‘ret’ set but not used [-Wunused-but-set-variable]\n",
      "  uint8_t ret[1];\n",
      "          ^\n"
     ]
    }
   ],
   "source": [
    "%%bash -s \"$PLATFORM\" \"$CRYPTO_TARGET\"\n",
    "cd ../hardware/victims/firmware/basic-passwdcheck\n",
    "make PLATFORM=$1 CRYPTO_TARGET=$2"
   ]
  },
  {
   "cell_type": "markdown",
   "metadata": {},
   "source": [
    "## Setup"
   ]
  },
  {
   "cell_type": "markdown",
   "metadata": {},
   "source": [
    "Setup is the same as usual, except this time we'll be capturing 2000 traces."
   ]
  },
  {
   "cell_type": "code",
   "execution_count": 3,
   "metadata": {},
   "outputs": [],
   "source": [
    "%run \"Helper_Scripts/Setup_Generic.ipynb\""
   ]
  },
  {
   "cell_type": "code",
   "execution_count": 4,
   "metadata": {},
   "outputs": [],
   "source": [
    "fw_path = '../hardware/victims/firmware/basic-passwdcheck/basic-passwdcheck-{}.hex'.format(PLATFORM)\n",
    "#scope.clock.adc_src = \"clkgen_x1\"\n",
    "#scope.clock.adc_src = 'extclk_x4'"
   ]
  },
  {
   "cell_type": "code",
   "execution_count": 5,
   "metadata": {},
   "outputs": [
    {
     "name": "stdout",
     "output_type": "stream",
     "text": [
      "XMEGA Programming flash...\n",
      "XMEGA Reading flash...\n",
      "Verified flash OK, 2657 bytes\n"
     ]
    }
   ],
   "source": [
    "cw.program_target(scope, prog, fw_path)"
   ]
  },
  {
   "cell_type": "markdown",
   "metadata": {},
   "source": [
    "## Communicating With The Target"
   ]
  },
  {
   "cell_type": "markdown",
   "metadata": {},
   "source": [
    "As was mentioned at the beginning of the tutorial, the firmware we loaded onto the target implements a basic password check. After getting a `'\\n'` terminated password, the target checks it and enters an infinite loop, so before communicating with it, we'll need to reset it.\n",
    "\n",
    "We'll be doing this a lot, so we'll define a function that resets the target (this function is also available by running \"Helper_Scripts/Setup.ipynb\" as we did above):"
   ]
  },
  {
   "cell_type": "code",
   "execution_count": 6,
   "metadata": {},
   "outputs": [],
   "source": [
    "import time\n",
    "def reset_target(scope):\n",
    "    if PLATFORM == \"CW303\" or PLATFORM == \"CWLITEXMEGA\":\n",
    "        scope.io.pdic = 'low'\n",
    "        time.sleep(0.05)\n",
    "        scope.io.pdic = 'high'\n",
    "        time.sleep(0.05)\n",
    "    else:  \n",
    "        scope.io.nrst = 'low'\n",
    "        time.sleep(0.05)\n",
    "        scope.io.nrst = 'high'\n",
    "        time.sleep(0.05)"
   ]
  },
  {
   "cell_type": "markdown",
   "metadata": {},
   "source": [
    "The target sends some text to us upon starting. After running the block below, you should see some text appear. \n",
    "\n",
    "**NOTE**\n",
    "The text may appear cutoff, accompanied by a message about data loss. This means that the buffer used to store serial data (128 bytes) from the target is full. This isn't an issue here, since the text is just aesthetic, but keep this in mind if you want to do large transfers of serial data using ChipWhisperer. "
   ]
  },
  {
   "cell_type": "code",
   "execution_count": 7,
   "metadata": {},
   "outputs": [
    {
     "name": "stderr",
     "output_type": "stream",
     "text": [
      "WARNING:root:SAM3U Serial buffers OVERRUN - data loss has occurred.\n",
      "WARNING:root:SAM3U Serial buffers OVERRUN - data loss has occurred.\n"
     ]
    },
    {
     "name": "stdout",
     "output_type": "stream",
     "text": [
      "\u0000*****Safe-o-matic 3000 Booting...\n",
      "Aligning bits........[DONE]\n",
      "Checking Cesium RNG..[DONE]\n",
      "Masquerading flash...[DONE]\n",
      "Decrypti flash...[DONE]\n",
      "Decrypting database..[DONE]\n",
      "\n",
      "\n",
      "WARNING: UNAUTHORIZED ACCESS WILL BE PUNISHED\n",
      "Please enter password to continue: \n"
     ]
    }
   ],
   "source": [
    "ret = \"\"\n",
    "reset_target(scope)\n",
    "\n",
    "num_char = target.in_waiting()\n",
    "while num_char > 0:\n",
    "    ret += target.read(timeout=10)\n",
    "    time.sleep(0.05)\n",
    "    num_char = target.in_waiting()\n",
    "    \n",
    "print(ret)"
   ]
  },
  {
   "cell_type": "markdown",
   "metadata": {},
   "source": [
    "Now we can send the target a password:"
   ]
  },
  {
   "cell_type": "code",
   "execution_count": 8,
   "metadata": {},
   "outputs": [],
   "source": [
    "target.flush()\n",
    "target.write(\"h0px3\\n\")"
   ]
  },
  {
   "cell_type": "markdown",
   "metadata": {},
   "source": [
    "And get the response. We sent it the right password (hopx3), so you should see \"Access granted, Welcome!\":"
   ]
  },
  {
   "cell_type": "code",
   "execution_count": 9,
   "metadata": {},
   "outputs": [
    {
     "name": "stdout",
     "output_type": "stream",
     "text": [
      "Access granted, Welcome!\n",
      "\n"
     ]
    }
   ],
   "source": [
    "print(target.read(timeout=100))"
   ]
  },
  {
   "cell_type": "markdown",
   "metadata": {},
   "source": [
    "**tip**\n",
    "\n",
    "In real systems, you may often know one of the passwords, which is sufficient to investigate the password checking routines as we will do. You also normally have an ability to reset passwords to default. While the reset procedure would erase any data you care about, the attacker will be able to use this 'sacrificial' device to learn about possible vulnerabilities. So the assumption that we have access to the password is really just saying we have access to a password, and will use that knowledge to break the system in general."
   ]
  },
  {
   "cell_type": "markdown",
   "metadata": {},
   "source": [
    "## Recording Traces"
   ]
  },
  {
   "cell_type": "markdown",
   "metadata": {},
   "source": [
    "Now that we can communicate with our super-secure system, our next goal is to get a power trace while the target is running. To do this, we'll arm the scope just before we send our password attempt, then record the trace as we've done before."
   ]
  },
  {
   "cell_type": "code",
   "execution_count": 10,
   "metadata": {},
   "outputs": [],
   "source": [
    "if PLATFORM == \"CWNANO\":\n",
    "    scope.adc.samples = 800\n",
    "else:\n",
    "    scope.adc.samples = 2000"
   ]
  },
  {
   "cell_type": "code",
   "execution_count": 11,
   "metadata": {},
   "outputs": [
    {
     "name": "stdout",
     "output_type": "stream",
     "text": [
      "First read out of target\n",
      "START>>I!\u0004 !  \u0000  \u0000*****Safe-o-matic 3000 Booting...\n",
      "Aligning bits........[DONE]\n",
      "Checking Cesium RNG..[DONE]\n",
      "Masquerading flash...[DONE]\n",
      "Decrypting database..[DONE]\n",
      "\n",
      "\n",
      "WARNING: UNAUTHORIZED ACCESS WILL BE PUNISHED\n",
      "Please enter password to continue: <<END\n",
      "Second read out of target\n",
      "START>>Access granted, Welcome!\n",
      "<<END\n"
     ]
    }
   ],
   "source": [
    "ret = \"\"\n",
    "password_good = \"h0px3\"\n",
    "reset_target(scope)\n",
    "num_char = target.in_waiting()\n",
    "while num_char > 0:\n",
    "    ret += target.read(timeout=10)\n",
    "    time.sleep(0.01)\n",
    "    num_char = target.in_waiting()\n",
    "    \n",
    "print('First read out of target\\nSTART>>{}<<END'.format(ret))\n",
    "scope.arm()\n",
    "target.flush()\n",
    "target.write(password_good+\"\\n\")\n",
    "ret = scope.capture()\n",
    "if ret:\n",
    "    print('Timeout happened during acquisition')\n",
    "        \n",
    "trace = scope.get_last_trace()\n",
    "resp = \"\"\n",
    "num_char = target.in_waiting()\n",
    "while num_char > 0:\n",
    "    resp += target.read(timeout=10)\n",
    "    time.sleep(0.01)\n",
    "    num_char = target.in_waiting()\n",
    "\n",
    "print('Second read out of target\\nSTART>>{}<<END'.format(resp))"
   ]
  },
  {
   "cell_type": "markdown",
   "metadata": {},
   "source": [
    "Now that we have a trace, we'll use bokeh to plot it:"
   ]
  },
  {
   "cell_type": "code",
   "execution_count": 12,
   "metadata": {},
   "outputs": [
    {
     "data": {
      "text/html": [
       "\n",
       "    <div class=\"bk-root\">\n",
       "        <a href=\"https://bokeh.pydata.org\" target=\"_blank\" class=\"bk-logo bk-logo-small bk-logo-notebook\"></a>\n",
       "        <span id=\"1001\">Loading BokehJS ...</span>\n",
       "    </div>"
      ]
     },
     "metadata": {},
     "output_type": "display_data"
    },
    {
     "data": {
      "application/javascript": [
       "\n",
       "(function(root) {\n",
       "  function now() {\n",
       "    return new Date();\n",
       "  }\n",
       "\n",
       "  var force = true;\n",
       "\n",
       "  if (typeof root._bokeh_onload_callbacks === \"undefined\" || force === true) {\n",
       "    root._bokeh_onload_callbacks = [];\n",
       "    root._bokeh_is_loading = undefined;\n",
       "  }\n",
       "\n",
       "  var JS_MIME_TYPE = 'application/javascript';\n",
       "  var HTML_MIME_TYPE = 'text/html';\n",
       "  var EXEC_MIME_TYPE = 'application/vnd.bokehjs_exec.v0+json';\n",
       "  var CLASS_NAME = 'output_bokeh rendered_html';\n",
       "\n",
       "  /**\n",
       "   * Render data to the DOM node\n",
       "   */\n",
       "  function render(props, node) {\n",
       "    var script = document.createElement(\"script\");\n",
       "    node.appendChild(script);\n",
       "  }\n",
       "\n",
       "  /**\n",
       "   * Handle when an output is cleared or removed\n",
       "   */\n",
       "  function handleClearOutput(event, handle) {\n",
       "    var cell = handle.cell;\n",
       "\n",
       "    var id = cell.output_area._bokeh_element_id;\n",
       "    var server_id = cell.output_area._bokeh_server_id;\n",
       "    // Clean up Bokeh references\n",
       "    if (id != null && id in Bokeh.index) {\n",
       "      Bokeh.index[id].model.document.clear();\n",
       "      delete Bokeh.index[id];\n",
       "    }\n",
       "\n",
       "    if (server_id !== undefined) {\n",
       "      // Clean up Bokeh references\n",
       "      var cmd = \"from bokeh.io.state import curstate; print(curstate().uuid_to_server['\" + server_id + \"'].get_sessions()[0].document.roots[0]._id)\";\n",
       "      cell.notebook.kernel.execute(cmd, {\n",
       "        iopub: {\n",
       "          output: function(msg) {\n",
       "            var id = msg.content.text.trim();\n",
       "            if (id in Bokeh.index) {\n",
       "              Bokeh.index[id].model.document.clear();\n",
       "              delete Bokeh.index[id];\n",
       "            }\n",
       "          }\n",
       "        }\n",
       "      });\n",
       "      // Destroy server and session\n",
       "      var cmd = \"import bokeh.io.notebook as ion; ion.destroy_server('\" + server_id + \"')\";\n",
       "      cell.notebook.kernel.execute(cmd);\n",
       "    }\n",
       "  }\n",
       "\n",
       "  /**\n",
       "   * Handle when a new output is added\n",
       "   */\n",
       "  function handleAddOutput(event, handle) {\n",
       "    var output_area = handle.output_area;\n",
       "    var output = handle.output;\n",
       "\n",
       "    // limit handleAddOutput to display_data with EXEC_MIME_TYPE content only\n",
       "    if ((output.output_type != \"display_data\") || (!output.data.hasOwnProperty(EXEC_MIME_TYPE))) {\n",
       "      return\n",
       "    }\n",
       "\n",
       "    var toinsert = output_area.element.find(\".\" + CLASS_NAME.split(' ')[0]);\n",
       "\n",
       "    if (output.metadata[EXEC_MIME_TYPE][\"id\"] !== undefined) {\n",
       "      toinsert[toinsert.length - 1].firstChild.textContent = output.data[JS_MIME_TYPE];\n",
       "      // store reference to embed id on output_area\n",
       "      output_area._bokeh_element_id = output.metadata[EXEC_MIME_TYPE][\"id\"];\n",
       "    }\n",
       "    if (output.metadata[EXEC_MIME_TYPE][\"server_id\"] !== undefined) {\n",
       "      var bk_div = document.createElement(\"div\");\n",
       "      bk_div.innerHTML = output.data[HTML_MIME_TYPE];\n",
       "      var script_attrs = bk_div.children[0].attributes;\n",
       "      for (var i = 0; i < script_attrs.length; i++) {\n",
       "        toinsert[toinsert.length - 1].firstChild.setAttribute(script_attrs[i].name, script_attrs[i].value);\n",
       "      }\n",
       "      // store reference to server id on output_area\n",
       "      output_area._bokeh_server_id = output.metadata[EXEC_MIME_TYPE][\"server_id\"];\n",
       "    }\n",
       "  }\n",
       "\n",
       "  function register_renderer(events, OutputArea) {\n",
       "\n",
       "    function append_mime(data, metadata, element) {\n",
       "      // create a DOM node to render to\n",
       "      var toinsert = this.create_output_subarea(\n",
       "        metadata,\n",
       "        CLASS_NAME,\n",
       "        EXEC_MIME_TYPE\n",
       "      );\n",
       "      this.keyboard_manager.register_events(toinsert);\n",
       "      // Render to node\n",
       "      var props = {data: data, metadata: metadata[EXEC_MIME_TYPE]};\n",
       "      render(props, toinsert[toinsert.length - 1]);\n",
       "      element.append(toinsert);\n",
       "      return toinsert\n",
       "    }\n",
       "\n",
       "    /* Handle when an output is cleared or removed */\n",
       "    events.on('clear_output.CodeCell', handleClearOutput);\n",
       "    events.on('delete.Cell', handleClearOutput);\n",
       "\n",
       "    /* Handle when a new output is added */\n",
       "    events.on('output_added.OutputArea', handleAddOutput);\n",
       "\n",
       "    /**\n",
       "     * Register the mime type and append_mime function with output_area\n",
       "     */\n",
       "    OutputArea.prototype.register_mime_type(EXEC_MIME_TYPE, append_mime, {\n",
       "      /* Is output safe? */\n",
       "      safe: true,\n",
       "      /* Index of renderer in `output_area.display_order` */\n",
       "      index: 0\n",
       "    });\n",
       "  }\n",
       "\n",
       "  // register the mime type if in Jupyter Notebook environment and previously unregistered\n",
       "  if (root.Jupyter !== undefined) {\n",
       "    var events = require('base/js/events');\n",
       "    var OutputArea = require('notebook/js/outputarea').OutputArea;\n",
       "\n",
       "    if (OutputArea.prototype.mime_types().indexOf(EXEC_MIME_TYPE) == -1) {\n",
       "      register_renderer(events, OutputArea);\n",
       "    }\n",
       "  }\n",
       "\n",
       "  \n",
       "  if (typeof (root._bokeh_timeout) === \"undefined\" || force === true) {\n",
       "    root._bokeh_timeout = Date.now() + 5000;\n",
       "    root._bokeh_failed_load = false;\n",
       "  }\n",
       "\n",
       "  var NB_LOAD_WARNING = {'data': {'text/html':\n",
       "     \"<div style='background-color: #fdd'>\\n\"+\n",
       "     \"<p>\\n\"+\n",
       "     \"BokehJS does not appear to have successfully loaded. If loading BokehJS from CDN, this \\n\"+\n",
       "     \"may be due to a slow or bad network connection. Possible fixes:\\n\"+\n",
       "     \"</p>\\n\"+\n",
       "     \"<ul>\\n\"+\n",
       "     \"<li>re-rerun `output_notebook()` to attempt to load from CDN again, or</li>\\n\"+\n",
       "     \"<li>use INLINE resources instead, as so:</li>\\n\"+\n",
       "     \"</ul>\\n\"+\n",
       "     \"<code>\\n\"+\n",
       "     \"from bokeh.resources import INLINE\\n\"+\n",
       "     \"output_notebook(resources=INLINE)\\n\"+\n",
       "     \"</code>\\n\"+\n",
       "     \"</div>\"}};\n",
       "\n",
       "  function display_loaded() {\n",
       "    var el = document.getElementById(\"1001\");\n",
       "    if (el != null) {\n",
       "      el.textContent = \"BokehJS is loading...\";\n",
       "    }\n",
       "    if (root.Bokeh !== undefined) {\n",
       "      if (el != null) {\n",
       "        el.textContent = \"BokehJS \" + root.Bokeh.version + \" successfully loaded.\";\n",
       "      }\n",
       "    } else if (Date.now() < root._bokeh_timeout) {\n",
       "      setTimeout(display_loaded, 100)\n",
       "    }\n",
       "  }\n",
       "\n",
       "\n",
       "  function run_callbacks() {\n",
       "    try {\n",
       "      root._bokeh_onload_callbacks.forEach(function(callback) {\n",
       "        if (callback != null)\n",
       "          callback();\n",
       "      });\n",
       "    } finally {\n",
       "      delete root._bokeh_onload_callbacks\n",
       "    }\n",
       "    console.debug(\"Bokeh: all callbacks have finished\");\n",
       "  }\n",
       "\n",
       "  function load_libs(css_urls, js_urls, callback) {\n",
       "    if (css_urls == null) css_urls = [];\n",
       "    if (js_urls == null) js_urls = [];\n",
       "\n",
       "    root._bokeh_onload_callbacks.push(callback);\n",
       "    if (root._bokeh_is_loading > 0) {\n",
       "      console.debug(\"Bokeh: BokehJS is being loaded, scheduling callback at\", now());\n",
       "      return null;\n",
       "    }\n",
       "    if (js_urls == null || js_urls.length === 0) {\n",
       "      run_callbacks();\n",
       "      return null;\n",
       "    }\n",
       "    console.debug(\"Bokeh: BokehJS not loaded, scheduling load and callback at\", now());\n",
       "    root._bokeh_is_loading = css_urls.length + js_urls.length;\n",
       "\n",
       "    function on_load() {\n",
       "      root._bokeh_is_loading--;\n",
       "      if (root._bokeh_is_loading === 0) {\n",
       "        console.debug(\"Bokeh: all BokehJS libraries/stylesheets loaded\");\n",
       "        run_callbacks()\n",
       "      }\n",
       "    }\n",
       "\n",
       "    function on_error() {\n",
       "      console.error(\"failed to load \" + url);\n",
       "    }\n",
       "\n",
       "    for (var i = 0; i < css_urls.length; i++) {\n",
       "      var url = css_urls[i];\n",
       "      const element = document.createElement(\"link\");\n",
       "      element.onload = on_load;\n",
       "      element.onerror = on_error;\n",
       "      element.rel = \"stylesheet\";\n",
       "      element.type = \"text/css\";\n",
       "      element.href = url;\n",
       "      console.debug(\"Bokeh: injecting link tag for BokehJS stylesheet: \", url);\n",
       "      document.body.appendChild(element);\n",
       "    }\n",
       "\n",
       "    for (var i = 0; i < js_urls.length; i++) {\n",
       "      var url = js_urls[i];\n",
       "      var element = document.createElement('script');\n",
       "      element.onload = on_load;\n",
       "      element.onerror = on_error;\n",
       "      element.async = false;\n",
       "      element.src = url;\n",
       "      console.debug(\"Bokeh: injecting script tag for BokehJS library: \", url);\n",
       "      document.head.appendChild(element);\n",
       "    }\n",
       "  };var element = document.getElementById(\"1001\");\n",
       "  if (element == null) {\n",
       "    console.error(\"Bokeh: ERROR: autoload.js configured with elementid '1001' but no matching script tag was found. \")\n",
       "    return false;\n",
       "  }\n",
       "\n",
       "  function inject_raw_css(css) {\n",
       "    const element = document.createElement(\"style\");\n",
       "    element.appendChild(document.createTextNode(css));\n",
       "    document.body.appendChild(element);\n",
       "  }\n",
       "\n",
       "  var js_urls = [\"https://cdn.pydata.org/bokeh/release/bokeh-1.3.0.min.js\", \"https://cdn.pydata.org/bokeh/release/bokeh-widgets-1.3.0.min.js\", \"https://cdn.pydata.org/bokeh/release/bokeh-tables-1.3.0.min.js\", \"https://cdn.pydata.org/bokeh/release/bokeh-gl-1.3.0.min.js\"];\n",
       "  var css_urls = [];\n",
       "\n",
       "  var inline_js = [\n",
       "    function(Bokeh) {\n",
       "      Bokeh.set_log_level(\"info\");\n",
       "    },\n",
       "    \n",
       "    function(Bokeh) {\n",
       "      \n",
       "    },\n",
       "    function(Bokeh) {} // ensure no trailing comma for IE\n",
       "  ];\n",
       "\n",
       "  function run_inline_js() {\n",
       "    \n",
       "    if ((root.Bokeh !== undefined) || (force === true)) {\n",
       "      for (var i = 0; i < inline_js.length; i++) {\n",
       "        inline_js[i].call(root, root.Bokeh);\n",
       "      }if (force === true) {\n",
       "        display_loaded();\n",
       "      }} else if (Date.now() < root._bokeh_timeout) {\n",
       "      setTimeout(run_inline_js, 100);\n",
       "    } else if (!root._bokeh_failed_load) {\n",
       "      console.log(\"Bokeh: BokehJS failed to load within specified timeout.\");\n",
       "      root._bokeh_failed_load = true;\n",
       "    } else if (force !== true) {\n",
       "      var cell = $(document.getElementById(\"1001\")).parents('.cell').data().cell;\n",
       "      cell.output_area.append_execute_result(NB_LOAD_WARNING)\n",
       "    }\n",
       "\n",
       "  }\n",
       "\n",
       "  if (root._bokeh_is_loading === 0) {\n",
       "    console.debug(\"Bokeh: BokehJS loaded, going straight to plotting\");\n",
       "    run_inline_js();\n",
       "  } else {\n",
       "    load_libs(css_urls, js_urls, function() {\n",
       "      console.debug(\"Bokeh: BokehJS plotting callback run at\", now());\n",
       "      run_inline_js();\n",
       "    });\n",
       "  }\n",
       "}(window));"
      ],
      "application/vnd.bokehjs_load.v0+json": "\n(function(root) {\n  function now() {\n    return new Date();\n  }\n\n  var force = true;\n\n  if (typeof root._bokeh_onload_callbacks === \"undefined\" || force === true) {\n    root._bokeh_onload_callbacks = [];\n    root._bokeh_is_loading = undefined;\n  }\n\n  \n\n  \n  if (typeof (root._bokeh_timeout) === \"undefined\" || force === true) {\n    root._bokeh_timeout = Date.now() + 5000;\n    root._bokeh_failed_load = false;\n  }\n\n  var NB_LOAD_WARNING = {'data': {'text/html':\n     \"<div style='background-color: #fdd'>\\n\"+\n     \"<p>\\n\"+\n     \"BokehJS does not appear to have successfully loaded. If loading BokehJS from CDN, this \\n\"+\n     \"may be due to a slow or bad network connection. Possible fixes:\\n\"+\n     \"</p>\\n\"+\n     \"<ul>\\n\"+\n     \"<li>re-rerun `output_notebook()` to attempt to load from CDN again, or</li>\\n\"+\n     \"<li>use INLINE resources instead, as so:</li>\\n\"+\n     \"</ul>\\n\"+\n     \"<code>\\n\"+\n     \"from bokeh.resources import INLINE\\n\"+\n     \"output_notebook(resources=INLINE)\\n\"+\n     \"</code>\\n\"+\n     \"</div>\"}};\n\n  function display_loaded() {\n    var el = document.getElementById(\"1001\");\n    if (el != null) {\n      el.textContent = \"BokehJS is loading...\";\n    }\n    if (root.Bokeh !== undefined) {\n      if (el != null) {\n        el.textContent = \"BokehJS \" + root.Bokeh.version + \" successfully loaded.\";\n      }\n    } else if (Date.now() < root._bokeh_timeout) {\n      setTimeout(display_loaded, 100)\n    }\n  }\n\n\n  function run_callbacks() {\n    try {\n      root._bokeh_onload_callbacks.forEach(function(callback) {\n        if (callback != null)\n          callback();\n      });\n    } finally {\n      delete root._bokeh_onload_callbacks\n    }\n    console.debug(\"Bokeh: all callbacks have finished\");\n  }\n\n  function load_libs(css_urls, js_urls, callback) {\n    if (css_urls == null) css_urls = [];\n    if (js_urls == null) js_urls = [];\n\n    root._bokeh_onload_callbacks.push(callback);\n    if (root._bokeh_is_loading > 0) {\n      console.debug(\"Bokeh: BokehJS is being loaded, scheduling callback at\", now());\n      return null;\n    }\n    if (js_urls == null || js_urls.length === 0) {\n      run_callbacks();\n      return null;\n    }\n    console.debug(\"Bokeh: BokehJS not loaded, scheduling load and callback at\", now());\n    root._bokeh_is_loading = css_urls.length + js_urls.length;\n\n    function on_load() {\n      root._bokeh_is_loading--;\n      if (root._bokeh_is_loading === 0) {\n        console.debug(\"Bokeh: all BokehJS libraries/stylesheets loaded\");\n        run_callbacks()\n      }\n    }\n\n    function on_error() {\n      console.error(\"failed to load \" + url);\n    }\n\n    for (var i = 0; i < css_urls.length; i++) {\n      var url = css_urls[i];\n      const element = document.createElement(\"link\");\n      element.onload = on_load;\n      element.onerror = on_error;\n      element.rel = \"stylesheet\";\n      element.type = \"text/css\";\n      element.href = url;\n      console.debug(\"Bokeh: injecting link tag for BokehJS stylesheet: \", url);\n      document.body.appendChild(element);\n    }\n\n    for (var i = 0; i < js_urls.length; i++) {\n      var url = js_urls[i];\n      var element = document.createElement('script');\n      element.onload = on_load;\n      element.onerror = on_error;\n      element.async = false;\n      element.src = url;\n      console.debug(\"Bokeh: injecting script tag for BokehJS library: \", url);\n      document.head.appendChild(element);\n    }\n  };var element = document.getElementById(\"1001\");\n  if (element == null) {\n    console.error(\"Bokeh: ERROR: autoload.js configured with elementid '1001' but no matching script tag was found. \")\n    return false;\n  }\n\n  function inject_raw_css(css) {\n    const element = document.createElement(\"style\");\n    element.appendChild(document.createTextNode(css));\n    document.body.appendChild(element);\n  }\n\n  var js_urls = [\"https://cdn.pydata.org/bokeh/release/bokeh-1.3.0.min.js\", \"https://cdn.pydata.org/bokeh/release/bokeh-widgets-1.3.0.min.js\", \"https://cdn.pydata.org/bokeh/release/bokeh-tables-1.3.0.min.js\", \"https://cdn.pydata.org/bokeh/release/bokeh-gl-1.3.0.min.js\"];\n  var css_urls = [];\n\n  var inline_js = [\n    function(Bokeh) {\n      Bokeh.set_log_level(\"info\");\n    },\n    \n    function(Bokeh) {\n      \n    },\n    function(Bokeh) {} // ensure no trailing comma for IE\n  ];\n\n  function run_inline_js() {\n    \n    if ((root.Bokeh !== undefined) || (force === true)) {\n      for (var i = 0; i < inline_js.length; i++) {\n        inline_js[i].call(root, root.Bokeh);\n      }if (force === true) {\n        display_loaded();\n      }} else if (Date.now() < root._bokeh_timeout) {\n      setTimeout(run_inline_js, 100);\n    } else if (!root._bokeh_failed_load) {\n      console.log(\"Bokeh: BokehJS failed to load within specified timeout.\");\n      root._bokeh_failed_load = true;\n    } else if (force !== true) {\n      var cell = $(document.getElementById(\"1001\")).parents('.cell').data().cell;\n      cell.output_area.append_execute_result(NB_LOAD_WARNING)\n    }\n\n  }\n\n  if (root._bokeh_is_loading === 0) {\n    console.debug(\"Bokeh: BokehJS loaded, going straight to plotting\");\n    run_inline_js();\n  } else {\n    load_libs(css_urls, js_urls, function() {\n      console.debug(\"Bokeh: BokehJS plotting callback run at\", now());\n      run_inline_js();\n    });\n  }\n}(window));"
     },
     "metadata": {},
     "output_type": "display_data"
    },
    {
     "data": {
      "text/html": [
       "\n",
       "\n",
       "\n",
       "\n",
       "\n",
       "\n",
       "  <div class=\"bk-root\" id=\"a176eb2b-86ec-4351-977f-59dc01912f97\" data-root-id=\"1002\"></div>\n"
      ]
     },
     "metadata": {},
     "output_type": "display_data"
    },
    {
     "data": {
      "application/javascript": [
       "(function(root) {\n",
       "  function embed_document(root) {\n",
       "    \n",
       "  var docs_json = {\"ab0cf656-26d4-4cfe-9943-2bfe30dd830b\":{\"roots\":{\"references\":[{\"attributes\":{\"below\":[{\"id\":\"1011\",\"type\":\"LinearAxis\"}],\"center\":[{\"id\":\"1015\",\"type\":\"Grid\"},{\"id\":\"1020\",\"type\":\"Grid\"}],\"left\":[{\"id\":\"1016\",\"type\":\"LinearAxis\"}],\"renderers\":[{\"id\":\"1037\",\"type\":\"GlyphRenderer\"}],\"title\":{\"id\":\"1039\",\"type\":\"Title\"},\"toolbar\":{\"id\":\"1027\",\"type\":\"Toolbar\"},\"x_range\":{\"id\":\"1003\",\"type\":\"DataRange1d\"},\"x_scale\":{\"id\":\"1007\",\"type\":\"LinearScale\"},\"y_range\":{\"id\":\"1005\",\"type\":\"DataRange1d\"},\"y_scale\":{\"id\":\"1009\",\"type\":\"LinearScale\"}},\"id\":\"1002\",\"subtype\":\"Figure\",\"type\":\"Plot\"},{\"attributes\":{\"active_drag\":\"auto\",\"active_inspect\":\"auto\",\"active_multi\":null,\"active_scroll\":\"auto\",\"active_tap\":\"auto\",\"tools\":[{\"id\":\"1021\",\"type\":\"PanTool\"},{\"id\":\"1022\",\"type\":\"WheelZoomTool\"},{\"id\":\"1023\",\"type\":\"BoxZoomTool\"},{\"id\":\"1024\",\"type\":\"SaveTool\"},{\"id\":\"1025\",\"type\":\"ResetTool\"},{\"id\":\"1026\",\"type\":\"HelpTool\"}]},\"id\":\"1027\",\"type\":\"Toolbar\"},{\"attributes\":{},\"id\":\"1021\",\"type\":\"PanTool\"},{\"attributes\":{},\"id\":\"1022\",\"type\":\"WheelZoomTool\"},{\"attributes\":{\"overlay\":{\"id\":\"1047\",\"type\":\"BoxAnnotation\"}},\"id\":\"1023\",\"type\":\"BoxZoomTool\"},{\"attributes\":{\"callback\":null},\"id\":\"1003\",\"type\":\"DataRange1d\"},{\"attributes\":{},\"id\":\"1024\",\"type\":\"SaveTool\"},{\"attributes\":{},\"id\":\"1025\",\"type\":\"ResetTool\"},{\"attributes\":{\"data_source\":{\"id\":\"1034\",\"type\":\"ColumnDataSource\"},\"glyph\":{\"id\":\"1035\",\"type\":\"Line\"},\"hover_glyph\":null,\"muted_glyph\":null,\"nonselection_glyph\":{\"id\":\"1036\",\"type\":\"Line\"},\"selection_glyph\":null,\"view\":{\"id\":\"1038\",\"type\":\"CDSView\"}},\"id\":\"1037\",\"type\":\"GlyphRenderer\"},{\"attributes\":{},\"id\":\"1026\",\"type\":\"HelpTool\"},{\"attributes\":{\"callback\":null},\"id\":\"1005\",\"type\":\"DataRange1d\"},{\"attributes\":{\"line_alpha\":0.1,\"line_color\":\"#1f77b4\",\"x\":{\"field\":\"x\"},\"y\":{\"field\":\"y\"}},\"id\":\"1036\",\"type\":\"Line\"},{\"attributes\":{},\"id\":\"1007\",\"type\":\"LinearScale\"},{\"attributes\":{},\"id\":\"1009\",\"type\":\"LinearScale\"},{\"attributes\":{\"formatter\":{\"id\":\"1042\",\"type\":\"BasicTickFormatter\"},\"ticker\":{\"id\":\"1012\",\"type\":\"BasicTicker\"}},\"id\":\"1011\",\"type\":\"LinearAxis\"},{\"attributes\":{\"source\":{\"id\":\"1034\",\"type\":\"ColumnDataSource\"}},\"id\":\"1038\",\"type\":\"CDSView\"},{\"attributes\":{},\"id\":\"1012\",\"type\":\"BasicTicker\"},{\"attributes\":{},\"id\":\"1044\",\"type\":\"BasicTickFormatter\"},{\"attributes\":{},\"id\":\"1042\",\"type\":\"BasicTickFormatter\"},{\"attributes\":{\"ticker\":{\"id\":\"1012\",\"type\":\"BasicTicker\"}},\"id\":\"1015\",\"type\":\"Grid\"},{\"attributes\":{\"text\":\"\"},\"id\":\"1039\",\"type\":\"Title\"},{\"attributes\":{\"formatter\":{\"id\":\"1044\",\"type\":\"BasicTickFormatter\"},\"ticker\":{\"id\":\"1017\",\"type\":\"BasicTicker\"}},\"id\":\"1016\",\"type\":\"LinearAxis\"},{\"attributes\":{},\"id\":\"1045\",\"type\":\"Selection\"},{\"attributes\":{},\"id\":\"1017\",\"type\":\"BasicTicker\"},{\"attributes\":{},\"id\":\"1046\",\"type\":\"UnionRenderers\"},{\"attributes\":{\"dimension\":1,\"ticker\":{\"id\":\"1017\",\"type\":\"BasicTicker\"}},\"id\":\"1020\",\"type\":\"Grid\"},{\"attributes\":{\"bottom_units\":\"screen\",\"fill_alpha\":{\"value\":0.5},\"fill_color\":{\"value\":\"lightgrey\"},\"left_units\":\"screen\",\"level\":\"overlay\",\"line_alpha\":{\"value\":1.0},\"line_color\":{\"value\":\"black\"},\"line_dash\":[4,4],\"line_width\":{\"value\":2},\"render_mode\":\"css\",\"right_units\":\"screen\",\"top_units\":\"screen\"},\"id\":\"1047\",\"type\":\"BoxAnnotation\"},{\"attributes\":{\"callback\":null,\"data\":{\"x\":[0,1,2,3,4,5,6,7,8,9,10,11,12,13,14,15,16,17,18,19,20,21,22,23,24,25,26,27,28,29,30,31,32,33,34,35,36,37,38,39,40,41,42,43,44,45,46,47,48,49,50,51,52,53,54,55,56,57,58,59,60,61,62,63,64,65,66,67,68,69,70,71,72,73,74,75,76,77,78,79,80,81,82,83,84,85,86,87,88,89,90,91,92,93,94,95,96,97,98,99,100,101,102,103,104,105,106,107,108,109,110,111,112,113,114,115,116,117,118,119,120,121,122,123,124,125,126,127,128,129,130,131,132,133,134,135,136,137,138,139,140,141,142,143,144,145,146,147,148,149,150,151,152,153,154,155,156,157,158,159,160,161,162,163,164,165,166,167,168,169,170,171,172,173,174,175,176,177,178,179,180,181,182,183,184,185,186,187,188,189,190,191,192,193,194,195,196,197,198,199,200,201,202,203,204,205,206,207,208,209,210,211,212,213,214,215,216,217,218,219,220,221,222,223,224,225,226,227,228,229,230,231,232,233,234,235,236,237,238,239,240,241,242,243,244,245,246,247,248,249,250,251,252,253,254,255,256,257,258,259,260,261,262,263,264,265,266,267,268,269,270,271,272,273,274,275,276,277,278,279,280,281,282,283,284,285,286,287,288,289,290,291,292,293,294,295,296,297,298,299,300,301,302,303,304,305,306,307,308,309,310,311,312,313,314,315,316,317,318,319,320,321,322,323,324,325,326,327,328,329,330,331,332,333,334,335,336,337,338,339,340,341,342,343,344,345,346,347,348,349,350,351,352,353,354,355,356,357,358,359,360,361,362,363,364,365,366,367,368,369,370,371,372,373,374,375,376,377,378,379,380,381,382,383,384,385,386,387,388,389,390,391,392,393,394,395,396,397,398,399,400,401,402,403,404,405,406,407,408,409,410,411,412,413,414,415,416,417,418,419,420,421,422,423,424,425,426,427,428,429,430,431,432,433,434,435,436,437,438,439,440,441,442,443,444,445,446,447,448,449,450,451,452,453,454,455,456,457,458,459,460,461,462,463,464,465,466,467,468,469,470,471,472,473,474,475,476,477,478,479,480,481,482,483,484,485,486,487,488,489,490,491,492,493,494,495,496,497,498,499,500,501,502,503,504,505,506,507,508,509,510,511,512,513,514,515,516,517,518,519,520,521,522,523,524,525,526,527,528,529,530,531,532,533,534,535,536,537,538,539,540,541,542,543,544,545,546,547,548,549,550,551,552,553,554,555,556,557,558,559,560,561,562,563,564,565,566,567,568,569,570,571,572,573,574,575,576,577,578,579,580,581,582,583,584,585,586,587,588,589,590,591,592,593,594,595,596,597,598,599,600,601,602,603,604,605,606,607,608,609,610,611,612,613,614,615,616,617,618,619,620,621,622,623,624,625,626,627,628,629,630,631,632,633,634,635,636,637,638,639,640,641,642,643,644,645,646,647,648,649,650,651,652,653,654,655,656,657,658,659,660,661,662,663,664,665,666,667,668,669,670,671,672,673,674,675,676,677,678,679,680,681,682,683,684,685,686,687,688,689,690,691,692,693,694,695,696,697,698,699,700,701,702,703,704,705,706,707,708,709,710,711,712,713,714,715,716,717,718,719,720,721,722,723,724,725,726,727,728,729,730,731,732,733,734,735,736,737,738,739,740,741,742,743,744,745,746,747,748,749,750,751,752,753,754,755,756,757,758,759,760,761,762,763,764,765,766,767,768,769,770,771,772,773,774,775,776,777,778,779,780,781,782,783,784,785,786,787,788,789,790,791,792,793,794,795,796,797,798,799,800,801,802,803,804,805,806,807,808,809,810,811,812,813,814,815,816,817,818,819,820,821,822,823,824,825,826,827,828,829,830,831,832,833,834,835,836,837,838,839,840,841,842,843,844,845,846,847,848,849,850,851,852,853,854,855,856,857,858,859,860,861,862,863,864,865,866,867,868,869,870,871,872,873,874,875,876,877,878,879,880,881,882,883,884,885,886,887,888,889,890,891,892,893,894,895,896,897,898,899,900,901,902,903,904,905,906,907,908,909,910,911,912,913,914,915,916,917,918,919,920,921,922,923,924,925,926,927,928,929,930,931,932,933,934,935,936,937,938,939,940,941,942,943,944,945,946,947,948,949,950,951,952,953,954,955,956,957,958,959,960,961,962,963,964,965,966,967,968,969,970,971,972,973,974,975,976,977,978,979,980,981,982,983,984,985,986,987,988,989,990,991,992,993,994,995,996,997,998,999,1000,1001,1002,1003,1004,1005,1006,1007,1008,1009,1010,1011,1012,1013,1014,1015,1016,1017,1018,1019,1020,1021,1022,1023,1024,1025,1026,1027,1028,1029,1030,1031,1032,1033,1034,1035,1036,1037,1038,1039,1040,1041,1042,1043,1044,1045,1046,1047,1048,1049,1050,1051,1052,1053,1054,1055,1056,1057,1058,1059,1060,1061,1062,1063,1064,1065,1066,1067,1068,1069,1070,1071,1072,1073,1074,1075,1076,1077,1078,1079,1080,1081,1082,1083,1084,1085,1086,1087,1088,1089,1090,1091,1092,1093,1094,1095,1096,1097,1098,1099,1100,1101,1102,1103,1104,1105,1106,1107,1108,1109,1110,1111,1112,1113,1114,1115,1116,1117,1118,1119,1120,1121,1122,1123,1124,1125,1126,1127,1128,1129,1130,1131,1132,1133,1134,1135,1136,1137,1138,1139,1140,1141,1142,1143,1144,1145,1146,1147,1148,1149,1150,1151,1152,1153,1154,1155,1156,1157,1158,1159,1160,1161,1162,1163,1164,1165,1166,1167,1168,1169,1170,1171,1172,1173,1174,1175,1176,1177,1178,1179,1180,1181,1182,1183,1184,1185,1186,1187,1188,1189,1190,1191,1192,1193,1194,1195,1196,1197,1198,1199,1200,1201,1202,1203,1204,1205,1206,1207,1208,1209,1210,1211,1212,1213,1214,1215,1216,1217,1218,1219,1220,1221,1222,1223,1224,1225,1226,1227,1228,1229,1230,1231,1232,1233,1234,1235,1236,1237,1238,1239,1240,1241,1242,1243,1244,1245,1246,1247,1248,1249,1250,1251,1252,1253,1254,1255,1256,1257,1258,1259,1260,1261,1262,1263,1264,1265,1266,1267,1268,1269,1270,1271,1272,1273,1274,1275,1276,1277,1278,1279,1280,1281,1282,1283,1284,1285,1286,1287,1288,1289,1290,1291,1292,1293,1294,1295,1296,1297,1298,1299,1300,1301,1302,1303,1304,1305,1306,1307,1308,1309,1310,1311,1312,1313,1314,1315,1316,1317,1318,1319,1320,1321,1322,1323,1324,1325,1326,1327,1328,1329,1330,1331,1332,1333,1334,1335,1336,1337,1338,1339,1340,1341,1342,1343,1344,1345,1346,1347,1348,1349,1350,1351,1352,1353,1354,1355,1356,1357,1358,1359,1360,1361,1362,1363,1364,1365,1366,1367,1368,1369,1370,1371,1372,1373,1374,1375,1376,1377,1378,1379,1380,1381,1382,1383,1384,1385,1386,1387,1388,1389,1390,1391,1392,1393,1394,1395,1396,1397,1398,1399,1400,1401,1402,1403,1404,1405,1406,1407,1408,1409,1410,1411,1412,1413,1414,1415,1416,1417,1418,1419,1420,1421,1422,1423,1424,1425,1426,1427,1428,1429,1430,1431,1432,1433,1434,1435,1436,1437,1438,1439,1440,1441,1442,1443,1444,1445,1446,1447,1448,1449,1450,1451,1452,1453,1454,1455,1456,1457,1458,1459,1460,1461,1462,1463,1464,1465,1466,1467,1468,1469,1470,1471,1472,1473,1474,1475,1476,1477,1478,1479,1480,1481,1482,1483,1484,1485,1486,1487,1488,1489,1490,1491,1492,1493,1494,1495,1496,1497,1498,1499,1500,1501,1502,1503,1504,1505,1506,1507,1508,1509,1510,1511,1512,1513,1514,1515,1516,1517,1518,1519,1520,1521,1522,1523,1524,1525,1526,1527,1528,1529,1530,1531,1532,1533,1534,1535,1536,1537,1538,1539,1540,1541,1542,1543,1544,1545,1546,1547,1548,1549,1550,1551,1552,1553,1554,1555,1556,1557,1558,1559,1560,1561,1562,1563,1564,1565,1566,1567,1568,1569,1570,1571,1572,1573,1574,1575,1576,1577,1578,1579,1580,1581,1582,1583,1584,1585,1586,1587,1588,1589,1590,1591,1592,1593,1594,1595,1596,1597,1598,1599,1600,1601,1602,1603,1604,1605,1606,1607,1608,1609,1610,1611,1612,1613,1614,1615,1616,1617,1618,1619,1620,1621,1622,1623,1624,1625,1626,1627,1628,1629,1630,1631,1632,1633,1634,1635,1636,1637,1638,1639,1640,1641,1642,1643,1644,1645,1646,1647,1648,1649,1650,1651,1652,1653,1654,1655,1656,1657,1658,1659,1660,1661,1662,1663,1664,1665,1666,1667,1668,1669,1670,1671,1672,1673,1674,1675,1676,1677,1678,1679,1680,1681,1682,1683,1684,1685,1686,1687,1688,1689,1690,1691,1692,1693,1694,1695,1696,1697,1698,1699,1700,1701,1702,1703,1704,1705,1706,1707,1708,1709,1710,1711,1712,1713,1714,1715,1716,1717,1718,1719,1720,1721,1722,1723,1724,1725,1726,1727,1728,1729,1730,1731,1732,1733,1734,1735,1736,1737,1738,1739,1740,1741,1742,1743,1744,1745,1746,1747,1748,1749,1750,1751,1752,1753,1754,1755,1756,1757,1758,1759,1760,1761,1762,1763,1764,1765,1766,1767,1768,1769,1770,1771,1772,1773,1774,1775,1776,1777,1778,1779,1780,1781,1782,1783,1784,1785,1786,1787,1788,1789,1790,1791,1792,1793,1794,1795,1796,1797,1798,1799,1800,1801,1802,1803,1804,1805,1806,1807,1808,1809,1810,1811,1812,1813,1814,1815,1816,1817,1818,1819,1820,1821,1822,1823,1824,1825,1826,1827,1828,1829,1830,1831,1832,1833,1834,1835,1836,1837,1838,1839,1840,1841,1842,1843,1844,1845,1846,1847,1848,1849,1850,1851,1852,1853,1854,1855,1856,1857,1858,1859,1860,1861,1862,1863,1864,1865,1866,1867,1868,1869,1870,1871,1872,1873,1874,1875,1876,1877,1878,1879,1880,1881,1882,1883,1884,1885,1886,1887,1888,1889,1890,1891,1892,1893,1894,1895,1896,1897,1898,1899,1900,1901,1902,1903,1904,1905,1906,1907,1908,1909,1910,1911,1912,1913,1914,1915,1916,1917,1918,1919,1920,1921,1922,1923,1924,1925,1926,1927,1928,1929,1930,1931,1932,1933,1934,1935,1936,1937,1938,1939,1940,1941,1942,1943,1944,1945,1946,1947,1948,1949,1950,1951,1952,1953,1954,1955,1956,1957,1958,1959,1960,1961,1962,1963,1964,1965,1966,1967,1968,1969,1970,1971,1972,1973,1974,1975,1976,1977,1978,1979,1980,1981,1982,1983,1984,1985,1986,1987,1988,1989,1990,1991,1992,1993,1994,1995,1996,1997,1998,1999],\"y\":{\"__ndarray__\":\"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\",\"dtype\":\"float64\",\"shape\":[2000]}},\"selected\":{\"id\":\"1045\",\"type\":\"Selection\"},\"selection_policy\":{\"id\":\"1046\",\"type\":\"UnionRenderers\"}},\"id\":\"1034\",\"type\":\"ColumnDataSource\"},{\"attributes\":{\"line_color\":\"#1f77b4\",\"x\":{\"field\":\"x\"},\"y\":{\"field\":\"y\"}},\"id\":\"1035\",\"type\":\"Line\"}],\"root_ids\":[\"1002\"]},\"title\":\"Bokeh Application\",\"version\":\"1.3.0\"}};\n",
       "  var render_items = [{\"docid\":\"ab0cf656-26d4-4cfe-9943-2bfe30dd830b\",\"roots\":{\"1002\":\"a176eb2b-86ec-4351-977f-59dc01912f97\"}}];\n",
       "  root.Bokeh.embed.embed_items_notebook(docs_json, render_items);\n",
       "\n",
       "  }\n",
       "  if (root.Bokeh !== undefined) {\n",
       "    embed_document(root);\n",
       "  } else {\n",
       "    var attempts = 0;\n",
       "    var timer = setInterval(function(root) {\n",
       "      if (root.Bokeh !== undefined) {\n",
       "        embed_document(root);\n",
       "        clearInterval(timer);\n",
       "      }\n",
       "      attempts++;\n",
       "      if (attempts > 100) {\n",
       "        console.log(\"Bokeh: ERROR: Unable to run BokehJS code because BokehJS library is missing\");\n",
       "        clearInterval(timer);\n",
       "      }\n",
       "    }, 10, root)\n",
       "  }\n",
       "})(window);"
      ],
      "application/vnd.bokehjs_exec.v0+json": ""
     },
     "metadata": {
      "application/vnd.bokehjs_exec.v0+json": {
       "id": "1002"
      }
     },
     "output_type": "display_data"
    }
   ],
   "source": [
    "from bokeh.plotting import figure, show \n",
    "from bokeh.io import output_notebook\n",
    "from bokeh.models import CrosshairTool\n",
    "\n",
    "output_notebook()\n",
    "p = figure()\n",
    "x_range = range(0, len(trace))\n",
    "p.line(x_range, trace)\n",
    "show(p)"
   ]
  },
  {
   "cell_type": "markdown",
   "metadata": {},
   "source": [
    "## Timing Analysis"
   ]
  },
  {
   "cell_type": "markdown",
   "metadata": {},
   "source": [
    "Now that we can capture traces, we can begin planning our attack. First we'll make a function to guess a password and return a power trace, since we'll be repeating those steps a lot:"
   ]
  },
  {
   "cell_type": "code",
   "execution_count": 13,
   "metadata": {},
   "outputs": [],
   "source": [
    "def cap_pass_trace(pass_guess):\n",
    "    ret = \"\"\n",
    "    reset_target(scope)\n",
    "    num_char = target.in_waiting()\n",
    "    while num_char > 0:\n",
    "        ret += target.read(num_char, 10)\n",
    "        time.sleep(0.01)\n",
    "        num_char = target.in_waiting()\n",
    "\n",
    "    scope.arm()\n",
    "    target.write(pass_guess)\n",
    "    ret = scope.capture()\n",
    "    if ret:\n",
    "        print('Timeout happened during acquisition')\n",
    "\n",
    "    trace = scope.get_last_trace()\n",
    "    return trace"
   ]
  },
  {
   "cell_type": "markdown",
   "metadata": {},
   "source": [
    "Next, we'll try two different passwords and see if the power traces differ by length. We'll then plot both traces on the same figure (with the first in red and the second in blue)."
   ]
  },
  {
   "cell_type": "code",
   "execution_count": 14,
   "metadata": {},
   "outputs": [
    {
     "data": {
      "text/html": [
       "\n",
       "\n",
       "\n",
       "\n",
       "\n",
       "\n",
       "  <div class=\"bk-root\" id=\"9285a444-e409-4faa-ba3d-a31cde218221\" data-root-id=\"1102\"></div>\n"
      ]
     },
     "metadata": {},
     "output_type": "display_data"
    },
    {
     "data": {
      "application/javascript": [
       "(function(root) {\n",
       "  function embed_document(root) {\n",
       "    \n",
       "  var docs_json = {\"76337fd8-2fb2-42b1-8444-bae01a53e7e9\":{\"roots\":{\"references\":[{\"attributes\":{\"below\":[{\"id\":\"1111\",\"type\":\"LinearAxis\"}],\"center\":[{\"id\":\"1115\",\"type\":\"Grid\"},{\"id\":\"1120\",\"type\":\"Grid\"}],\"left\":[{\"id\":\"1116\",\"type\":\"LinearAxis\"}],\"renderers\":[{\"id\":\"1139\",\"type\":\"GlyphRenderer\"},{\"id\":\"1144\",\"type\":\"GlyphRenderer\"}],\"title\":{\"id\":\"1155\",\"type\":\"Title\"},\"toolbar\":{\"id\":\"1127\",\"type\":\"Toolbar\"},\"x_range\":{\"id\":\"1103\",\"type\":\"DataRange1d\"},\"x_scale\":{\"id\":\"1107\",\"type\":\"LinearScale\"},\"y_range\":{\"id\":\"1105\",\"type\":\"DataRange1d\"},\"y_scale\":{\"id\":\"1109\",\"type\":\"LinearScale\"}},\"id\":\"1102\",\"subtype\":\"Figure\",\"type\":\"Plot\"},{\"attributes\":{},\"id\":\"1117\",\"type\":\"BasicTicker\"},{\"attributes\":{\"callback\":null,\"data\":{\"x\":[0,1,2,3,4,5,6,7,8,9,10,11,12,13,14,15,16,17,18,19,20,21,22,23,24,25,26,27,28,29,30,31,32,33,34,35,36,37,38,39,40,41,42,43,44,45,46,47,48,49,50,51,52,53,54,55,56,57,58,59,60,61,62,63,64,65,66,67,68,69,70,71,72,73,74,75,76,77,78,79,80,81,82,83,84,85,86,87,88,89,90,91,92,93,94,95,96,97,98,99,100,101,102,103,104,105,106,107,108,109,110,111,112,113,114,115,116,117,118,119,120,121,122,123,124,125,126,127,128,129,130,131,132,133,134,135,136,137,138,139,140,141,142,143,144,145,146,147,148,149,150,151,152,153,154,155,156,157,158,159,160,161,162,163,164,165,166,167,168,169,170,171,172,173,174,175,176,177,178,179,180,181,182,183,184,185,186,187,188,189,190,191,192,193,194,195,196,197,198,199,200,201,202,203,204,205,206,207,208,209,210,211,212,213,214,215,216,217,218,219,220,221,222,223,224,225,226,227,228,229,230,231,232,233,234,235,236,237,238,239,240,241,242,243,244,245,246,247,248,249,250,251,252,253,254,255,256,257,258,259,260,261,262,263,264,265,266,267,268,269,270,271,272,273,274,275,276,277,278,279,280,281,282,283,284,285,286,287,288,289,290,291,292,293,294,295,296,297,298,299,300,301,302,303,304,305,306,307,308,309,310,311,312,313,314,315,316,317,318,319,320,321,322,323,324,325,326,327,328,329,330,331,332,333,334,335,336,337,338,339,340,341,342,343,344,345,346,347,348,349,350,351,352,353,354,355,356,357,358,359,360,361,362,363,364,365,366,367,368,369,370,371,372,373,374,375,376,377,378,379,380,381,382,383,384,385,386,387,388,389,390,391,392,393,394,395,396,397,398,399,400,401,402,403,404,405,406,407,408,409,410,411,412,413,414,415,416,417,418,419,420,421,422,423,424,425,426,427,428,429,430,431,432,433,434,435,436,437,438,439,440,441,442,443,444,445,446,447,448,449,450,451,452,453,454,455,456,457,458,459,460,461,462,463,464,465,466,467,468,469,470,471,472,473,474,475,476,477,478,479,480,481,482,483,484,485,486,487,488,489,490,491,492,493,494,495,496,497,498,499,500,501,502,503,504,505,506,507,508,509,510,511,512,513,514,515,516,517,518,519,520,521,522,523,524,525,526,527,528,529,530,531,532,533,534,535,536,537,538,539,540,541,542,543,544,545,546,547,548,549,550,551,552,553,554,555,556,557,558,559,560,561,562,563,564,565,566,567,568,569,570,571,572,573,574,575,576,577,578,579,580,581,582,583,584,585,586,587,588,589,590,591,592,593,594,595,596,597,598,599,600,601,602,603,604,605,606,607,608,609,610,611,612,613,614,615,616,617,618,619,620,621,622,623,624,625,626,627,628,629,630,631,632,633,634,635,636,637,638,639,640,641,642,643,644,645,646,647,648,649,650,651,652,653,654,655,656,657,658,659,660,661,662,663,664,665,666,667,668,669,670,671,672,673,674,675,676,677,678,679,680,681,682,683,684,685,686,687,688,689,690,691,692,693,694,695,696,697,698,699,700,701,702,703,704,705,706,707,708,709,710,711,712,713,714,715,716,717,718,719,720,721,722,723,724,725,726,727,728,729,730,731,732,733,734,735,736,737,738,739,740,741,742,743,744,745,746,747,748,749,750,751,752,753,754,755,756,757,758,759,760,761,762,763,764,765,766,767,768,769,770,771,772,773,774,775,776,777,778,779,780,781,782,783,784,785,786,787,788,789,790,791,792,793,794,795,796,797,798,799,800,801,802,803,804,805,806,807,808,809,810,811,812,813,814,815,816,817,818,819,820,821,822,823,824,825,826,827,828,829,830,831,832,833,834,835,836,837,838,839,840,841,842,843,844,845,846,847,848,849,850,851,852,853,854,855,856,857,858,859,860,861,862,863,864,865,866,867,868,869,870,871,872,873,874,875,876,877,878,879,880,881,882,883,884,885,886,887,888,889,890,891,892,893,894,895,896,897,898,899,900,901,902,903,904,905,906,907,908,909,910,911,912,913,914,915,916,917,918,919,920,921,922,923,924,925,926,927,928,929,930,931,932,933,934,935,936,937,938,939,940,941,942,943,944,945,946,947,948,949,950,951,952,953,954,955,956,957,958,959,960,961,962,963,964,965,966,967,968,969,970,971,972,973,974,975,976,977,978,979,980,981,982,983,984,985,986,987,988,989,990,991,992,993,994,995,996,997,998,999,1000,1001,1002,1003,1004,1005,1006,1007,1008,1009,1010,1011,1012,1013,1014,1015,1016,1017,1018,1019,1020,1021,1022,1023,1024,1025,1026,1027,1028,1029,1030,1031,1032,1033,1034,1035,1036,1037,1038,1039,1040,1041,1042,1043,1044,1045,1046,1047,1048,1049,1050,1051,1052,1053,1054,1055,1056,1057,1058,1059,1060,1061,1062,1063,1064,1065,1066,1067,1068,1069,1070,1071,1072,1073,1074,1075,1076,1077,1078,1079,1080,1081,1082,1083,1084,1085,1086,1087,1088,1089,1090,1091,1092,1093,1094,1095,1096,1097,1098,1099,1100,1101,1102,1103,1104,1105,1106,1107,1108,1109,1110,1111,1112,1113,1114,1115,1116,1117,1118,1119,1120,1121,1122,1123,1124,1125,1126,1127,1128,1129,1130,1131,1132,1133,1134,1135,1136,1137,1138,1139,1140,1141,1142,1143,1144,1145,1146,1147,1148,1149,1150,1151,1152,1153,1154,1155,1156,1157,1158,1159,1160,1161,1162,1163,1164,1165,1166,1167,1168,1169,1170,1171,1172,1173,1174,1175,1176,1177,1178,1179,1180,1181,1182,1183,1184,1185,1186,1187,1188,1189,1190,1191,1192,1193,1194,1195,1196,1197,1198,1199,1200,1201,1202,1203,1204,1205,1206,1207,1208,1209,1210,1211,1212,1213,1214,1215,1216,1217,1218,1219,1220,1221,1222,1223,1224,1225,1226,1227,1228,1229,1230,1231,1232,1233,1234,1235,1236,1237,1238,1239,1240,1241,1242,1243,1244,1245,1246,1247,1248,1249,1250,1251,1252,1253,1254,1255,1256,1257,1258,1259,1260,1261,1262,1263,1264,1265,1266,1267,1268,1269,1270,1271,1272,1273,1274,1275,1276,1277,1278,1279,1280,1281,1282,1283,1284,1285,1286,1287,1288,1289,1290,1291,1292,1293,1294,1295,1296,1297,1298,1299,1300,1301,1302,1303,1304,1305,1306,1307,1308,1309,1310,1311,1312,1313,1314,1315,1316,1317,1318,1319,1320,1321,1322,1323,1324,1325,1326,1327,1328,1329,1330,1331,1332,1333,1334,1335,1336,1337,1338,1339,1340,1341,1342,1343,1344,1345,1346,1347,1348,1349,1350,1351,1352,1353,1354,1355,1356,1357,1358,1359,1360,1361,1362,1363,1364,1365,1366,1367,1368,1369,1370,1371,1372,1373,1374,1375,1376,1377,1378,1379,1380,1381,1382,1383,1384,1385,1386,1387,1388,1389,1390,1391,1392,1393,1394,1395,1396,1397,1398,1399,1400,1401,1402,1403,1404,1405,1406,1407,1408,1409,1410,1411,1412,1413,1414,1415,1416,1417,1418,1419,1420,1421,1422,1423,1424,1425,1426,1427,1428,1429,1430,1431,1432,1433,1434,1435,1436,1437,1438,1439,1440,1441,1442,1443,1444,1445,1446,1447,1448,1449,1450,1451,1452,1453,1454,1455,1456,1457,1458,1459,1460,1461,1462,1463,1464,1465,1466,1467,1468,1469,1470,1471,1472,1473,1474,1475,1476,1477,1478,1479,1480,1481,1482,1483,1484,1485,1486,1487,1488,1489,1490,1491,1492,1493,1494,1495,1496,1497,1498,1499,1500,1501,1502,1503,1504,1505,1506,1507,1508,1509,1510,1511,1512,1513,1514,1515,1516,1517,1518,1519,1520,1521,1522,1523,1524,1525,1526,1527,1528,1529,1530,1531,1532,1533,1534,1535,1536,1537,1538,1539,1540,1541,1542,1543,1544,1545,1546,1547,1548,1549,1550,1551,1552,1553,1554,1555,1556,1557,1558,1559,1560,1561,1562,1563,1564,1565,1566,1567,1568,1569,1570,1571,1572,1573,1574,1575,1576,1577,1578,1579,1580,1581,1582,1583,1584,1585,1586,1587,1588,1589,1590,1591,1592,1593,1594,1595,1596,1597,1598,1599,1600,1601,1602,1603,1604,1605,1606,1607,1608,1609,1610,1611,1612,1613,1614,1615,1616,1617,1618,1619,1620,1621,1622,1623,1624,1625,1626,1627,1628,1629,1630,1631,1632,1633,1634,1635,1636,1637,1638,1639,1640,1641,1642,1643,1644,1645,1646,1647,1648,1649,1650,1651,1652,1653,1654,1655,1656,1657,1658,1659,1660,1661,1662,1663,1664,1665,1666,1667,1668,1669,1670,1671,1672,1673,1674,1675,1676,1677,1678,1679,1680,1681,1682,1683,1684,1685,1686,1687,1688,1689,1690,1691,1692,1693,1694,1695,1696,1697,1698,1699,1700,1701,1702,1703,1704,1705,1706,1707,1708,1709,1710,1711,1712,1713,1714,1715,1716,1717,1718,1719,1720,1721,1722,1723,1724,1725,1726,1727,1728,1729,1730,1731,1732,1733,1734,1735,1736,1737,1738,1739,1740,1741,1742,1743,1744,1745,1746,1747,1748,1749,1750,1751,1752,1753,1754,1755,1756,1757,1758,1759,1760,1761,1762,1763,1764,1765,1766,1767,1768,1769,1770,1771,1772,1773,1774,1775,1776,1777,1778,1779,1780,1781,1782,1783,1784,1785,1786,1787,1788,1789,1790,1791,1792,1793,1794,1795,1796,1797,1798,1799,1800,1801,1802,1803,1804,1805,1806,1807,1808,1809,1810,1811,1812,1813,1814,1815,1816,1817,1818,1819,1820,1821,1822,1823,1824,1825,1826,1827,1828,1829,1830,1831,1832,1833,1834,1835,1836,1837,1838,1839,1840,1841,1842,1843,1844,1845,1846,1847,1848,1849,1850,1851,1852,1853,1854,1855,1856,1857,1858,1859,1860,1861,1862,1863,1864,1865,1866,1867,1868,1869,1870,1871,1872,1873,1874,1875,1876,1877,1878,1879,1880,1881,1882,1883,1884,1885,1886,1887,1888,1889,1890,1891,1892,1893,1894,1895,1896,1897,1898,1899,1900,1901,1902,1903,1904,1905,1906,1907,1908,1909,1910,1911,1912,1913,1914,1915,1916,1917,1918,1919,1920,1921,1922,1923,1924,1925,1926,1927,1928,1929,1930,1931,1932,1933,1934,1935,1936,1937,1938,1939,1940,1941,1942,1943,1944,1945,1946,1947,1948,1949,1950,1951,1952,1953,1954,1955,1956,1957,1958,1959,1960,1961,1962,1963,1964,1965,1966,1967,1968,1969,1970,1971,1972,1973,1974,1975,1976,1977,1978,1979,1980,1981,1982,1983,1984,1985,1986,1987,1988,1989,1990,1991,1992,1993,1994,1995,1996,1997,1998,1999],\"y\":{\"__ndarray__\":\"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\",\"dtype\":\"float64\",\"shape\":[2000]}},\"selected\":{\"id\":\"1161\",\"type\":\"Selection\"},\"selection_policy\":{\"id\":\"1162\",\"type\":\"UnionRenderers\"}},\"id\":\"1136\",\"type\":\"ColumnDataSource\"},{\"attributes\":{},\"id\":\"1107\",\"type\":\"LinearScale\"},{\"attributes\":{\"line_color\":\"#1f77b4\",\"x\":{\"field\":\"x\"},\"y\":{\"field\":\"y\"}},\"id\":\"1137\",\"type\":\"Line\"},{\"attributes\":{\"callback\":null},\"id\":\"1105\",\"type\":\"DataRange1d\"},{\"attributes\":{},\"id\":\"1126\",\"type\":\"HelpTool\"},{\"attributes\":{\"overlay\":{\"id\":\"1165\",\"type\":\"BoxAnnotation\"}},\"id\":\"1123\",\"type\":\"BoxZoomTool\"},{\"attributes\":{\"callback\":null,\"data\":{\"x\":[0,1,2,3,4,5,6,7,8,9,10,11,12,13,14,15,16,17,18,19,20,21,22,23,24,25,26,27,28,29,30,31,32,33,34,35,36,37,38,39,40,41,42,43,44,45,46,47,48,49,50,51,52,53,54,55,56,57,58,59,60,61,62,63,64,65,66,67,68,69,70,71,72,73,74,75,76,77,78,79,80,81,82,83,84,85,86,87,88,89,90,91,92,93,94,95,96,97,98,99,100,101,102,103,104,105,106,107,108,109,110,111,112,113,114,115,116,117,118,119,120,121,122,123,124,125,126,127,128,129,130,131,132,133,134,135,136,137,138,139,140,141,142,143,144,145,146,147,148,149,150,151,152,153,154,155,156,157,158,159,160,161,162,163,164,165,166,167,168,169,170,171,172,173,174,175,176,177,178,179,180,181,182,183,184,185,186,187,188,189,190,191,192,193,194,195,196,197,198,199,200,201,202,203,204,205,206,207,208,209,210,211,212,213,214,215,216,217,218,219,220,221,222,223,224,225,226,227,228,229,230,231,232,233,234,235,236,237,238,239,240,241,242,243,244,245,246,247,248,249,250,251,252,253,254,255,256,257,258,259,260,261,262,263,264,265,266,267,268,269,270,271,272,273,274,275,276,277,278,279,280,281,282,283,284,285,286,287,288,289,290,291,292,293,294,295,296,297,298,299,300,301,302,303,304,305,306,307,308,309,310,311,312,313,314,315,316,317,318,319,320,321,322,323,324,325,326,327,328,329,330,331,332,333,334,335,336,337,338,339,340,341,342,343,344,345,346,347,348,349,350,351,352,353,354,355,356,357,358,359,360,361,362,363,364,365,366,367,368,369,370,371,372,373,374,375,376,377,378,379,380,381,382,383,384,385,386,387,388,389,390,391,392,393,394,395,396,397,398,399,400,401,402,403,404,405,406,407,408,409,410,411,412,413,414,415,416,417,418,419,420,421,422,423,424,425,426,427,428,429,430,431,432,433,434,435,436,437,438,439,440,441,442,443,444,445,446,447,448,449,450,451,452,453,454,455,456,457,458,459,460,461,462,463,464,465,466,467,468,469,470,471,472,473,474,475,476,477,478,479,480,481,482,483,484,485,486,487,488,489,490,491,492,493,494,495,496,497,498,499,500,501,502,503,504,505,506,507,508,509,510,511,512,513,514,515,516,517,518,519,520,521,522,523,524,525,526,527,528,529,530,531,532,533,534,535,536,537,538,539,540,541,542,543,544,545,546,547,548,549,550,551,552,553,554,555,556,557,558,559,560,561,562,563,564,565,566,567,568,569,570,571,572,573,574,575,576,577,578,579,580,581,582,583,584,585,586,587,588,589,590,591,592,593,594,595,596,597,598,599,600,601,602,603,604,605,606,607,608,609,610,611,612,613,614,615,616,617,618,619,620,621,622,623,624,625,626,627,628,629,630,631,632,633,634,635,636,637,638,639,640,641,642,643,644,645,646,647,648,649,650,651,652,653,654,655,656,657,658,659,660,661,662,663,664,665,666,667,668,669,670,671,672,673,674,675,676,677,678,679,680,681,682,683,684,685,686,687,688,689,690,691,692,693,694,695,696,697,698,699,700,701,702,703,704,705,706,707,708,709,710,711,712,713,714,715,716,717,718,719,720,721,722,723,724,725,726,727,728,729,730,731,732,733,734,735,736,737,738,739,740,741,742,743,744,745,746,747,748,749,750,751,752,753,754,755,756,757,758,759,760,761,762,763,764,765,766,767,768,769,770,771,772,773,774,775,776,777,778,779,780,781,782,783,784,785,786,787,788,789,790,791,792,793,794,795,796,797,798,799,800,801,802,803,804,805,806,807,808,809,810,811,812,813,814,815,816,817,818,819,820,821,822,823,824,825,826,827,828,829,830,831,832,833,834,835,836,837,838,839,840,841,842,843,844,845,846,847,848,849,850,851,852,853,854,855,856,857,858,859,860,861,862,863,864,865,866,867,868,869,870,871,872,873,874,875,876,877,878,879,880,881,882,883,884,885,886,887,888,889,890,891,892,893,894,895,896,897,898,899,900,901,902,903,904,905,906,907,908,909,910,911,912,913,914,915,916,917,918,919,920,921,922,923,924,925,926,927,928,929,930,931,932,933,934,935,936,937,938,939,940,941,942,943,944,945,946,947,948,949,950,951,952,953,954,955,956,957,958,959,960,961,962,963,964,965,966,967,968,969,970,971,972,973,974,975,976,977,978,979,980,981,982,983,984,985,986,987,988,989,990,991,992,993,994,995,996,997,998,999,1000,1001,1002,1003,1004,1005,1006,1007,1008,1009,1010,1011,1012,1013,1014,1015,1016,1017,1018,1019,1020,1021,1022,1023,1024,1025,1026,1027,1028,1029,1030,1031,1032,1033,1034,1035,1036,1037,1038,1039,1040,1041,1042,1043,1044,1045,1046,1047,1048,1049,1050,1051,1052,1053,1054,1055,1056,1057,1058,1059,1060,1061,1062,1063,1064,1065,1066,1067,1068,1069,1070,1071,1072,1073,1074,1075,1076,1077,1078,1079,1080,1081,1082,1083,1084,1085,1086,1087,1088,1089,1090,1091,1092,1093,1094,1095,1096,1097,1098,1099,1100,1101,1102,1103,1104,1105,1106,1107,1108,1109,1110,1111,1112,1113,1114,1115,1116,1117,1118,1119,1120,1121,1122,1123,1124,1125,1126,1127,1128,1129,1130,1131,1132,1133,1134,1135,1136,1137,1138,1139,1140,1141,1142,1143,1144,1145,1146,1147,1148,1149,1150,1151,1152,1153,1154,1155,1156,1157,1158,1159,1160,1161,1162,1163,1164,1165,1166,1167,1168,1169,1170,1171,1172,1173,1174,1175,1176,1177,1178,1179,1180,1181,1182,1183,1184,1185,1186,1187,1188,1189,1190,1191,1192,1193,1194,1195,1196,1197,1198,1199,1200,1201,1202,1203,1204,1205,1206,1207,1208,1209,1210,1211,1212,1213,1214,1215,1216,1217,1218,1219,1220,1221,1222,1223,1224,1225,1226,1227,1228,1229,1230,1231,1232,1233,1234,1235,1236,1237,1238,1239,1240,1241,1242,1243,1244,1245,1246,1247,1248,1249,1250,1251,1252,1253,1254,1255,1256,1257,1258,1259,1260,1261,1262,1263,1264,1265,1266,1267,1268,1269,1270,1271,1272,1273,1274,1275,1276,1277,1278,1279,1280,1281,1282,1283,1284,1285,1286,1287,1288,1289,1290,1291,1292,1293,1294,1295,1296,1297,1298,1299,1300,1301,1302,1303,1304,1305,1306,1307,1308,1309,1310,1311,1312,1313,1314,1315,1316,1317,1318,1319,1320,1321,1322,1323,1324,1325,1326,1327,1328,1329,1330,1331,1332,1333,1334,1335,1336,1337,1338,1339,1340,1341,1342,1343,1344,1345,1346,1347,1348,1349,1350,1351,1352,1353,1354,1355,1356,1357,1358,1359,1360,1361,1362,1363,1364,1365,1366,1367,1368,1369,1370,1371,1372,1373,1374,1375,1376,1377,1378,1379,1380,1381,1382,1383,1384,1385,1386,1387,1388,1389,1390,1391,1392,1393,1394,1395,1396,1397,1398,1399,1400,1401,1402,1403,1404,1405,1406,1407,1408,1409,1410,1411,1412,1413,1414,1415,1416,1417,1418,1419,1420,1421,1422,1423,1424,1425,1426,1427,1428,1429,1430,1431,1432,1433,1434,1435,1436,1437,1438,1439,1440,1441,1442,1443,1444,1445,1446,1447,1448,1449,1450,1451,1452,1453,1454,1455,1456,1457,1458,1459,1460,1461,1462,1463,1464,1465,1466,1467,1468,1469,1470,1471,1472,1473,1474,1475,1476,1477,1478,1479,1480,1481,1482,1483,1484,1485,1486,1487,1488,1489,1490,1491,1492,1493,1494,1495,1496,1497,1498,1499,1500,1501,1502,1503,1504,1505,1506,1507,1508,1509,1510,1511,1512,1513,1514,1515,1516,1517,1518,1519,1520,1521,1522,1523,1524,1525,1526,1527,1528,1529,1530,1531,1532,1533,1534,1535,1536,1537,1538,1539,1540,1541,1542,1543,1544,1545,1546,1547,1548,1549,1550,1551,1552,1553,1554,1555,1556,1557,1558,1559,1560,1561,1562,1563,1564,1565,1566,1567,1568,1569,1570,1571,1572,1573,1574,1575,1576,1577,1578,1579,1580,1581,1582,1583,1584,1585,1586,1587,1588,1589,1590,1591,1592,1593,1594,1595,1596,1597,1598,1599,1600,1601,1602,1603,1604,1605,1606,1607,1608,1609,1610,1611,1612,1613,1614,1615,1616,1617,1618,1619,1620,1621,1622,1623,1624,1625,1626,1627,1628,1629,1630,1631,1632,1633,1634,1635,1636,1637,1638,1639,1640,1641,1642,1643,1644,1645,1646,1647,1648,1649,1650,1651,1652,1653,1654,1655,1656,1657,1658,1659,1660,1661,1662,1663,1664,1665,1666,1667,1668,1669,1670,1671,1672,1673,1674,1675,1676,1677,1678,1679,1680,1681,1682,1683,1684,1685,1686,1687,1688,1689,1690,1691,1692,1693,1694,1695,1696,1697,1698,1699,1700,1701,1702,1703,1704,1705,1706,1707,1708,1709,1710,1711,1712,1713,1714,1715,1716,1717,1718,1719,1720,1721,1722,1723,1724,1725,1726,1727,1728,1729,1730,1731,1732,1733,1734,1735,1736,1737,1738,1739,1740,1741,1742,1743,1744,1745,1746,1747,1748,1749,1750,1751,1752,1753,1754,1755,1756,1757,1758,1759,1760,1761,1762,1763,1764,1765,1766,1767,1768,1769,1770,1771,1772,1773,1774,1775,1776,1777,1778,1779,1780,1781,1782,1783,1784,1785,1786,1787,1788,1789,1790,1791,1792,1793,1794,1795,1796,1797,1798,1799,1800,1801,1802,1803,1804,1805,1806,1807,1808,1809,1810,1811,1812,1813,1814,1815,1816,1817,1818,1819,1820,1821,1822,1823,1824,1825,1826,1827,1828,1829,1830,1831,1832,1833,1834,1835,1836,1837,1838,1839,1840,1841,1842,1843,1844,1845,1846,1847,1848,1849,1850,1851,1852,1853,1854,1855,1856,1857,1858,1859,1860,1861,1862,1863,1864,1865,1866,1867,1868,1869,1870,1871,1872,1873,1874,1875,1876,1877,1878,1879,1880,1881,1882,1883,1884,1885,1886,1887,1888,1889,1890,1891,1892,1893,1894,1895,1896,1897,1898,1899,1900,1901,1902,1903,1904,1905,1906,1907,1908,1909,1910,1911,1912,1913,1914,1915,1916,1917,1918,1919,1920,1921,1922,1923,1924,1925,1926,1927,1928,1929,1930,1931,1932,1933,1934,1935,1936,1937,1938,1939,1940,1941,1942,1943,1944,1945,1946,1947,1948,1949,1950,1951,1952,1953,1954,1955,1956,1957,1958,1959,1960,1961,1962,1963,1964,1965,1966,1967,1968,1969,1970,1971,1972,1973,1974,1975,1976,1977,1978,1979,1980,1981,1982,1983,1984,1985,1986,1987,1988,1989,1990,1991,1992,1993,1994,1995,1996,1997,1998,1999],\"y\":{\"__ndarray__\":\"AAAAAABA0z8AAAAAAEDJvwAAAAAAgKe/AAAAAAAAmL8AAAAAAMDKPwAAAAAAkNu/AAAAAADAzr8AAAAAAODGvwAAAAAAgLc/AAAAAACgzL8AAAAAAICrvwAAAAAAAKC/AAAAAADgyT8AAAAAAACOvwAAAAAAALo/AAAAAAAAtj8AAAAAAKDSPwAAAAAAALm/AAAAAACApD8AAAAAAAChPwAAAAAAwM8/AAAAAACAvb8AAAAAAACaPwAAAAAAAJE/AAAAAADgzT8AAAAAAACePwAAAAAAoME/AAAAAABAuj8AAAAAAIDSPwAAAAAAALm/AAAAAAAApz8AAAAAAICiPwAAAAAAYM8/AAAAAACAtr8AAAAAAICrPwAAAAAAAKM/AAAAAAAAzz8AAAAAAACaPwAAAAAAIMI/AAAAAAAAvD8AAAAAAPDSPwAAAAAAoNS/AAAAAABAw78AAAAAAIDAvwAAAAAAALw/AAAAAABAyr8AAAAAAACpvwAAAAAAgKO/AAAAAADAxj8AAAAAAEDLvwAAAAAAgKq/AAAAAACAqL8AAAAAAODFPwAAAAAAAL+/AAAAAAAAkz8AAAAAAACMPwAAAAAAwMs/AAAAAACgzb8AAAAAAMCyvwAAAAAAALO/AAAAAACgwj8AAAAAAMC2vwAAAAAAAKw/AAAAAACAoz8AAAAAAGDNPwAAAAAAgKE/AAAAAACgwj8AAAAAAMC6PwAAAAAA8NE/AAAAAACArD8AAAAAAMDDPwAAAAAAwLg/AAAAAABA0T8AAAAAAGDLvwAAAAAAAKu/AAAAAAAApb8AAAAAAMDFPwAAAAAAgMS/AAAAAAAAkb8AAAAAAICjvwAAAAAAwMQ/AAAAAABAwb8AAAAAAABQPwAAAAAAAJK/AAAAAADAxj8AAAAAALDVvwAAAAAA4MS/AAAAAABgwb8AAAAAAIC2PwAAAAAAQLm/AAAAAAAApT8AAAAAAACUPwAAAAAAQMo/AAAAAACAtr8AAAAAAICpPwAAAAAAgKE/AAAAAADgyz8AAAAAAACRPwAAAAAAIMA/AAAAAABAtT8AAAAAACDPPwAAAAAAAHg/AAAAAADAvz8AAAAAAMC3PwAAAAAAwNA/AAAAAABgx78AAAAAAAChvwAAAAAAAJm/AAAAAABgxT8AAAAAAODAvwAAAAAAAI4/AAAAAAAAfD8AAAAAAADJPwAAAAAAwLq/AAAAAACAoj8AAAAAAACTPwAAAAAAQMo/AAAAAADAuL8AAAAAAICjPwAAAAAAAJk/AAAAAABAyj8AAAAAAMC5vwAAAAAAgKA/AAAAAAAAlz8AAAAAAEDKPwAAAAAAwLi/AAAAAACAoz8AAAAAAACdPwAAAAAA4Mo/AAAAAAAAt78AAAAAAICmPwAAAAAAAKE/AAAAAABgyz8AAAAAAMC6vwAAAAAAAJo/AAAAAAAAkz8AAAAAAIDJPwAAAAAAwMO/AAAAAAAAjr8AAAAAAACCvwAAAAAA4MY/AAAAAAAgxr8AAAAAAICmvwAAAAAAAKq/AAAAAACgwD8AAAAAAHDYvwAAAAAAIM2/AAAAAAAAyL8AAAAAAACePwAAAAAA0NO/AAAAAADgw78AAAAAAEDAvwAAAAAAgLQ/AAAAAABAx78AAAAAAAClvwAAAAAAAJ2/AAAAAADgwz8AAAAAAADFvwAAAAAAAKy/AAAAAAAAqb8AAAAAAODAPwAAAAAAQMy/AAAAAAAAu78AAAAAAMC1vwAAAAAAALo/AAAAAACAwr8AAAAAAACgvwAAAAAAAJe/AAAAAAAgwz8AAAAAAODCvwAAAAAAgKC/AAAAAAAAl78AAAAAAGDDPwAAAAAAAMu/AAAAAABAur8AAAAAAECzvwAAAAAAgLw/AAAAAACAv78AAAAAAACOvwAAAAAAAAAAAAAAAACAxD8AAAAAAEDBvwAAAAAAgKK/AAAAAAAAmr8AAAAAAGDCPwAAAAAAYMi/AAAAAAAAub8AAAAAAIC0vwAAAAAAgLk/AAAAAADAt78AAAAAAAB4vwAAAAAAAGg/AAAAAADgxD8AAAAAAIDIvwAAAAAAQLm/AAAAAAAAtL8AAAAAAEC5PwAAAAAAAJq/AAAAAAAAsD8AAAAAAIClPwAAAAAAoMc/AAAAAAAAoj8AAAAAAIC5PwAAAAAAALI/AAAAAADAyj8AAAAAAMCwPwAAAAAAoMA/AAAAAABAuT8AAAAAAMDNPwAAAAAAAJ4/AAAAAABAuD8AAAAAAMCxPwAAAAAAIMs/AAAAAAAAsj8AAAAAAGDAPwAAAAAAALo/AAAAAAAgzT8AAAAAAACoPwAAAAAAwLo/AAAAAAAAtz8AAAAAAMDNPwAAAAAAAJk/AAAAAACAsT8AAAAAAAClPwAAAAAAgMY/AAAAAAAAnr8AAAAAAACbPwAAAAAAAIY/AAAAAADgwz8AAAAAAACTPwAAAAAAQLM/AAAAAAAApz8AAAAAAGDHPwAAAAAAAIi/AAAAAAAAnj8AAAAAAACGPwAAAAAAAMM/AAAAAADgyb8AAAAAAKDNvwAAAAAAoMe/AAAAAAAAYD8AAAAAAMDJvwAAAAAAwMS/AAAAAABgwL8AAAAAAACnPwAAAAAAALi/AAAAAABAsb8AAAAAAACsvwAAAAAAwLk/AAAAAABAxr8AAAAAAEDHvwAAAAAAQL+/AAAAAAAArz8AAAAAAIC2vwAAAAAAAKC/AAAAAAAAgr8AAAAAAMDBPwAAAAAAAI4/AAAAAAAArj8AAAAAAAClPwAAAAAAgMM/AAAAAACAoz8AAAAAAMC2PwAAAAAAQLk/AAAAAACgzD8AAAAAAEC0PwAAAAAAQLk/AAAAAADAtD8AAAAAAEDIPwAAAAAAgK4/AAAAAABAtz8AAAAAAMC1PwAAAAAA4Mc/AAAAAACApD8AAAAAAACtPwAAAAAAAK8/AAAAAADAxD8AAAAAAICwvwAAAAAAAM2/AAAAAABgwb8AAAAAAACUPwAAAAAAALu/AAAAAADAvL8AAAAAAACrvwAAAAAAQLI/AAAAAAAApb8AAAAAAAC2vwAAAAAAAJ2/AAAAAABAtj8AAAAAAODEvwAAAAAAgNG/AAAAAACAxb8AAAAAAACYvwAAAAAAwMC/AAAAAAAAwr8AAAAAAACqvwAAAAAAgK8/AAAAAAAApL8AAAAAAECxvwAAAAAAAIw/AAAAAADAvT8AAAAAAACcPwAAAAAAAJc/AAAAAAAAtD8AAAAAAIDDPwAAAAAAAJ8/AAAAAAAAqb8AAAAAAACWPwAAAAAAgLk/AAAAAAAAlT8AAAAAAACAvwAAAAAAgLE/AAAAAADAwT8AAAAAAECzPwAAAAAAgKk/AAAAAABAvz8AAAAAAIDGPwAAAAAAALY/AAAAAAAAkj8AAAAAAAC8PwAAAAAAYMU/AAAAAACAuz8AAAAAAECwPwAAAAAA4MA/AAAAAABgxT8AAAAAAAC6PwAAAAAAAKw/AAAAAADAwT8AAAAAAEDGPwAAAAAA4MA/AAAAAADAtT8AAAAAAMDDPwAAAAAAQMU/AAAAAABAuz8AAAAAAACYvwAAAAAAALg/AAAAAABgwT8AAAAAAMC1PwAAAAAAALu/AAAAAAAAjD8AAAAAAICsPwAAAAAAAK4/AAAAAAAAeL8AAAAAAEC8PwAAAAAAwME/AAAAAADAvj8AAAAAAACTPwAAAAAAwMA/AAAAAADAwz8AAAAAAMDCPwAAAAAAgK8/AAAAAABAxj8AAAAAAKDHPwAAAAAAwMU/AAAAAABAsj8AAAAAAODHPwAAAAAAYMk/AAAAAABAyD8AAAAAAACzPwAAAAAAIMY/AAAAAAAgxT8AAAAAAKDEPwAAAAAAAI4/AAAAAADAwD8AAAAAACDBPwAAAAAAQMM/AAAAAAAAlz8AAAAAAODBPwAAAAAAIMA/AAAAAABAxD8AAAAAAACfPwAAAAAAAMQ/AAAAAAAgwz8AAAAAAKDHPwAAAAAAAKs/AAAAAABgxD8AAAAAAODAPwAAAAAA4MU/AAAAAAAAcD8AAAAAAADBPwAAAAAAAL8/AAAAAACAxj8AAAAAAACmPwAAAAAAIMU/AAAAAAAgwz8AAAAAAEDJPwAAAAAAAJK/AAAAAADAwD8AAAAAAKDAPwAAAAAA4Mc/AAAAAAAAhr8AAAAAAADAPwAAAAAAgLs/AAAAAAAgxj8AAAAAAABwPwAAAAAAYMI/AAAAAABAwD8AAAAAAKDHPwAAAAAAAJA/AAAAAABgwj8AAAAAAAC+PwAAAAAAoMc/AAAAAAAAsb8AAAAAAIC4PwAAAAAAALk/AAAAAACgxT8AAAAAAIDGvwAAAAAAAGC/AAAAAAAAgD8AAAAAAIC9PwAAAAAAgKe/AAAAAABAvD8AAAAAAMC4PwAAAAAAoMc/AAAAAAAAn78AAAAAAEDAPwAAAAAAQL4/AAAAAABAyj8AAAAAAACaPwAAAAAAAMU/AAAAAACgwj8AAAAAAGDNPwAAAAAAAKI/AAAAAABgxz8AAAAAAODEPwAAAAAAwM8/AAAAAAAApD8AAAAAACDFPwAAAAAAoMA/AAAAAABAzD8AAAAAAACdvwAAAAAAgL4/AAAAAABAuT8AAAAAAGDJPwAAAAAAAJe/AAAAAACAvj8AAAAAAEC4PwAAAAAAQMk/AAAAAAAAdL8AAAAAAADCPwAAAAAAgL0/AAAAAADgyj8AAAAAAACOPwAAAAAAYMI/AAAAAABAuj8AAAAAAGDKPwAAAAAAgKC/AAAAAACAvD8AAAAAAMC0PwAAAAAAwMg/AAAAAAAAgj8AAAAAACDDPwAAAAAAwL4/AAAAAAAgzT8AAAAAAACpvwAAAAAAwLs/AAAAAADAuD8AAAAAAADLPwAAAAAAAKO/AAAAAADAuz8AAAAAAAC1PwAAAAAAwMk/AAAAAAAAo78AAAAAAMC8PwAAAAAAALc/AAAAAAAAyz8AAAAAAAB0vwAAAAAAgMA/AAAAAACAtz8AAAAAACDLPwAAAAAAgLy/AAAAAAAAsD8AAAAAAICvPwAAAAAAYMg/AAAAAABgx78AAAAAAACEvwAAAAAAAIK/AAAAAACAwD8AAAAAAEC0vwAAAAAAALU/AAAAAADAsj8AAAAAAIDJPwAAAAAAwLC/AAAAAAAAuT8AAAAAAIC1PwAAAAAA4Mo/AAAAAAAAkL8AAAAAAKDBPwAAAAAAgL0/AAAAAAAgzj8AAAAAAAAAAAAAAAAAIMM/AAAAAACAwD8AAAAAAIDPPwAAAAAAAFC/AAAAAADgwD8AAAAAAIC5PwAAAAAAQMw/AAAAAACArr8AAAAAAEC2PwAAAAAAgLE/AAAAAABAyT8AAAAAAIClvwAAAAAAwLk/AAAAAACAsz8AAAAAAADKPwAAAAAAAJ6/AAAAAABAvT8AAAAAAAC4PwAAAAAAwMs/AAAAAAAAgL8AAAAAAIC9PwAAAAAAwLQ/AAAAAACAyT8AAAAAAECwvwAAAAAAgLQ/AAAAAABAsD8AAAAAAKDIPwAAAAAAAJS/AAAAAACAvj8AAAAAAMC3PwAAAAAAgMs/AAAAAACAtb8AAAAAAMCyPwAAAAAAgLI/AAAAAACgyT8AAAAAAAC2vwAAAAAAAK0/AAAAAACApT8AAAAAAGDGPwAAAAAAgLS/AAAAAAAAsj8AAAAAAICwPwAAAAAAwMg/AAAAAAAAob8AAAAAAIC2PwAAAAAAALE/AAAAAACgyD8AAAAAACDBvwAAAAAAgKA/AAAAAACApD8AAAAAAKDGPwAAAAAA4M2/AAAAAABAsL8AAAAAAICmvwAAAAAAgLs/AAAAAABAu78AAAAAAICnPwAAAAAAgKk/AAAAAABAxj8AAAAAAIC5vwAAAAAAgKw/AAAAAABAsD8AAAAAAMDIPwAAAAAAAKG/AAAAAACAuz8AAAAAAMC5PwAAAAAAoMs/AAAAAAAAoL8AAAAAAIC8PwAAAAAAwLw/AAAAAACgzT8AAAAAAACWvwAAAAAAgLk/AAAAAADAsz8AAAAAAIDJPwAAAAAAALW/AAAAAACAqz8AAAAAAACqPwAAAAAAgMc/AAAAAACArr8AAAAAAACwPwAAAAAAAK0/AAAAAADgxz8AAAAAAACtvwAAAAAAgLM/AAAAAADAsj8AAAAAAMDJPwAAAAAAAKa/AAAAAABAsj8AAAAAAACtPwAAAAAAAMg/AAAAAAAAuL8AAAAAAICjPwAAAAAAgKM/AAAAAAAgxj8AAAAAAACrvwAAAAAAgLM/AAAAAACAsj8AAAAAAEDKPwAAAAAAIMC/AAAAAAAAnT8AAAAAAIClPwAAAAAAgMY/AAAAAABAv78AAAAAAACRPwAAAAAAAJU/AAAAAAAAxT8AAAAAAAC3vwAAAAAAAKk/AAAAAAAApz8AAAAAAKDHPwAAAAAAAKe/AAAAAACAsj8AAAAAAACtPwAAAAAAgMg/AAAAAADgw78AAAAAAABQvwAAAAAAAJA/AAAAAAAgxT8AAAAAACDPvwAAAAAAwLS/AAAAAAAArr8AAAAAAIC6PwAAAAAAIMG/AAAAAAAAkj8AAAAAAACbPwAAAAAAAMY/AAAAAADAvr8AAAAAAACiPwAAAAAAgKU/AAAAAAAgyD8AAAAAAICyvwAAAAAAwLI/AAAAAACAsT8AAAAAAKDKPwAAAAAAAK+/AAAAAAAAtz8AAAAAAIC1PwAAAAAAwMs/AAAAAAAAq78AAAAAAEC0PwAAAAAAAKw/AAAAAACgyD8AAAAAAEC7vwAAAAAAgKQ/AAAAAAAAlT8AAAAAAGDFPwAAAAAAALi/AAAAAACAqj8AAAAAAACdPwAAAAAAQMY/AAAAAADAs78AAAAAAECwPwAAAAAAAKc/AAAAAADgxz8AAAAAAACtvwAAAAAAALM/AAAAAAAApD8AAAAAAMDGPwAAAAAAALu/AAAAAAAApD8AAAAAAACOPwAAAAAAYMQ/AAAAAAAAt78AAAAAAECxPwAAAAAAAKU/AAAAAADgxj8AAAAAAKDFvwAAAAAAAIg/AAAAAAAAaD8AAAAAAIDDPwAAAAAA4MK/AAAAAAAAkz8AAAAAAAB8vwAAAAAA4MA/AAAAAACAvb8AAAAAAICqPwAAAAAAAJk/AAAAAACgxD8AAAAAAICyvwAAAAAAALQ/AAAAAAAAmT8AAAAAAMDDPwAAAAAAoMe/AAAAAAAAcD8AAAAAAACCvwAAAAAAIME/AAAAAABg0r8AAAAAAIC3vwAAAAAAwLq/AAAAAAAAqz8AAAAAAEDFvwAAAAAAAJM/AAAAAAAAcL8AAAAAAKDAPwAAAAAAwMS/AAAAAAAAlj8AAAAAAABoPwAAAAAAIME/AAAAAABAuL8AAAAAAIC0PwAAAAAAgKY/AAAAAADgxD8AAAAAAIC1vwAAAAAAwLc/AAAAAAAAsD8AAAAAAIDGPwAAAAAAQLC/AAAAAACAtz8AAAAAAICkPwAAAAAAAMI/AAAAAABAwb8AAAAAAACjPwAAAAAAAGg/AAAAAABAvj8AAAAAAMC8vwAAAAAAgKs/AAAAAAAAhj8AAAAAAEC9PwAAAAAAwLu/AAAAAACArz8AAAAAAACbPwAAAAAAAME/AAAAAABAs78AAAAAAACzPwAAAAAAAJE/AAAAAABAvj8AAAAAAMDCvwAAAAAAAJg/AAAAAAAAiL8AAAAAAIC5PwAAAAAAQLy/AAAAAACAqj8AAAAAAACTPwAAAAAAgL8/AAAAAAAgyL8AAAAAAABwvwAAAAAAAJK/AAAAAABAuT8AAAAAAGDHvwAAAAAAAIS/AAAAAACAor8AAAAAAECzPwAAAAAAoMK/AAAAAAAAmz8AAAAAAABQvwAAAAAAALs/AAAAAABAub8AAAAAAICrPwAAAAAAAII/AAAAAAAAuz8AAAAAAGDJvwAAAAAAAJe/AAAAAAAAoL8AAAAAAAC0PwAAAAAAQNK/AAAAAACAvL8AAAAAAAC9vwAAAAAAAII/AAAAAACgx78AAAAAAACCvwAAAAAAAJ+/AAAAAADAsz8AAAAAAEDHvwAAAAAAAIS/AAAAAAAAlL8AAAAAAEC3PwAAAAAAgLu/AAAAAAAApz8AAAAAAACZPwAAAAAAwL4/AAAAAAAAtr8AAAAAAECyPwAAAAAAgKk/AAAAAAAgwj8AAAAAAICyvwAAAAAAgK0/AAAAAAAAkz8AAAAAAAC7PwAAAAAAQMK/AAAAAAAAdD8AAAAAAACRvwAAAAAAQLQ/AAAAAADgwL8AAAAAAACOPwAAAAAAAIi/AAAAAACAtD8AAAAAAAC9vwAAAAAAAKE/AAAAAAAAgD8AAAAAAAC3PwAAAAAAQLq/AAAAAAAAnz8AAAAAAAB4vwAAAAAAALQ/AAAAAACgw78AAAAAAACCvwAAAAAAgKK/AAAAAACArj8AAAAAAEC7vwAAAAAAAKM/AAAAAAAAkD8AAAAAAIC5PwAAAAAAIMa/AAAAAAAAnL8AAAAAAICgvwAAAAAAQLE/AAAAAAAAxb8AAAAAAACavwAAAAAAAKW/AAAAAACAqj8AAAAAACDDvwAAAAAAAIi/AAAAAAAAl78AAAAAAECxPwAAAAAAQLm/AAAAAAAAnj8AAAAAAAAAAAAAAAAAgLM/AAAAAAAAyL8AAAAAAICovwAAAAAAgKW/AAAAAAAArT8AAAAAADDSvwAAAAAAAMO/AAAAAABAwb8AAAAAAAChvwAAAAAAwMi/AAAAAACApr8AAAAAAICmvwAAAAAAAKk/AAAAAAAAxr8AAAAAAICivwAAAAAAgKC/AAAAAACArD8AAAAAAAC7vwAAAAAAAJo/AAAAAAAAiD8AAAAAAMC4PwAAAAAAwLS/AAAAAAAApj8AAAAAAACcPwAAAAAAgLw/AAAAAACAsb8AAAAAAICkPwAAAAAAAIA/AAAAAAAAtT8AAAAAAADAvwAAAAAAAJK/AAAAAACAoL8AAAAAAICrPwAAAAAAAL2/AAAAAAAAcD8AAAAAAACUvwAAAAAAAK8/AAAAAACAvb8AAAAAAABgPwAAAAAAAJC/AAAAAABAsT8AAAAAAIC2vwAAAAAAAJE/AAAAAAAAkr8AAAAAAICtPwAAAAAAgMG/AAAAAAAAm78AAAAAAACmvwAAAAAAAKY/AAAAAAAAtr8AAAAAAACXPwAAAAAAAGg/AAAAAABAsz8AAAAAAIDDvwAAAAAAgKy/AAAAAAAAqr8AAAAAAICnPwAAAAAAgMG/AAAAAACApL8AAAAAAACvvwAAAAAAAJs/AAAAAADAwr8AAAAAAICjvwAAAAAAgKW/AAAAAACApj8AAAAAAAC4vwAAAAAAAGg/AAAAAAAAmL8AAAAAAICoPwAAAAAA4MS/AAAAAABAtL8AAAAAAACxvwAAAAAAAJw/AAAAAAAAz78AAAAAAIDGvwAAAAAAwMO/AAAAAACAq78AAAAAAEDGvwAAAAAAgK2/AAAAAACAqb8AAAAAAICgPwAAAAAAIMO/AAAAAAAArb8AAAAAAACmvwAAAAAAgKY/AAAAAAAAuL8AAAAAAACCPwAAAAAAAHw/AAAAAAAAsj8AAAAAAICyvwAAAAAAAJk/AAAAAAAAmj8AAAAAAMC4PwAAAAAAAK2/AAAAAAAAmT8AAAAAAABwPwAAAAAAgK8/AAAAAADAur8AAAAAAACevwAAAAAAAJq/AAAAAACAoz8AAAAAAIC+vwAAAAAAAJ6/AAAAAAAAor8AAAAAAACcPwAAAAAAQL6/AAAAAAAAm78AAAAAAACRvwAAAAAAgKc/AAAAAAAAtb8AAAAAAABwvwAAAAAAAIi/AAAAAACAoj8AAAAAAAC/vwAAAAAAAKW/AAAAAAAAnL8AAAAAAACaPwAAAAAAwLa/AAAAAAAAYL8AAAAAAACIPwAAAAAAgK4/AAAAAADAvb8AAAAAAICzvwAAAAAAgKG/AAAAAAAAlz8AAAAAAAC7vwAAAAAAgK6/AAAAAACAoL8AAAAAAACMPwAAAAAAgL+/AAAAAACArL8AAAAAAACZvwAAAAAAAJY/AAAAAADAtr8AAAAAAACKvwAAAAAAAGg/AAAAAACAoT8AAAAAAEC8vwAAAAAAALe/AAAAAAAApL8AAAAAAACKPwAAAAAAIMa/AAAAAACgyb8AAAAAAKDAvwAAAAAAgLK/AAAAAAAAw78AAAAAAICzvwAAAAAAAJe/AAAAAAAAkz8AAAAAAAC8vwAAAAAAQLO/AAAAAAAAjL8AAAAAAACcPwAAAAAAQLS/AAAAAAAAir8AAAAAAICiPwAAAAAAAK8/AAAAAACAqb8AAAAAAAB4PwAAAAAAgK4/AAAAAABAsz8AAAAAAIChvwAAAAAAAHg/AAAAAACApj8AAAAAAICoPwAAAAAAQLK/AAAAAAAAqr8AAAAAAABwPwAAAAAAAJA/AAAAAAAAtb8AAAAAAACjvwAAAAAAAJE/AAAAAAAAmD8AAAAAAACwvwAAAAAAAJK/AAAAAACAoT8AAAAAAAClPwAAAAAAAKK/AAAAAAAAaD8AAAAAAICnPwAAAAAAAKI/AAAAAACAsL8AAAAAAICqvwAAAAAAAIg/AAAAAAAAjj8AAAAAAICovwAAAAAAAGi/AAAAAAAArT8AAAAAAICrPwAAAAAAALC/AAAAAADAt78AAAAAAABgvwAAAAAAAIw/AAAAAACArL8AAAAAAACrvwAAAAAAAJE/AAAAAAAAiD8AAAAAAIC2vwAAAAAAgLS/AAAAAAAAUD8AAAAAAACCPwAAAAAAgLC/AAAAAAAAnL8AAAAAAACiPwAAAAAAAJE/AAAAAABAsr8AAAAAAIC9vwAAAAAAAI6/AAAAAAAAUL8AAAAAAEC6vwAAAAAA4Mm/AAAAAADAub8AAAAAAIC1vwAAAAAAAL+/AAAAAADAtL8AAAAAAACCPwAAAAAAAIY/AAAAAACAsL8AAAAAAMC1vwAAAAAAAJE/AAAAAAAAkj8AAAAAAICivwAAAAAAAIy/AAAAAABAsz8AAAAAAACuPwAAAAAAAGC/AAAAAAAAaD8AAAAAAIC5PwAAAAAAwLM/AAAAAAAAhj8AAAAAAAB4vwAAAAAAgLM/AAAAAAAAoz8AAAAAAACXvwAAAAAAwLC/AAAAAAAAoz8AAAAAAACAPwAAAAAAAJW/AAAAAAAApL8AAAAAAACuPwAAAAAAAI4/AAAAAAAAcL8AAAAAAACXvwAAAAAAgLU/AAAAAACApD8AAAAAAACbPwAAAAAAAHy/AAAAAABAtD8AAAAAAACUPwAAAAAAAIA/AAAAAABAsL8AAAAAAICrPwAAAAAAAHQ/AAAAAAAAjj8AAAAAAACavwAAAAAAQLc/AAAAAAAAoz8AAAAAAACjPwAAAAAAwLq/AAAAAACApT8AAAAAAABQPwAAAAAAAJ0/AAAAAADAtL8AAAAAAACrPwAAAAAAAIC/AAAAAAAAmT8AAAAAAEC5vwAAAAAAAKk/AAAAAAAAdL8AAAAAAICjPwAAAAAAAKO/AAAAAACAtj8AAAAAAACGPwAAAAAAALE/AAAAAAAAvb8AAAAAAICpPwAAAAAAAIS/AAAAAACArT8AAAAAAADNvwAAAAAAAKm/AAAAAACAuL8AAAAAAAB4PwAAAAAAwLi/AAAAAACArD8AAAAAAAB8vwAAAAAAQLU/AAAAAAAAur8AAAAAAACxPwAAAAAAAHg/AAAAAABAuT8AAAAAAACbvwAAAAAAQL4/AAAAAACApT8AAAAAAMDAPwAAAAAAAJm/AAAAAAAAwT8AAAAAAICtPwAAAAAAAMM/AAAAAAAAoL8AAAAAAMC7PwAAAAAAAJQ/AAAAAADAvz8AAAAAAEC0vwAAAAAAwLM/AAAAAAAAaL8AAAAAAEC6PwAAAAAAAK+/AAAAAACAtj8AAAAAAABoPwAAAAAAAL4/AAAAAAAAp78AAAAAAAC7PwAAAAAAAJE/AAAAAACgwD8AAAAAAACavwAAAAAAwLs/AAAAAAAAij8AAAAAACDAPwAAAAAAALO/AAAAAADAsz8AAAAAAACEvwAAAAAAgLw/AAAAAAAAn78AAAAAAIC9PwAAAAAAAJ8/AAAAAADAwj8AAAAAAMDAvwAAAAAAgKU/AAAAAAAAkL8AAAAAAMC7PwAAAAAAQLa/AAAAAADAsD8AAAAAAACMvwAAAAAAwLs/AAAAAAAgwL8AAAAAAAClPwAAAAAAAJe/AAAAAACAuj8AAAAAAACovwAAAAAAQLc/AAAAAAAAdD8AAAAAAAC+PwAAAAAAIMK/AAAAAACAoT8AAAAAAACUvwAAAAAAgLs/AAAAAABAz78AAAAAAACwvwAAAAAAwLu/AAAAAAAAoD8AAAAAAEDAvwAAAAAAAKQ/AAAAAAAAk78AAAAAAMC7PwAAAAAAQL+/AAAAAAAAqD8AAAAAAACIvwAAAAAAQL0/AAAAAAAAs78AAAAAAIC1PwAAAAAAAJY/AAAAAADAwT8AAAAAAICrvwAAAAAAwLg/AAAAAACAoz8AAAAAAIDDPwAAAAAAAKG/AAAAAACAuT8AAAAAAACVPwAAAAAAgME/AAAAAABAtr8AAAAAAICuPwAAAAAAAHi/AAAAAAAAvj8AAAAAAMCxvwAAAAAAwLE/AAAAAAAAUD8AAAAAAAC/PwAAAAAAAK+/AAAAAACAtD8AAAAAAACSPwAAAAAAIME/AAAAAACAob8AAAAAAAC2PwAAAAAAAIA/AAAAAABAvz8AAAAAAIC2vwAAAAAAgKk/AAAAAAAAhr8AAAAAAMC8PwAAAAAAgKq/AAAAAADAtT8AAAAAAACRPwAAAAAAYME/AAAAAAAAxL8AAAAAAAB8PwAAAAAAAJu/AAAAAAAAuz8AAAAAAIC5vwAAAAAAgKE/AAAAAAAAl78AAAAAAEC7PwAAAAAAwMK/AAAAAAAAhD8AAAAAAAChvwAAAAAAgLk/AAAAAADAsb8AAAAAAACsPwAAAAAAAIa/AAAAAAAAvj8AAAAAAIDDvwAAAAAAAIQ/AAAAAAAAnL8AAAAAAIC8PwAAAAAAQNG/AAAAAACAuL8AAAAAAMC/vwAAAAAAgKE/AAAAAAAAwb8AAAAAAACXPwAAAAAAAJm/AAAAAAAAvD8AAAAAAGDDvwAAAAAAAI4/AAAAAAAAm78AAAAAAIC9PwAAAAAAALO/AAAAAADAsz8AAAAAAACKPwAAAAAAgMI/AAAAAAAAq78AAAAAAMC5PwAAAAAAgKM/AAAAAACgxT8AAAAAAICivwAAAAAAwLg/AAAAAAAAeD8AAAAAAMDBPwAAAAAAQLu/AAAAAACAqT8AAAAAAACYvwAAAAAAwL0/AAAAAACAt78AAAAAAICtPwAAAAAAAJm/AAAAAAAAvT8AAAAAAMC1vwAAAAAAwLM/AAAAAAAAeL8AAAAAAEDAPwAAAAAAAK+/AAAAAADAtT8AAAAAAACSvwAAAAAAQLw/AAAAAABAvr8AAAAAAACpPwAAAAAAAKO/AAAAAACAtz8AAAAAAICzvwAAAAAAwLY/AAAAAAAAYL8AAAAAAIC/PwAAAAAAAMa/AAAAAAAAlT8AAAAAAICpvwAAAAAAALU/AAAAAAAAvL8AAAAAAACvPwAAAAAAgKK/AAAAAADAtj8AAAAAAIDGvwAAAAAAAI4/AAAAAACAsb8AAAAAAMCwPwAAAAAAgLe/AAAAAADAsj8AAAAAAACevwAAAAAAQLY/AAAAAADAxr8AAAAAAACIPwAAAAAAgK6/AAAAAABAsT8AAAAAANDRvwAAAAAAgLO/AAAAAABAwr8AAAAAAAB4vwAAAAAAoMa/AAAAAAAAlT8AAAAAAACuvwAAAAAAALA/AAAAAABAx78AAAAAAACRPwAAAAAAAKu/AAAAAAAAsD8AAAAAAMC6vwAAAAAAwLQ/AAAAAAAAfL8AAAAAAMC5PwAAAAAAgLO/AAAAAADAuz8AAAAAAACUPwAAAAAAgL0/AAAAAACAsL8AAAAAAAC5PwAAAAAAAHy/AAAAAABAtz8AAAAAAIC/vwAAAAAAAKs/AAAAAAAAp78AAAAAAACwPwAAAAAAwLu/AAAAAABAsD8AAAAAAAChvwAAAAAAgLE/AAAAAABAt78AAAAAAICzPwAAAAAAAJG/AAAAAABAtT8AAAAAAMCyvwAAAAAAQLU/AAAAAAAAmb8AAAAAAMCxPwAAAAAAQMG/AAAAAACAoz8AAAAAAICqvwAAAAAAgKo/AAAAAADAtb8AAAAAAAC2PwAAAAAAAHy/AAAAAAAAtj8AAAAAAGDHvwAAAAAAAIA/AAAAAAAAr78AAAAAAICqPwAAAAAAwLu/AAAAAACArT8AAAAAAACkvwAAAAAAgKs/AAAAAACgyL8AAAAAAAB4vwAAAAAAgLS/AAAAAAAAoD8AAAAAAKDAvwAAAAAAAKM/AAAAAACAr78AAAAAAACkPwAAAAAA4Mi/AAAAAAAAcL8AAAAAAMCyvwAAAAAAAKQ/AAAAAACQ078AAAAAAIC/vwAAAAAAYMa/AAAAAACAqL8AAAAAAGDHvwAAAAAAAHg/AAAAAABAsb8AAAAAAICkPwAAAAAA4MW/AAAAAAAAhD8AAAAAAACtvwAAAAAAAKo/AAAAAABAt78AAAAAAMC0PwAAAAAAAHC/AAAAAADAtj8AAAAAAIC0vwAAAAAAwLc/AAAAAAAAgj8AAAAAAIC6PwAAAAAAAK2/AAAAAABAtz8AAAAAAACEvwAAAAAAgLI/AAAAAADAv78AAAAAAACjPwAAAAAAAKi/AAAAAACAqT8AAAAAAMC5vwAAAAAAgKw/AAAAAACApb8AAAAAAACpPwAAAAAAQLq/AAAAAAAArj8AAAAAAACavwAAAAAAwLA/AAAAAADAs78AAAAAAACxPwAAAAAAAKS/AAAAAACAqD8AAAAAACDBvwAAAAAAAJo/AAAAAAAArr8AAAAAAICiPwAAAAAAQLW/AAAAAADAsD8AAAAAAACUvwAAAAAAALE/AAAAAAAgx78AAAAAAACMvwAAAAAAQLK/AAAAAAAAoD8AAAAAAEC8vwAAAAAAAKU/AAAAAAAAqL8AAAAAAAClPwAAAAAAIMe/AAAAAAAAkr8AAAAAAAC1vwAAAAAAAIQ/AAAAAAAAv78AAAAAAACdPwAAAAAAgKy/AAAAAAAAnT8AAAAAAODJvwAAAAAAgKC/AAAAAADAtr8AAAAAAACKPwAAAAAAINO/AAAAAAAgwb8AAAAAAIDGvwAAAAAAALC/AAAAAAAAxr8AAAAAAABovwAAAAAAgLK/AAAAAAAAlz8AAAAAACDEvwAAAAAAAGg/AAAAAACArL8AAAAAAACjPwAAAAAAQLa/AAAAAACArj8AAAAAAACKvwAAAAAAwLE/AAAAAAAAs78AAAAAAMCzPwAAAAAAAHg/AAAAAACAtj8AAAAAAECwvwAAAAAAQLE/AAAAAAAAlr8AAAAAAACsPwAAAAAAgL6/AAAAAAAAmD8AAAAAAICrvwAAAAAAAJo/AAAAAACAvL8AAAAAAACfPwAAAAAAgKi/AAAAAACAoD8AAAAAAMC4vwAAAAAAgKg/AAAAAAAAnb8AAAAAAACnPwAAAAAAwLG/AAAAAACArz8AAAAAAICgvwAAAAAAgKM/AAAAAADAvL8AAAAAAACaPwAAAAAAgK2/AAAAAAAAmD8AAAAAAMCzvwAAAAAAALA/AAAAAAAAkb8AAAAAAACvPwAAAAAAQMW/AAAAAAAAnb8AAAAAAEC0vwAAAAAAAJI/AAAAAACAt78AAAAAAACnPwAAAAAAgKO/AAAAAAAAoz8AAAAAAODEvwAAAAAAAJO/AAAAAADAs78AAAAAAACGPwAAAAAAQMK/AAAAAAAAcL8AAAAAAMCzvwAAAAAAAGg/AAAAAADAyb8AAAAAAICpvwAAAAAAgLi/AAAAAAAAUD8AAAAAAPDSvwAAAAAAQMO/AAAAAAAAyL8AAAAAAAC2vwAAAAAAIMa/AAAAAAAAkr8AAAAAAICzvwAAAAAAAIg/AAAAAADgw78AAAAAAACIvwAAAAAAgLK/AAAAAAAAlT8AAAAAAMC1vwAAAAAAgKs/AAAAAAAAkb8AAAAAAECwPwAAAAAAALC/AAAAAAAAsT8AAAAAAAAAAAAAAAAAQLQ/AAAAAAAAp78AAAAAAECzPwAAAAAAAJC/AAAAAAAAqz8AAAAAAMC8vwAAAAAAAIA/AAAAAAAAsL8AAAAAAACTPwAAAAAAALq/AAAAAAAAnD8AAAAAAICpvwAAAAAAAJw/AAAAAACAtr8AAAAAAIClPwAAAAAAAKG/AAAAAAAApj8AAAAAAICsvwAAAAAAALA/AAAAAACAoL8AAAAAAACePwAAAAAAgL2/AAAAAAAAiD8AAAAAAICwvwAAAAAAAJA/AAAAAABAs78AAAAAAACqPwAAAAAAAKC/AAAAAAAApz8AAAAAACDFvwAAAAAAAKW/AAAAAACAtr8AAAAAAAB4PwAAAAAAwLa/AAAAAACAoD8AAAAAAACsvwAAAAAAAJY/AAAAAABAxb8AAAAAAIClvwAAAAAAgLm/AAAAAAAAfL8AAAAAAGDBvwAAAAAAAJe/AAAAAACAt78AAAAAAACEvwAAAAAA4Ma/AAAAAAAAsL8AAAAAAIC7vwAAAAAAAIC/AAAAAACQ0L8AAAAAAMDCvwAAAAAA4Me/AAAAAAAAtb8AAAAAAADEvwAAAAAAAJe/AAAAAADAtL8AAAAAAABoPwAAAAAAAMK/AAAAAAAAlb8AAAAAAACzvwAAAAAAAJA/AAAAAAAAsr8AAAAAAICnPwAAAAAAAJu/AAAAAAAAqT8AAAAAAICpvwAAAAAAQLA/AAAAAAAAcL8AAAAAAMCxPwAAAAAAAKW/AAAAAAAArT8AAAAAAIChvwAAAAAAgKE/AAAAAADAur8AAAAAAAB4vwAAAAAAQLK/AAAAAAAAeD8AAAAAAMC3vwAAAAAAAHw/AAAAAACAsL8AAAAAAAB8PwAAAAAAQLS/AAAAAAAAnj8AAAAAAICkvwAAAAAAAJ4/AAAAAACArL8AAAAAAIClPwAAAAAAgKS/AAAAAAAAkT8AAAAAAEC5vwAAAAAAAFA/AAAAAACAr78AAAAAAABwvwAAAAAAALG/AAAAAAAApD8AAAAAAACZvwAAAAAAgKE/AAAAAADAvL8AAAAAAICnvwAAAAAAQLS/AAAAAAAAgr8AAAAAAIC1vwAAAAAAAI4/AAAAAACAp78AAAAAAACAPwAAAAAAQMC/AAAAAAAArL8AAAAAAAC4vwAAAAAAAJm/AAAAAAAAvL8AAAAAAICivwAAAAAAgLS/AAAAAAAAm78AAAAAACDAvwAAAAAAQLO/AAAAAACAtr8AAAAAAACWvwAAAAAAoMe/AAAAAACgxb8AAAAAAEDGvwAAAAAAALq/AAAAAAAgw78AAAAAAICovwAAAAAAwLC/AAAAAAAAjr8AAAAAAMC6vwAAAAAAAKa/AAAAAAAAqr8AAAAAAABgvwAAAAAAgKy/AAAAAAAAmz8AAAAAAAB4PwAAAAAAAKE/AAAAAAAAmr8AAAAAAACkPwAAAAAAAJ8/AAAAAAAAqD8AAAAAAACGvwAAAAAAgKQ/AAAAAAAAkT8AAAAAAACVPwAAAAAAAKO/AAAAAAAAhr8AAAAAAACSvwAAAAAAAHi/AAAAAACAo78AAAAAAACCPwAAAAAAAHw/AAAAAAAAAAAAAAAAAACUvwAAAAAAAIg/AAAAAAAAlj8AAAAAAACMPwAAAAAAAGA/AAAAAACAoj8AAAAAAACgPwAAAAAAAHA/AAAAAAAAlL8AAAAAAACTvwAAAAAAAHg/AAAAAAAAkL8AAAAAAABwPwAAAAAAAKA/AAAAAACArD8AAAAAAACXPwAAAAAAAIC/AAAAAAAAt78AAAAAAACZvwAAAAAAAKK/AAAAAAAAjr8AAAAAAACRvwAAAAAAAJk/AAAAAAAAlb8AAAAAAABovwAAAAAAALS/AAAAAAAAiL8AAAAAAACkvwAAAAAAAGg/AAAAAACAr78AAAAAAACAvwAAAAAAgKu/AAAAAAAAaD8AAAAAAEC5vwAAAAAAAIa/AAAAAACApL8AAAAAAACOPwAAAAAAYMe/AAAAAADAtr8AAAAAAEC+vwAAAAAAAJm/AAAAAACArL8AAAAAAACXPwAAAAAAAJq/AAAAAACAqj8AAAAAAACtvwAAAAAAgKA/AAAAAAAAjr8AAAAAAECyPwAAAAAAAIQ/AAAAAAAAtj8AAAAAAACWPwAAAAAAgLk/AAAAAAAAmT8AAAAAAEC7PwAAAAAAAKU/AAAAAABgwD8AAAAAAAChPwAAAAAAgLg/AAAAAAAAdD8AAAAAAAC7PwAAAAAAAJq/AAAAAACArT8AAAAAAACSvwAAAAAAwLk/AAAAAAAAgL8AAAAAAICvPwAAAAAAAJK/AAAAAACAuz8AAAAAAABwvwAAAAAAALU/AAAAAAAAUD8AAAAAAGDAPwAAAAAAAJE/AAAAAACAtD8AAAAAAACQvwAAAAAAQL4/AAAAAAAAor8AAAAAAICrPwAAAAAAAJ6/AAAAAAAAvj8AAAAAAABgvwAAAAAAwLU/AAAAAAAAUD8AAAAAAEDCPwAAAAAAgLi/AAAAAAAAlz8AAAAAAACkvwAAAAAAQLw/AAAAAAAAjL8AAAAAAMCyPwAAAAAAAJC/AAAAAAAAwT8AAAAAAAC0vwAAAAAAAJ8/AAAAAAAAqr8AAAAAAMC9PwAAAAAAQLO/AAAAAAAAmT8AAAAAAICtvwAAAAAAQLw/AAAAAABAu78AAAAAAACSPwAAAAAAAKu/AAAAAADAvj8AAAAAAIDKvwAAAAAAALO/AAAAAADAwL8AAAAAAICvPwAAAAAAgLG/AAAAAAAAoz8AAAAAAICivwAAAAAA4ME/AAAAAADAs78AAAAAAAClPwAAAAAAAJ2/AAAAAAAgwz8AAAAAAACQvwAAAAAAALY/AAAAAAAAeD8AAAAAAMDGPwAAAAAAAIA/AAAAAADAvD8AAAAAAACePwAAAAAAQMg/AAAAAAAAkD8AAAAAAMC4PwAAAAAAAFC/AAAAAABAxj8AAAAAAAClvwAAAAAAAK0/AAAAAAAAnL8AAAAAAODCPwAAAAAAAJm/AAAAAADAsD8AAAAAAACZvwAAAAAAIMQ/AAAAAAAAjL8AAAAAAMC0PwAAAAAAAIC/AAAAAADAxT8AAAAAAACIPwAAAAAAwLU/AAAAAAAAjL8AAAAAAODEPwAAAAAAgK2/AAAAAAAAnj8AAAAAAACovwAAAAAAwME/AAAAAAAAkr8AAAAAAECyPwAAAAAAAHi/AAAAAADgxT8AAAAAAEC9vwAAAAAAAHA/AAAAAACAqL8AAAAAAMDBPwAAAAAAAJO/AAAAAACArj8AAAAAAACTvwAAAAAAQMQ/AAAAAABAvr8AAAAAAACKvwAAAAAAgLC/AAAAAAAAwD8AAAAAAMC7vwAAAAAAAJG/AAAAAACAs78AAAAAAIC8PwAAAAAA4MK/AAAAAACAoL8AAAAAAMCxvwAAAAAAQMA/AAAAAABAzL8AAAAAAEC7vwAAAAAAIMO/AAAAAACArz8AAAAAAAC6vwAAAAAAAHC/AAAAAACAqb8AAAAAACDCPwAAAAAAQLm/AAAAAAAAAAAAAAAAAICmvwAAAAAAQMM/AAAAAAAAmL8AAAAAAICvPwAAAAAAAGA/AAAAAADgxz8AAAAAAABQvwAAAAAAwLQ/AAAAAAAAlj8AAAAAACDKPwAAAAAAAGg/AAAAAABAsj8AAAAAAAB8vwAAAAAAwMY/AAAAAAAAsL8AAAAAAACYPwAAAAAAAKW/AAAAAADAwz8AAAAAAIClvwAAAAAAgKM/AAAAAACAob8AAAAAAKDDPwAAAAAAgKC/AAAAAAAArD8AAAAAAACTvwAAAAAAQMY/AAAAAAAAkb8AAAAAAICrPwAAAAAAAKS/AAAAAACgwz8AAAAAAEC1vwAAAAAAAIY/AAAAAACAr78AAAAAAODBPwAAAAAAAKC/AAAAAAAArj8AAAAAAACavwAAAAAA4MU/AAAAAADgwL8AAAAAAACKvwAAAAAAgLG/AAAAAACgwT8AAAAAAAClvwAAAAAAgKc/AAAAAACApr8AAAAAAGDDPwAAAAAAwMG/AAAAAAAAkr8AAAAAAAC2vwAAAAAAQL8/AAAAAAAAvr8AAAAAAACCvwAAAAAAALe/AAAAAABAvT8AAAAAAEDEvwAAAAAAAJm/AAAAAACAtb8AAAAAAAC+PwAAAAAAsNC/AAAAAADAvb8AAAAAACDGvwAAAAAAAKg/AAAAAADAvb8AAAAAAAB8PwAAAAAAQLK/AAAAAACAvz8AAAAAAIC/vwAAAAAAAIY/AAAAAABAsL8AAAAAAADBPwAAAAAAAKK/AAAAAABAtD8AAAAAAACUvwAAAAAAIMU/AAAAAAAAl78AAAAAAIC4PwAAAAAAAGg/AAAAAABAxz8AAAAAAACOvwAAAAAAwLM/AAAAAAAAnr8AAAAAAGDCPwAAAAAAgLW/AAAAAACAoT8AAAAAAICvvwAAAAAAAL8/AAAAAADAsL8AAAAAAICnPwAAAAAAAKy/AAAAAAAAvz8AAAAAAICxvwAAAAAAgKs/AAAAAACAp78AAAAAAMC/PwAAAAAAgKe/AAAAAAAArT8AAAAAAACtvwAAAAAAgL0/AAAAAACAtr8AAAAAAACePwAAAAAAwLG/AAAAAACAuT8AAAAAAACkvwAAAAAAwLM/AAAAAAAAnL8AAAAAAKDBPwAAAAAAQMK/AAAAAAAAcL8AAAAAAAC2vwAAAAAAALg/AAAAAACArL8AAAAAAICsPwAAAAAAgKm/AAAAAAAAvT8AAAAAAKDDvwAAAAAAAJi/AAAAAABAur8AAAAAAICzPwAAAAAAQL+/AAAAAAAAUL8AAAAAAIC4vwAAAAAAQLM/AAAAAAAgyL8AAAAAAICkvwAAAAAAwLu/AAAAAABAsj8AAAAAACDRvwAAAAAAQL+/AAAAAADAx78AAAAAAABoPwAAAAAAIMK/AAAAAAAAcL8AAAAAAIC1vwAAAAAAwLU/AAAAAABAwb8AAAAAAAAAAAAAAAAAwLO/AAAAAADAtj8AAAAAAACvvwAAAAAAALA/AAAAAAAAoL8AAAAAAKDAPwAAAAAAAKO/AAAAAAAAtj8AAAAAAACIvwAAAAAA4MI/AAAAAAAAmL8AAAAAAICzPwAAAAAAAKG/AAAAAACAvj8AAAAAAMC0vwAAAAAAAJg/AAAAAACAsb8AAAAAAIC3Pw==\",\"dtype\":\"float64\",\"shape\":[2000]}},\"selected\":{\"id\":\"1163\",\"type\":\"Selection\"},\"selection_policy\":{\"id\":\"1164\",\"type\":\"UnionRenderers\"}},\"id\":\"1141\",\"type\":\"ColumnDataSource\"},{\"attributes\":{},\"id\":\"1109\",\"type\":\"LinearScale\"},{\"attributes\":{},\"id\":\"1163\",\"type\":\"Selection\"},{\"attributes\":{\"dimension\":1,\"ticker\":{\"id\":\"1117\",\"type\":\"BasicTicker\"}},\"id\":\"1120\",\"type\":\"Grid\"},{\"attributes\":{\"data_source\":{\"id\":\"1136\",\"type\":\"ColumnDataSource\"},\"glyph\":{\"id\":\"1137\",\"type\":\"Line\"},\"hover_glyph\":null,\"muted_glyph\":null,\"nonselection_glyph\":{\"id\":\"1138\",\"type\":\"Line\"},\"selection_glyph\":null,\"view\":{\"id\":\"1140\",\"type\":\"CDSView\"}},\"id\":\"1139\",\"type\":\"GlyphRenderer\"},{\"attributes\":{},\"id\":\"1134\",\"type\":\"CrosshairTool\"},{\"attributes\":{\"source\":{\"id\":\"1136\",\"type\":\"ColumnDataSource\"}},\"id\":\"1140\",\"type\":\"CDSView\"},{\"attributes\":{\"formatter\":{\"id\":\"1158\",\"type\":\"BasicTickFormatter\"},\"ticker\":{\"id\":\"1112\",\"type\":\"BasicTicker\"}},\"id\":\"1111\",\"type\":\"LinearAxis\"},{\"attributes\":{},\"id\":\"1121\",\"type\":\"PanTool\"},{\"attributes\":{},\"id\":\"1112\",\"type\":\"BasicTicker\"},{\"attributes\":{\"active_drag\":\"auto\",\"active_inspect\":\"auto\",\"active_multi\":null,\"active_scroll\":\"auto\",\"active_tap\":\"auto\",\"tools\":[{\"id\":\"1121\",\"type\":\"PanTool\"},{\"id\":\"1122\",\"type\":\"WheelZoomTool\"},{\"id\":\"1123\",\"type\":\"BoxZoomTool\"},{\"id\":\"1124\",\"type\":\"SaveTool\"},{\"id\":\"1125\",\"type\":\"ResetTool\"},{\"id\":\"1126\",\"type\":\"HelpTool\"},{\"id\":\"1134\",\"type\":\"CrosshairTool\"}]},\"id\":\"1127\",\"type\":\"Toolbar\"},{\"attributes\":{\"formatter\":{\"id\":\"1160\",\"type\":\"BasicTickFormatter\"},\"ticker\":{\"id\":\"1117\",\"type\":\"BasicTicker\"}},\"id\":\"1116\",\"type\":\"LinearAxis\"},{\"attributes\":{\"line_color\":\"red\",\"x\":{\"field\":\"x\"},\"y\":{\"field\":\"y\"}},\"id\":\"1142\",\"type\":\"Line\"},{\"attributes\":{\"text\":\"\"},\"id\":\"1155\",\"type\":\"Title\"},{\"attributes\":{\"ticker\":{\"id\":\"1112\",\"type\":\"BasicTicker\"}},\"id\":\"1115\",\"type\":\"Grid\"},{\"attributes\":{\"line_alpha\":0.1,\"line_color\":\"#1f77b4\",\"x\":{\"field\":\"x\"},\"y\":{\"field\":\"y\"}},\"id\":\"1143\",\"type\":\"Line\"},{\"attributes\":{\"data_source\":{\"id\":\"1141\",\"type\":\"ColumnDataSource\"},\"glyph\":{\"id\":\"1142\",\"type\":\"Line\"},\"hover_glyph\":null,\"muted_glyph\":null,\"nonselection_glyph\":{\"id\":\"1143\",\"type\":\"Line\"},\"selection_glyph\":null,\"view\":{\"id\":\"1145\",\"type\":\"CDSView\"}},\"id\":\"1144\",\"type\":\"GlyphRenderer\"},{\"attributes\":{},\"id\":\"1125\",\"type\":\"ResetTool\"},{\"attributes\":{\"source\":{\"id\":\"1141\",\"type\":\"ColumnDataSource\"}},\"id\":\"1145\",\"type\":\"CDSView\"},{\"attributes\":{},\"id\":\"1158\",\"type\":\"BasicTickFormatter\"},{\"attributes\":{},\"id\":\"1122\",\"type\":\"WheelZoomTool\"},{\"attributes\":{},\"id\":\"1160\",\"type\":\"BasicTickFormatter\"},{\"attributes\":{},\"id\":\"1162\",\"type\":\"UnionRenderers\"},{\"attributes\":{\"line_alpha\":0.1,\"line_color\":\"#1f77b4\",\"x\":{\"field\":\"x\"},\"y\":{\"field\":\"y\"}},\"id\":\"1138\",\"type\":\"Line\"},{\"attributes\":{},\"id\":\"1164\",\"type\":\"UnionRenderers\"},{\"attributes\":{\"bottom_units\":\"screen\",\"fill_alpha\":{\"value\":0.5},\"fill_color\":{\"value\":\"lightgrey\"},\"left_units\":\"screen\",\"level\":\"overlay\",\"line_alpha\":{\"value\":1.0},\"line_color\":{\"value\":\"black\"},\"line_dash\":[4,4],\"line_width\":{\"value\":2},\"render_mode\":\"css\",\"right_units\":\"screen\",\"top_units\":\"screen\"},\"id\":\"1165\",\"type\":\"BoxAnnotation\"},{\"attributes\":{},\"id\":\"1124\",\"type\":\"SaveTool\"},{\"attributes\":{},\"id\":\"1161\",\"type\":\"Selection\"},{\"attributes\":{\"callback\":null},\"id\":\"1103\",\"type\":\"DataRange1d\"}],\"root_ids\":[\"1102\"]},\"title\":\"Bokeh Application\",\"version\":\"1.3.0\"}};\n",
       "  var render_items = [{\"docid\":\"76337fd8-2fb2-42b1-8444-bae01a53e7e9\",\"roots\":{\"1102\":\"9285a444-e409-4faa-ba3d-a31cde218221\"}}];\n",
       "  root.Bokeh.embed.embed_items_notebook(docs_json, render_items);\n",
       "\n",
       "  }\n",
       "  if (root.Bokeh !== undefined) {\n",
       "    embed_document(root);\n",
       "  } else {\n",
       "    var attempts = 0;\n",
       "    var timer = setInterval(function(root) {\n",
       "      if (root.Bokeh !== undefined) {\n",
       "        embed_document(root);\n",
       "        clearInterval(timer);\n",
       "      }\n",
       "      attempts++;\n",
       "      if (attempts > 100) {\n",
       "        console.log(\"Bokeh: ERROR: Unable to run BokehJS code because BokehJS library is missing\");\n",
       "        clearInterval(timer);\n",
       "      }\n",
       "    }, 10, root)\n",
       "  }\n",
       "})(window);"
      ],
      "application/vnd.bokehjs_exec.v0+json": ""
     },
     "metadata": {
      "application/vnd.bokehjs_exec.v0+json": {
       "id": "1102"
      }
     },
     "output_type": "display_data"
    }
   ],
   "source": [
    "trace = cap_pass_trace(\"\\n\")\n",
    "new_trace = cap_pass_trace(\"h\\n\")\n",
    "x_range = range(0, len(new_trace))\n",
    "p = figure()\n",
    "p.add_tools(CrosshairTool())\n",
    "p.line(x_range, new_trace)\n",
    "p.line(x_range, trace, line_color='red')\n",
    "show(p)"
   ]
  },
  {
   "cell_type": "markdown",
   "metadata": {},
   "source": [
    "Another test to demonstrate a 5 char bad password with a good password."
   ]
  },
  {
   "cell_type": "code",
   "execution_count": 15,
   "metadata": {},
   "outputs": [
    {
     "data": {
      "text/html": [
       "\n",
       "\n",
       "\n",
       "\n",
       "\n",
       "\n",
       "  <div class=\"bk-root\" id=\"4431e827-b91d-4c97-a780-ae6771399a64\" data-root-id=\"1232\"></div>\n"
      ]
     },
     "metadata": {},
     "output_type": "display_data"
    },
    {
     "data": {
      "application/javascript": [
       "(function(root) {\n",
       "  function embed_document(root) {\n",
       "    \n",
       "  var docs_json = {\"c6352ea0-e703-4a8f-95a6-fd400eda93e0\":{\"roots\":{\"references\":[{\"attributes\":{\"below\":[{\"id\":\"1241\",\"type\":\"LinearAxis\"}],\"center\":[{\"id\":\"1245\",\"type\":\"Grid\"},{\"id\":\"1250\",\"type\":\"Grid\"}],\"left\":[{\"id\":\"1246\",\"type\":\"LinearAxis\"}],\"renderers\":[{\"id\":\"1333\",\"type\":\"GlyphRenderer\"},{\"id\":\"1338\",\"type\":\"GlyphRenderer\"}],\"title\":{\"id\":\"1360\",\"type\":\"Title\"},\"toolbar\":{\"id\":\"1257\",\"type\":\"Toolbar\"},\"x_range\":{\"id\":\"1233\",\"type\":\"DataRange1d\"},\"x_scale\":{\"id\":\"1237\",\"type\":\"LinearScale\"},\"y_range\":{\"id\":\"1235\",\"type\":\"DataRange1d\"},\"y_scale\":{\"id\":\"1239\",\"type\":\"LinearScale\"}},\"id\":\"1232\",\"subtype\":\"Figure\",\"type\":\"Plot\"},{\"attributes\":{\"formatter\":{\"id\":\"1365\",\"type\":\"BasicTickFormatter\"},\"ticker\":{\"id\":\"1247\",\"type\":\"BasicTicker\"}},\"id\":\"1246\",\"type\":\"LinearAxis\"},{\"attributes\":{\"data_source\":{\"id\":\"1335\",\"type\":\"ColumnDataSource\"},\"glyph\":{\"id\":\"1336\",\"type\":\"Line\"},\"hover_glyph\":null,\"muted_glyph\":null,\"nonselection_glyph\":{\"id\":\"1337\",\"type\":\"Line\"},\"selection_glyph\":null,\"view\":{\"id\":\"1339\",\"type\":\"CDSView\"}},\"id\":\"1338\",\"type\":\"GlyphRenderer\"},{\"attributes\":{},\"id\":\"1247\",\"type\":\"BasicTicker\"},{\"attributes\":{\"source\":{\"id\":\"1335\",\"type\":\"ColumnDataSource\"}},\"id\":\"1339\",\"type\":\"CDSView\"},{\"attributes\":{\"dimension\":1,\"ticker\":{\"id\":\"1247\",\"type\":\"BasicTicker\"}},\"id\":\"1250\",\"type\":\"Grid\"},{\"attributes\":{},\"id\":\"1363\",\"type\":\"BasicTickFormatter\"},{\"attributes\":{\"callback\":null,\"data\":{\"x\":[0,1,2,3,4,5,6,7,8,9,10,11,12,13,14,15,16,17,18,19,20,21,22,23,24,25,26,27,28,29,30,31,32,33,34,35,36,37,38,39,40,41,42,43,44,45,46,47,48,49,50,51,52,53,54,55,56,57,58,59,60,61,62,63,64,65,66,67,68,69,70,71,72,73,74,75,76,77,78,79,80,81,82,83,84,85,86,87,88,89,90,91,92,93,94,95,96,97,98,99,100,101,102,103,104,105,106,107,108,109,110,111,112,113,114,115,116,117,118,119,120,121,122,123,124,125,126,127,128,129,130,131,132,133,134,135,136,137,138,139,140,141,142,143,144,145,146,147,148,149,150,151,152,153,154,155,156,157,158,159,160,161,162,163,164,165,166,167,168,169,170,171,172,173,174,175,176,177,178,179,180,181,182,183,184,185,186,187,188,189,190,191,192,193,194,195,196,197,198,199,200,201,202,203,204,205,206,207,208,209,210,211,212,213,214,215,216,217,218,219,220,221,222,223,224,225,226,227,228,229,230,231,232,233,234,235,236,237,238,239,240,241,242,243,244,245,246,247,248,249,250,251,252,253,254,255,256,257,258,259,260,261,262,263,264,265,266,267,268,269,270,271,272,273,274,275,276,277,278,279,280,281,282,283,284,285,286,287,288,289,290,291,292,293,294,295,296,297,298,299,300,301,302,303,304,305,306,307,308,309,310,311,312,313,314,315,316,317,318,319,320,321,322,323,324,325,326,327,328,329,330,331,332,333,334,335,336,337,338,339,340,341,342,343,344,345,346,347,348,349,350,351,352,353,354,355,356,357,358,359,360,361,362,363,364,365,366,367,368,369,370,371,372,373,374,375,376,377,378,379,380,381,382,383,384,385,386,387,388,389,390,391,392,393,394,395,396,397,398,399,400,401,402,403,404,405,406,407,408,409,410,411,412,413,414,415,416,417,418,419,420,421,422,423,424,425,426,427,428,429,430,431,432,433,434,435,436,437,438,439,440,441,442,443,444,445,446,447,448,449,450,451,452,453,454,455,456,457,458,459,460,461,462,463,464,465,466,467,468,469,470,471,472,473,474,475,476,477,478,479,480,481,482,483,484,485,486,487,488,489,490,491,492,493,494,495,496,497,498,499,500,501,502,503,504,505,506,507,508,509,510,511,512,513,514,515,516,517,518,519,520,521,522,523,524,525,526,527,528,529,530,531,532,533,534,535,536,537,538,539,540,541,542,543,544,545,546,547,548,549,550,551,552,553,554,555,556,557,558,559,560,561,562,563,564,565,566,567,568,569,570,571,572,573,574,575,576,577,578,579,580,581,582,583,584,585,586,587,588,589,590,591,592,593,594,595,596,597,598,599,600,601,602,603,604,605,606,607,608,609,610,611,612,613,614,615,616,617,618,619,620,621,622,623,624,625,626,627,628,629,630,631,632,633,634,635,636,637,638,639,640,641,642,643,644,645,646,647,648,649,650,651,652,653,654,655,656,657,658,659,660,661,662,663,664,665,666,667,668,669,670,671,672,673,674,675,676,677,678,679,680,681,682,683,684,685,686,687,688,689,690,691,692,693,694,695,696,697,698,699,700,701,702,703,704,705,706,707,708,709,710,711,712,713,714,715,716,717,718,719,720,721,722,723,724,725,726,727,728,729,730,731,732,733,734,735,736,737,738,739,740,741,742,743,744,745,746,747,748,749,750,751,752,753,754,755,756,757,758,759,760,761,762,763,764,765,766,767,768,769,770,771,772,773,774,775,776,777,778,779,780,781,782,783,784,785,786,787,788,789,790,791,792,793,794,795,796,797,798,799,800,801,802,803,804,805,806,807,808,809,810,811,812,813,814,815,816,817,818,819,820,821,822,823,824,825,826,827,828,829,830,831,832,833,834,835,836,837,838,839,840,841,842,843,844,845,846,847,848,849,850,851,852,853,854,855,856,857,858,859,860,861,862,863,864,865,866,867,868,869,870,871,872,873,874,875,876,877,878,879,880,881,882,883,884,885,886,887,888,889,890,891,892,893,894,895,896,897,898,899,900,901,902,903,904,905,906,907,908,909,910,911,912,913,914,915,916,917,918,919,920,921,922,923,924,925,926,927,928,929,930,931,932,933,934,935,936,937,938,939,940,941,942,943,944,945,946,947,948,949,950,951,952,953,954,955,956,957,958,959,960,961,962,963,964,965,966,967,968,969,970,971,972,973,974,975,976,977,978,979,980,981,982,983,984,985,986,987,988,989,990,991,992,993,994,995,996,997,998,999,1000,1001,1002,1003,1004,1005,1006,1007,1008,1009,1010,1011,1012,1013,1014,1015,1016,1017,1018,1019,1020,1021,1022,1023,1024,1025,1026,1027,1028,1029,1030,1031,1032,1033,1034,1035,1036,1037,1038,1039,1040,1041,1042,1043,1044,1045,1046,1047,1048,1049,1050,1051,1052,1053,1054,1055,1056,1057,1058,1059,1060,1061,1062,1063,1064,1065,1066,1067,1068,1069,1070,1071,1072,1073,1074,1075,1076,1077,1078,1079,1080,1081,1082,1083,1084,1085,1086,1087,1088,1089,1090,1091,1092,1093,1094,1095,1096,1097,1098,1099,1100,1101,1102,1103,1104,1105,1106,1107,1108,1109,1110,1111,1112,1113,1114,1115,1116,1117,1118,1119,1120,1121,1122,1123,1124,1125,1126,1127,1128,1129,1130,1131,1132,1133,1134,1135,1136,1137,1138,1139,1140,1141,1142,1143,1144,1145,1146,1147,1148,1149,1150,1151,1152,1153,1154,1155,1156,1157,1158,1159,1160,1161,1162,1163,1164,1165,1166,1167,1168,1169,1170,1171,1172,1173,1174,1175,1176,1177,1178,1179,1180,1181,1182,1183,1184,1185,1186,1187,1188,1189,1190,1191,1192,1193,1194,1195,1196,1197,1198,1199,1200,1201,1202,1203,1204,1205,1206,1207,1208,1209,1210,1211,1212,1213,1214,1215,1216,1217,1218,1219,1220,1221,1222,1223,1224,1225,1226,1227,1228,1229,1230,1231,1232,1233,1234,1235,1236,1237,1238,1239,1240,1241,1242,1243,1244,1245,1246,1247,1248,1249,1250,1251,1252,1253,1254,1255,1256,1257,1258,1259,1260,1261,1262,1263,1264,1265,1266,1267,1268,1269,1270,1271,1272,1273,1274,1275,1276,1277,1278,1279,1280,1281,1282,1283,1284,1285,1286,1287,1288,1289,1290,1291,1292,1293,1294,1295,1296,1297,1298,1299,1300,1301,1302,1303,1304,1305,1306,1307,1308,1309,1310,1311,1312,1313,1314,1315,1316,1317,1318,1319,1320,1321,1322,1323,1324,1325,1326,1327,1328,1329,1330,1331,1332,1333,1334,1335,1336,1337,1338,1339,1340,1341,1342,1343,1344,1345,1346,1347,1348,1349,1350,1351,1352,1353,1354,1355,1356,1357,1358,1359,1360,1361,1362,1363,1364,1365,1366,1367,1368,1369,1370,1371,1372,1373,1374,1375,1376,1377,1378,1379,1380,1381,1382,1383,1384,1385,1386,1387,1388,1389,1390,1391,1392,1393,1394,1395,1396,1397,1398,1399,1400,1401,1402,1403,1404,1405,1406,1407,1408,1409,1410,1411,1412,1413,1414,1415,1416,1417,1418,1419,1420,1421,1422,1423,1424,1425,1426,1427,1428,1429,1430,1431,1432,1433,1434,1435,1436,1437,1438,1439,1440,1441,1442,1443,1444,1445,1446,1447,1448,1449,1450,1451,1452,1453,1454,1455,1456,1457,1458,1459,1460,1461,1462,1463,1464,1465,1466,1467,1468,1469,1470,1471,1472,1473,1474,1475,1476,1477,1478,1479,1480,1481,1482,1483,1484,1485,1486,1487,1488,1489,1490,1491,1492,1493,1494,1495,1496,1497,1498,1499,1500,1501,1502,1503,1504,1505,1506,1507,1508,1509,1510,1511,1512,1513,1514,1515,1516,1517,1518,1519,1520,1521,1522,1523,1524,1525,1526,1527,1528,1529,1530,1531,1532,1533,1534,1535,1536,1537,1538,1539,1540,1541,1542,1543,1544,1545,1546,1547,1548,1549,1550,1551,1552,1553,1554,1555,1556,1557,1558,1559,1560,1561,1562,1563,1564,1565,1566,1567,1568,1569,1570,1571,1572,1573,1574,1575,1576,1577,1578,1579,1580,1581,1582,1583,1584,1585,1586,1587,1588,1589,1590,1591,1592,1593,1594,1595,1596,1597,1598,1599,1600,1601,1602,1603,1604,1605,1606,1607,1608,1609,1610,1611,1612,1613,1614,1615,1616,1617,1618,1619,1620,1621,1622,1623,1624,1625,1626,1627,1628,1629,1630,1631,1632,1633,1634,1635,1636,1637,1638,1639,1640,1641,1642,1643,1644,1645,1646,1647,1648,1649,1650,1651,1652,1653,1654,1655,1656,1657,1658,1659,1660,1661,1662,1663,1664,1665,1666,1667,1668,1669,1670,1671,1672,1673,1674,1675,1676,1677,1678,1679,1680,1681,1682,1683,1684,1685,1686,1687,1688,1689,1690,1691,1692,1693,1694,1695,1696,1697,1698,1699,1700,1701,1702,1703,1704,1705,1706,1707,1708,1709,1710,1711,1712,1713,1714,1715,1716,1717,1718,1719,1720,1721,1722,1723,1724,1725,1726,1727,1728,1729,1730,1731,1732,1733,1734,1735,1736,1737,1738,1739,1740,1741,1742,1743,1744,1745,1746,1747,1748,1749,1750,1751,1752,1753,1754,1755,1756,1757,1758,1759,1760,1761,1762,1763,1764,1765,1766,1767,1768,1769,1770,1771,1772,1773,1774,1775,1776,1777,1778,1779,1780,1781,1782,1783,1784,1785,1786,1787,1788,1789,1790,1791,1792,1793,1794,1795,1796,1797,1798,1799,1800,1801,1802,1803,1804,1805,1806,1807,1808,1809,1810,1811,1812,1813,1814,1815,1816,1817,1818,1819,1820,1821,1822,1823,1824,1825,1826,1827,1828,1829,1830,1831,1832,1833,1834,1835,1836,1837,1838,1839,1840,1841,1842,1843,1844,1845,1846,1847,1848,1849,1850,1851,1852,1853,1854,1855,1856,1857,1858,1859,1860,1861,1862,1863,1864,1865,1866,1867,1868,1869,1870,1871,1872,1873,1874,1875,1876,1877,1878,1879,1880,1881,1882,1883,1884,1885,1886,1887,1888,1889,1890,1891,1892,1893,1894,1895,1896,1897,1898,1899,1900,1901,1902,1903,1904,1905,1906,1907,1908,1909,1910,1911,1912,1913,1914,1915,1916,1917,1918,1919,1920,1921,1922,1923,1924,1925,1926,1927,1928,1929,1930,1931,1932,1933,1934,1935,1936,1937,1938,1939,1940,1941,1942,1943,1944,1945,1946,1947,1948,1949,1950,1951,1952,1953,1954,1955,1956,1957,1958,1959,1960,1961,1962,1963,1964,1965,1966,1967,1968,1969,1970,1971,1972,1973,1974,1975,1976,1977,1978,1979,1980,1981,1982,1983,1984,1985,1986,1987,1988,1989,1990,1991,1992,1993,1994,1995,1996,1997,1998,1999],\"y\":{\"__ndarray__\":\"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\",\"dtype\":\"float64\",\"shape\":[2000]}},\"selected\":{\"id\":\"1366\",\"type\":\"Selection\"},\"selection_policy\":{\"id\":\"1367\",\"type\":\"UnionRenderers\"}},\"id\":\"1330\",\"type\":\"ColumnDataSource\"},{\"attributes\":{\"line_color\":\"blue\",\"x\":{\"field\":\"x\"},\"y\":{\"field\":\"y\"}},\"id\":\"1331\",\"type\":\"Line\"},{\"attributes\":{},\"id\":\"1328\",\"type\":\"CrosshairTool\"},{\"attributes\":{},\"id\":\"1365\",\"type\":\"BasicTickFormatter\"},{\"attributes\":{\"active_drag\":\"auto\",\"active_inspect\":\"auto\",\"active_multi\":null,\"active_scroll\":\"auto\",\"active_tap\":\"auto\",\"tools\":[{\"id\":\"1251\",\"type\":\"PanTool\"},{\"id\":\"1252\",\"type\":\"WheelZoomTool\"},{\"id\":\"1253\",\"type\":\"BoxZoomTool\"},{\"id\":\"1254\",\"type\":\"SaveTool\"},{\"id\":\"1255\",\"type\":\"ResetTool\"},{\"id\":\"1256\",\"type\":\"HelpTool\"},{\"id\":\"1328\",\"type\":\"CrosshairTool\"}]},\"id\":\"1257\",\"type\":\"Toolbar\"},{\"attributes\":{},\"id\":\"1251\",\"type\":\"PanTool\"},{\"attributes\":{},\"id\":\"1366\",\"type\":\"Selection\"},{\"attributes\":{},\"id\":\"1252\",\"type\":\"WheelZoomTool\"},{\"attributes\":{},\"id\":\"1367\",\"type\":\"UnionRenderers\"},{\"attributes\":{\"overlay\":{\"id\":\"1370\",\"type\":\"BoxAnnotation\"}},\"id\":\"1253\",\"type\":\"BoxZoomTool\"},{\"attributes\":{},\"id\":\"1368\",\"type\":\"Selection\"},{\"attributes\":{},\"id\":\"1254\",\"type\":\"SaveTool\"},{\"attributes\":{},\"id\":\"1369\",\"type\":\"UnionRenderers\"},{\"attributes\":{},\"id\":\"1255\",\"type\":\"ResetTool\"},{\"attributes\":{\"bottom_units\":\"screen\",\"fill_alpha\":{\"value\":0.5},\"fill_color\":{\"value\":\"lightgrey\"},\"left_units\":\"screen\",\"level\":\"overlay\",\"line_alpha\":{\"value\":1.0},\"line_color\":{\"value\":\"black\"},\"line_dash\":[4,4],\"line_width\":{\"value\":2},\"render_mode\":\"css\",\"right_units\":\"screen\",\"top_units\":\"screen\"},\"id\":\"1370\",\"type\":\"BoxAnnotation\"},{\"attributes\":{},\"id\":\"1256\",\"type\":\"HelpTool\"},{\"attributes\":{\"callback\":null},\"id\":\"1235\",\"type\":\"DataRange1d\"},{\"attributes\":{\"callback\":null,\"data\":{\"x\":[0,1,2,3,4,5,6,7,8,9,10,11,12,13,14,15,16,17,18,19,20,21,22,23,24,25,26,27,28,29,30,31,32,33,34,35,36,37,38,39,40,41,42,43,44,45,46,47,48,49,50,51,52,53,54,55,56,57,58,59,60,61,62,63,64,65,66,67,68,69,70,71,72,73,74,75,76,77,78,79,80,81,82,83,84,85,86,87,88,89,90,91,92,93,94,95,96,97,98,99,100,101,102,103,104,105,106,107,108,109,110,111,112,113,114,115,116,117,118,119,120,121,122,123,124,125,126,127,128,129,130,131,132,133,134,135,136,137,138,139,140,141,142,143,144,145,146,147,148,149,150,151,152,153,154,155,156,157,158,159,160,161,162,163,164,165,166,167,168,169,170,171,172,173,174,175,176,177,178,179,180,181,182,183,184,185,186,187,188,189,190,191,192,193,194,195,196,197,198,199,200,201,202,203,204,205,206,207,208,209,210,211,212,213,214,215,216,217,218,219,220,221,222,223,224,225,226,227,228,229,230,231,232,233,234,235,236,237,238,239,240,241,242,243,244,245,246,247,248,249,250,251,252,253,254,255,256,257,258,259,260,261,262,263,264,265,266,267,268,269,270,271,272,273,274,275,276,277,278,279,280,281,282,283,284,285,286,287,288,289,290,291,292,293,294,295,296,297,298,299,300,301,302,303,304,305,306,307,308,309,310,311,312,313,314,315,316,317,318,319,320,321,322,323,324,325,326,327,328,329,330,331,332,333,334,335,336,337,338,339,340,341,342,343,344,345,346,347,348,349,350,351,352,353,354,355,356,357,358,359,360,361,362,363,364,365,366,367,368,369,370,371,372,373,374,375,376,377,378,379,380,381,382,383,384,385,386,387,388,389,390,391,392,393,394,395,396,397,398,399,400,401,402,403,404,405,406,407,408,409,410,411,412,413,414,415,416,417,418,419,420,421,422,423,424,425,426,427,428,429,430,431,432,433,434,435,436,437,438,439,440,441,442,443,444,445,446,447,448,449,450,451,452,453,454,455,456,457,458,459,460,461,462,463,464,465,466,467,468,469,470,471,472,473,474,475,476,477,478,479,480,481,482,483,484,485,486,487,488,489,490,491,492,493,494,495,496,497,498,499,500,501,502,503,504,505,506,507,508,509,510,511,512,513,514,515,516,517,518,519,520,521,522,523,524,525,526,527,528,529,530,531,532,533,534,535,536,537,538,539,540,541,542,543,544,545,546,547,548,549,550,551,552,553,554,555,556,557,558,559,560,561,562,563,564,565,566,567,568,569,570,571,572,573,574,575,576,577,578,579,580,581,582,583,584,585,586,587,588,589,590,591,592,593,594,595,596,597,598,599,600,601,602,603,604,605,606,607,608,609,610,611,612,613,614,615,616,617,618,619,620,621,622,623,624,625,626,627,628,629,630,631,632,633,634,635,636,637,638,639,640,641,642,643,644,645,646,647,648,649,650,651,652,653,654,655,656,657,658,659,660,661,662,663,664,665,666,667,668,669,670,671,672,673,674,675,676,677,678,679,680,681,682,683,684,685,686,687,688,689,690,691,692,693,694,695,696,697,698,699,700,701,702,703,704,705,706,707,708,709,710,711,712,713,714,715,716,717,718,719,720,721,722,723,724,725,726,727,728,729,730,731,732,733,734,735,736,737,738,739,740,741,742,743,744,745,746,747,748,749,750,751,752,753,754,755,756,757,758,759,760,761,762,763,764,765,766,767,768,769,770,771,772,773,774,775,776,777,778,779,780,781,782,783,784,785,786,787,788,789,790,791,792,793,794,795,796,797,798,799,800,801,802,803,804,805,806,807,808,809,810,811,812,813,814,815,816,817,818,819,820,821,822,823,824,825,826,827,828,829,830,831,832,833,834,835,836,837,838,839,840,841,842,843,844,845,846,847,848,849,850,851,852,853,854,855,856,857,858,859,860,861,862,863,864,865,866,867,868,869,870,871,872,873,874,875,876,877,878,879,880,881,882,883,884,885,886,887,888,889,890,891,892,893,894,895,896,897,898,899,900,901,902,903,904,905,906,907,908,909,910,911,912,913,914,915,916,917,918,919,920,921,922,923,924,925,926,927,928,929,930,931,932,933,934,935,936,937,938,939,940,941,942,943,944,945,946,947,948,949,950,951,952,953,954,955,956,957,958,959,960,961,962,963,964,965,966,967,968,969,970,971,972,973,974,975,976,977,978,979,980,981,982,983,984,985,986,987,988,989,990,991,992,993,994,995,996,997,998,999,1000,1001,1002,1003,1004,1005,1006,1007,1008,1009,1010,1011,1012,1013,1014,1015,1016,1017,1018,1019,1020,1021,1022,1023,1024,1025,1026,1027,1028,1029,1030,1031,1032,1033,1034,1035,1036,1037,1038,1039,1040,1041,1042,1043,1044,1045,1046,1047,1048,1049,1050,1051,1052,1053,1054,1055,1056,1057,1058,1059,1060,1061,1062,1063,1064,1065,1066,1067,1068,1069,1070,1071,1072,1073,1074,1075,1076,1077,1078,1079,1080,1081,1082,1083,1084,1085,1086,1087,1088,1089,1090,1091,1092,1093,1094,1095,1096,1097,1098,1099,1100,1101,1102,1103,1104,1105,1106,1107,1108,1109,1110,1111,1112,1113,1114,1115,1116,1117,1118,1119,1120,1121,1122,1123,1124,1125,1126,1127,1128,1129,1130,1131,1132,1133,1134,1135,1136,1137,1138,1139,1140,1141,1142,1143,1144,1145,1146,1147,1148,1149,1150,1151,1152,1153,1154,1155,1156,1157,1158,1159,1160,1161,1162,1163,1164,1165,1166,1167,1168,1169,1170,1171,1172,1173,1174,1175,1176,1177,1178,1179,1180,1181,1182,1183,1184,1185,1186,1187,1188,1189,1190,1191,1192,1193,1194,1195,1196,1197,1198,1199,1200,1201,1202,1203,1204,1205,1206,1207,1208,1209,1210,1211,1212,1213,1214,1215,1216,1217,1218,1219,1220,1221,1222,1223,1224,1225,1226,1227,1228,1229,1230,1231,1232,1233,1234,1235,1236,1237,1238,1239,1240,1241,1242,1243,1244,1245,1246,1247,1248,1249,1250,1251,1252,1253,1254,1255,1256,1257,1258,1259,1260,1261,1262,1263,1264,1265,1266,1267,1268,1269,1270,1271,1272,1273,1274,1275,1276,1277,1278,1279,1280,1281,1282,1283,1284,1285,1286,1287,1288,1289,1290,1291,1292,1293,1294,1295,1296,1297,1298,1299,1300,1301,1302,1303,1304,1305,1306,1307,1308,1309,1310,1311,1312,1313,1314,1315,1316,1317,1318,1319,1320,1321,1322,1323,1324,1325,1326,1327,1328,1329,1330,1331,1332,1333,1334,1335,1336,1337,1338,1339,1340,1341,1342,1343,1344,1345,1346,1347,1348,1349,1350,1351,1352,1353,1354,1355,1356,1357,1358,1359,1360,1361,1362,1363,1364,1365,1366,1367,1368,1369,1370,1371,1372,1373,1374,1375,1376,1377,1378,1379,1380,1381,1382,1383,1384,1385,1386,1387,1388,1389,1390,1391,1392,1393,1394,1395,1396,1397,1398,1399,1400,1401,1402,1403,1404,1405,1406,1407,1408,1409,1410,1411,1412,1413,1414,1415,1416,1417,1418,1419,1420,1421,1422,1423,1424,1425,1426,1427,1428,1429,1430,1431,1432,1433,1434,1435,1436,1437,1438,1439,1440,1441,1442,1443,1444,1445,1446,1447,1448,1449,1450,1451,1452,1453,1454,1455,1456,1457,1458,1459,1460,1461,1462,1463,1464,1465,1466,1467,1468,1469,1470,1471,1472,1473,1474,1475,1476,1477,1478,1479,1480,1481,1482,1483,1484,1485,1486,1487,1488,1489,1490,1491,1492,1493,1494,1495,1496,1497,1498,1499,1500,1501,1502,1503,1504,1505,1506,1507,1508,1509,1510,1511,1512,1513,1514,1515,1516,1517,1518,1519,1520,1521,1522,1523,1524,1525,1526,1527,1528,1529,1530,1531,1532,1533,1534,1535,1536,1537,1538,1539,1540,1541,1542,1543,1544,1545,1546,1547,1548,1549,1550,1551,1552,1553,1554,1555,1556,1557,1558,1559,1560,1561,1562,1563,1564,1565,1566,1567,1568,1569,1570,1571,1572,1573,1574,1575,1576,1577,1578,1579,1580,1581,1582,1583,1584,1585,1586,1587,1588,1589,1590,1591,1592,1593,1594,1595,1596,1597,1598,1599,1600,1601,1602,1603,1604,1605,1606,1607,1608,1609,1610,1611,1612,1613,1614,1615,1616,1617,1618,1619,1620,1621,1622,1623,1624,1625,1626,1627,1628,1629,1630,1631,1632,1633,1634,1635,1636,1637,1638,1639,1640,1641,1642,1643,1644,1645,1646,1647,1648,1649,1650,1651,1652,1653,1654,1655,1656,1657,1658,1659,1660,1661,1662,1663,1664,1665,1666,1667,1668,1669,1670,1671,1672,1673,1674,1675,1676,1677,1678,1679,1680,1681,1682,1683,1684,1685,1686,1687,1688,1689,1690,1691,1692,1693,1694,1695,1696,1697,1698,1699,1700,1701,1702,1703,1704,1705,1706,1707,1708,1709,1710,1711,1712,1713,1714,1715,1716,1717,1718,1719,1720,1721,1722,1723,1724,1725,1726,1727,1728,1729,1730,1731,1732,1733,1734,1735,1736,1737,1738,1739,1740,1741,1742,1743,1744,1745,1746,1747,1748,1749,1750,1751,1752,1753,1754,1755,1756,1757,1758,1759,1760,1761,1762,1763,1764,1765,1766,1767,1768,1769,1770,1771,1772,1773,1774,1775,1776,1777,1778,1779,1780,1781,1782,1783,1784,1785,1786,1787,1788,1789,1790,1791,1792,1793,1794,1795,1796,1797,1798,1799,1800,1801,1802,1803,1804,1805,1806,1807,1808,1809,1810,1811,1812,1813,1814,1815,1816,1817,1818,1819,1820,1821,1822,1823,1824,1825,1826,1827,1828,1829,1830,1831,1832,1833,1834,1835,1836,1837,1838,1839,1840,1841,1842,1843,1844,1845,1846,1847,1848,1849,1850,1851,1852,1853,1854,1855,1856,1857,1858,1859,1860,1861,1862,1863,1864,1865,1866,1867,1868,1869,1870,1871,1872,1873,1874,1875,1876,1877,1878,1879,1880,1881,1882,1883,1884,1885,1886,1887,1888,1889,1890,1891,1892,1893,1894,1895,1896,1897,1898,1899,1900,1901,1902,1903,1904,1905,1906,1907,1908,1909,1910,1911,1912,1913,1914,1915,1916,1917,1918,1919,1920,1921,1922,1923,1924,1925,1926,1927,1928,1929,1930,1931,1932,1933,1934,1935,1936,1937,1938,1939,1940,1941,1942,1943,1944,1945,1946,1947,1948,1949,1950,1951,1952,1953,1954,1955,1956,1957,1958,1959,1960,1961,1962,1963,1964,1965,1966,1967,1968,1969,1970,1971,1972,1973,1974,1975,1976,1977,1978,1979,1980,1981,1982,1983,1984,1985,1986,1987,1988,1989,1990,1991,1992,1993,1994,1995,1996,1997,1998,1999],\"y\":{\"__ndarray__\":\"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\",\"dtype\":\"float64\",\"shape\":[2000]}},\"selected\":{\"id\":\"1368\",\"type\":\"Selection\"},\"selection_policy\":{\"id\":\"1369\",\"type\":\"UnionRenderers\"}},\"id\":\"1335\",\"type\":\"ColumnDataSource\"},{\"attributes\":{\"line_alpha\":0.1,\"line_color\":\"#1f77b4\",\"x\":{\"field\":\"x\"},\"y\":{\"field\":\"y\"}},\"id\":\"1332\",\"type\":\"Line\"},{\"attributes\":{\"callback\":null},\"id\":\"1233\",\"type\":\"DataRange1d\"},{\"attributes\":{\"data_source\":{\"id\":\"1330\",\"type\":\"ColumnDataSource\"},\"glyph\":{\"id\":\"1331\",\"type\":\"Line\"},\"hover_glyph\":null,\"muted_glyph\":null,\"name\":\"Good password\",\"nonselection_glyph\":{\"id\":\"1332\",\"type\":\"Line\"},\"selection_glyph\":null,\"view\":{\"id\":\"1334\",\"type\":\"CDSView\"}},\"id\":\"1333\",\"type\":\"GlyphRenderer\"},{\"attributes\":{},\"id\":\"1237\",\"type\":\"LinearScale\"},{\"attributes\":{\"source\":{\"id\":\"1330\",\"type\":\"ColumnDataSource\"}},\"id\":\"1334\",\"type\":\"CDSView\"},{\"attributes\":{},\"id\":\"1239\",\"type\":\"LinearScale\"},{\"attributes\":{\"text\":\"\"},\"id\":\"1360\",\"type\":\"Title\"},{\"attributes\":{\"formatter\":{\"id\":\"1363\",\"type\":\"BasicTickFormatter\"},\"ticker\":{\"id\":\"1242\",\"type\":\"BasicTicker\"}},\"id\":\"1241\",\"type\":\"LinearAxis\"},{\"attributes\":{\"line_color\":\"red\",\"x\":{\"field\":\"x\"},\"y\":{\"field\":\"y\"}},\"id\":\"1336\",\"type\":\"Line\"},{\"attributes\":{},\"id\":\"1242\",\"type\":\"BasicTicker\"},{\"attributes\":{\"line_alpha\":0.1,\"line_color\":\"#1f77b4\",\"x\":{\"field\":\"x\"},\"y\":{\"field\":\"y\"}},\"id\":\"1337\",\"type\":\"Line\"},{\"attributes\":{\"ticker\":{\"id\":\"1242\",\"type\":\"BasicTicker\"}},\"id\":\"1245\",\"type\":\"Grid\"}],\"root_ids\":[\"1232\"]},\"title\":\"Bokeh Application\",\"version\":\"1.3.0\"}};\n",
       "  var render_items = [{\"docid\":\"c6352ea0-e703-4a8f-95a6-fd400eda93e0\",\"roots\":{\"1232\":\"4431e827-b91d-4c97-a780-ae6771399a64\"}}];\n",
       "  root.Bokeh.embed.embed_items_notebook(docs_json, render_items);\n",
       "\n",
       "  }\n",
       "  if (root.Bokeh !== undefined) {\n",
       "    embed_document(root);\n",
       "  } else {\n",
       "    var attempts = 0;\n",
       "    var timer = setInterval(function(root) {\n",
       "      if (root.Bokeh !== undefined) {\n",
       "        embed_document(root);\n",
       "        clearInterval(timer);\n",
       "      }\n",
       "      attempts++;\n",
       "      if (attempts > 100) {\n",
       "        console.log(\"Bokeh: ERROR: Unable to run BokehJS code because BokehJS library is missing\");\n",
       "        clearInterval(timer);\n",
       "      }\n",
       "    }, 10, root)\n",
       "  }\n",
       "})(window);"
      ],
      "application/vnd.bokehjs_exec.v0+json": ""
     },
     "metadata": {
      "application/vnd.bokehjs_exec.v0+json": {
       "id": "1232"
      }
     },
     "output_type": "display_data"
    },
    {
     "data": {
      "text/html": [
       "\n",
       "\n",
       "\n",
       "\n",
       "\n",
       "\n",
       "  <div class=\"bk-root\" id=\"63a4a088-e8ba-448a-bd67-ac0967b75bfb\" data-root-id=\"1264\"></div>\n"
      ]
     },
     "metadata": {},
     "output_type": "display_data"
    },
    {
     "data": {
      "application/javascript": [
       "(function(root) {\n",
       "  function embed_document(root) {\n",
       "    \n",
       "  var docs_json = {\"ffd0b6d3-e41f-463e-a71e-f9de791af936\":{\"roots\":{\"references\":[{\"attributes\":{\"below\":[{\"id\":\"1273\",\"type\":\"LinearAxis\"}],\"center\":[{\"id\":\"1277\",\"type\":\"Grid\"},{\"id\":\"1282\",\"type\":\"Grid\"}],\"left\":[{\"id\":\"1278\",\"type\":\"LinearAxis\"}],\"renderers\":[{\"id\":\"1444\",\"type\":\"GlyphRenderer\"}],\"title\":{\"id\":\"1482\",\"type\":\"Title\"},\"toolbar\":{\"id\":\"1289\",\"type\":\"Toolbar\"},\"x_range\":{\"id\":\"1265\",\"type\":\"DataRange1d\"},\"x_scale\":{\"id\":\"1269\",\"type\":\"LinearScale\"},\"y_range\":{\"id\":\"1267\",\"type\":\"DataRange1d\"},\"y_scale\":{\"id\":\"1271\",\"type\":\"LinearScale\"}},\"id\":\"1264\",\"subtype\":\"Figure\",\"type\":\"Plot\"},{\"attributes\":{},\"id\":\"1279\",\"type\":\"BasicTicker\"},{\"attributes\":{\"dimension\":1,\"ticker\":{\"id\":\"1279\",\"type\":\"BasicTicker\"}},\"id\":\"1282\",\"type\":\"Grid\"},{\"attributes\":{},\"id\":\"1437\",\"type\":\"CrosshairTool\"},{\"attributes\":{\"callback\":null},\"id\":\"1265\",\"type\":\"DataRange1d\"},{\"attributes\":{\"active_drag\":\"auto\",\"active_inspect\":\"auto\",\"active_multi\":null,\"active_scroll\":\"auto\",\"active_tap\":\"auto\",\"tools\":[{\"id\":\"1283\",\"type\":\"PanTool\"},{\"id\":\"1284\",\"type\":\"WheelZoomTool\"},{\"id\":\"1285\",\"type\":\"BoxZoomTool\"},{\"id\":\"1286\",\"type\":\"SaveTool\"},{\"id\":\"1287\",\"type\":\"ResetTool\"},{\"id\":\"1288\",\"type\":\"HelpTool\"},{\"id\":\"1437\",\"type\":\"CrosshairTool\"}]},\"id\":\"1289\",\"type\":\"Toolbar\"},{\"attributes\":{},\"id\":\"1283\",\"type\":\"PanTool\"},{\"attributes\":{\"source\":{\"id\":\"1441\",\"type\":\"ColumnDataSource\"}},\"id\":\"1445\",\"type\":\"CDSView\"},{\"attributes\":{},\"id\":\"1284\",\"type\":\"WheelZoomTool\"},{\"attributes\":{\"data_source\":{\"id\":\"1441\",\"type\":\"ColumnDataSource\"},\"glyph\":{\"id\":\"1442\",\"type\":\"Line\"},\"hover_glyph\":null,\"muted_glyph\":null,\"name\":\"Good password\",\"nonselection_glyph\":{\"id\":\"1443\",\"type\":\"Line\"},\"selection_glyph\":null,\"view\":{\"id\":\"1445\",\"type\":\"CDSView\"}},\"id\":\"1444\",\"type\":\"GlyphRenderer\"},{\"attributes\":{\"overlay\":{\"id\":\"1490\",\"type\":\"BoxAnnotation\"}},\"id\":\"1285\",\"type\":\"BoxZoomTool\"},{\"attributes\":{\"line_alpha\":0.1,\"line_color\":\"#1f77b4\",\"x\":{\"field\":\"x\"},\"y\":{\"field\":\"y\"}},\"id\":\"1443\",\"type\":\"Line\"},{\"attributes\":{},\"id\":\"1286\",\"type\":\"SaveTool\"},{\"attributes\":{},\"id\":\"1287\",\"type\":\"ResetTool\"},{\"attributes\":{\"line_color\":\"blue\",\"x\":{\"field\":\"x\"},\"y\":{\"field\":\"y\"}},\"id\":\"1442\",\"type\":\"Line\"},{\"attributes\":{\"callback\":null,\"data\":{\"x\":[0,1,2,3,4,5,6,7,8,9,10,11,12,13,14,15,16,17,18,19,20,21,22,23,24,25,26,27,28,29,30,31,32,33,34,35,36,37,38,39,40,41,42,43,44,45,46,47,48,49,50,51,52,53,54,55,56,57,58,59,60,61,62,63,64,65,66,67,68,69,70,71,72,73,74,75,76,77,78,79,80,81,82,83,84,85,86,87,88,89,90,91,92,93,94,95,96,97,98,99,100,101,102,103,104,105,106,107,108,109,110,111,112,113,114,115,116,117,118,119,120,121,122,123,124,125,126,127,128,129,130,131,132,133,134,135,136,137,138,139,140,141,142,143,144,145,146,147,148,149,150,151,152,153,154,155,156,157,158,159,160,161,162,163,164,165,166,167,168,169,170,171,172,173,174,175,176,177,178,179,180,181,182,183,184,185,186,187,188,189,190,191,192,193,194,195,196,197,198,199,200,201,202,203,204,205,206,207,208,209,210,211,212,213,214,215,216,217,218,219,220,221,222,223,224,225,226,227,228,229,230,231,232,233,234,235,236,237,238,239,240,241,242,243,244,245,246,247,248,249,250,251,252,253,254,255,256,257,258,259,260,261,262,263,264,265,266,267,268,269,270,271,272,273,274,275,276,277,278,279,280,281,282,283,284,285,286,287,288,289,290,291,292,293,294,295,296,297,298,299,300,301,302,303,304,305,306,307,308,309,310,311,312,313,314,315,316,317,318,319,320,321,322,323,324,325,326,327,328,329,330,331,332,333,334,335,336,337,338,339,340,341,342,343,344,345,346,347,348,349,350,351,352,353,354,355,356,357,358,359,360,361,362,363,364,365,366,367,368,369,370,371,372,373,374,375,376,377,378,379,380,381,382,383,384,385,386,387,388,389,390,391,392,393,394,395,396,397,398,399,400,401,402,403,404,405,406,407,408,409,410,411,412,413,414,415,416,417,418,419,420,421,422,423,424,425,426,427,428,429,430,431,432,433,434,435,436,437,438,439,440,441,442,443,444,445,446,447,448,449,450,451,452,453,454,455,456,457,458,459,460,461,462,463,464,465,466,467,468,469,470,471,472,473,474,475,476,477,478,479,480,481,482,483,484,485,486,487,488,489,490,491,492,493,494,495,496,497,498,499,500,501,502,503,504,505,506,507,508,509,510,511,512,513,514,515,516,517,518,519,520,521,522,523,524,525,526,527,528,529,530,531,532,533,534,535,536,537,538,539,540,541,542,543,544,545,546,547,548,549,550,551,552,553,554,555,556,557,558,559,560,561,562,563,564,565,566,567,568,569,570,571,572,573,574,575,576,577,578,579,580,581,582,583,584,585,586,587,588,589,590,591,592,593,594,595,596,597,598,599,600,601,602,603,604,605,606,607,608,609,610,611,612,613,614,615,616,617,618,619,620,621,622,623,624,625,626,627,628,629,630,631,632,633,634,635,636,637,638,639,640,641,642,643,644,645,646,647,648,649,650,651,652,653,654,655,656,657,658,659,660,661,662,663,664,665,666,667,668,669,670,671,672,673,674,675,676,677,678,679,680,681,682,683,684,685,686,687,688,689,690,691,692,693,694,695,696,697,698,699,700,701,702,703,704,705,706,707,708,709,710,711,712,713,714,715,716,717,718,719,720,721,722,723,724,725,726,727,728,729,730,731,732,733,734,735,736,737,738,739,740,741,742,743,744,745,746,747,748,749,750,751,752,753,754,755,756,757,758,759,760,761,762,763,764,765,766,767,768,769,770,771,772,773,774,775,776,777,778,779,780,781,782,783,784,785,786,787,788,789,790,791,792,793,794,795,796,797,798,799,800,801,802,803,804,805,806,807,808,809,810,811,812,813,814,815,816,817,818,819,820,821,822,823,824,825,826,827,828,829,830,831,832,833,834,835,836,837,838,839,840,841,842,843,844,845,846,847,848,849,850,851,852,853,854,855,856,857,858,859,860,861,862,863,864,865,866,867,868,869,870,871,872,873,874,875,876,877,878,879,880,881,882,883,884,885,886,887,888,889,890,891,892,893,894,895,896,897,898,899,900,901,902,903,904,905,906,907,908,909,910,911,912,913,914,915,916,917,918,919,920,921,922,923,924,925,926,927,928,929,930,931,932,933,934,935,936,937,938,939,940,941,942,943,944,945,946,947,948,949,950,951,952,953,954,955,956,957,958,959,960,961,962,963,964,965,966,967,968,969,970,971,972,973,974,975,976,977,978,979,980,981,982,983,984,985,986,987,988,989,990,991,992,993,994,995,996,997,998,999,1000,1001,1002,1003,1004,1005,1006,1007,1008,1009,1010,1011,1012,1013,1014,1015,1016,1017,1018,1019,1020,1021,1022,1023,1024,1025,1026,1027,1028,1029,1030,1031,1032,1033,1034,1035,1036,1037,1038,1039,1040,1041,1042,1043,1044,1045,1046,1047,1048,1049,1050,1051,1052,1053,1054,1055,1056,1057,1058,1059,1060,1061,1062,1063,1064,1065,1066,1067,1068,1069,1070,1071,1072,1073,1074,1075,1076,1077,1078,1079,1080,1081,1082,1083,1084,1085,1086,1087,1088,1089,1090,1091,1092,1093,1094,1095,1096,1097,1098,1099,1100,1101,1102,1103,1104,1105,1106,1107,1108,1109,1110,1111,1112,1113,1114,1115,1116,1117,1118,1119,1120,1121,1122,1123,1124,1125,1126,1127,1128,1129,1130,1131,1132,1133,1134,1135,1136,1137,1138,1139,1140,1141,1142,1143,1144,1145,1146,1147,1148,1149,1150,1151,1152,1153,1154,1155,1156,1157,1158,1159,1160,1161,1162,1163,1164,1165,1166,1167,1168,1169,1170,1171,1172,1173,1174,1175,1176,1177,1178,1179,1180,1181,1182,1183,1184,1185,1186,1187,1188,1189,1190,1191,1192,1193,1194,1195,1196,1197,1198,1199,1200,1201,1202,1203,1204,1205,1206,1207,1208,1209,1210,1211,1212,1213,1214,1215,1216,1217,1218,1219,1220,1221,1222,1223,1224,1225,1226,1227,1228,1229,1230,1231,1232,1233,1234,1235,1236,1237,1238,1239,1240,1241,1242,1243,1244,1245,1246,1247,1248,1249,1250,1251,1252,1253,1254,1255,1256,1257,1258,1259,1260,1261,1262,1263,1264,1265,1266,1267,1268,1269,1270,1271,1272,1273,1274,1275,1276,1277,1278,1279,1280,1281,1282,1283,1284,1285,1286,1287,1288,1289,1290,1291,1292,1293,1294,1295,1296,1297,1298,1299,1300,1301,1302,1303,1304,1305,1306,1307,1308,1309,1310,1311,1312,1313,1314,1315,1316,1317,1318,1319,1320,1321,1322,1323,1324,1325,1326,1327,1328,1329,1330,1331,1332,1333,1334,1335,1336,1337,1338,1339,1340,1341,1342,1343,1344,1345,1346,1347,1348,1349,1350,1351,1352,1353,1354,1355,1356,1357,1358,1359,1360,1361,1362,1363,1364,1365,1366,1367,1368,1369,1370,1371,1372,1373,1374,1375,1376,1377,1378,1379,1380,1381,1382,1383,1384,1385,1386,1387,1388,1389,1390,1391,1392,1393,1394,1395,1396,1397,1398,1399,1400,1401,1402,1403,1404,1405,1406,1407,1408,1409,1410,1411,1412,1413,1414,1415,1416,1417,1418,1419,1420,1421,1422,1423,1424,1425,1426,1427,1428,1429,1430,1431,1432,1433,1434,1435,1436,1437,1438,1439,1440,1441,1442,1443,1444,1445,1446,1447,1448,1449,1450,1451,1452,1453,1454,1455,1456,1457,1458,1459,1460,1461,1462,1463,1464,1465,1466,1467,1468,1469,1470,1471,1472,1473,1474,1475,1476,1477,1478,1479,1480,1481,1482,1483,1484,1485,1486,1487,1488,1489,1490,1491,1492,1493,1494,1495,1496,1497,1498,1499,1500,1501,1502,1503,1504,1505,1506,1507,1508,1509,1510,1511,1512,1513,1514,1515,1516,1517,1518,1519,1520,1521,1522,1523,1524,1525,1526,1527,1528,1529,1530,1531,1532,1533,1534,1535,1536,1537,1538,1539,1540,1541,1542,1543,1544,1545,1546,1547,1548,1549,1550,1551,1552,1553,1554,1555,1556,1557,1558,1559,1560,1561,1562,1563,1564,1565,1566,1567,1568,1569,1570,1571,1572,1573,1574,1575,1576,1577,1578,1579,1580,1581,1582,1583,1584,1585,1586,1587,1588,1589,1590,1591,1592,1593,1594,1595,1596,1597,1598,1599,1600,1601,1602,1603,1604,1605,1606,1607,1608,1609,1610,1611,1612,1613,1614,1615,1616,1617,1618,1619,1620,1621,1622,1623,1624,1625,1626,1627,1628,1629,1630,1631,1632,1633,1634,1635,1636,1637,1638,1639,1640,1641,1642,1643,1644,1645,1646,1647,1648,1649,1650,1651,1652,1653,1654,1655,1656,1657,1658,1659,1660,1661,1662,1663,1664,1665,1666,1667,1668,1669,1670,1671,1672,1673,1674,1675,1676,1677,1678,1679,1680,1681,1682,1683,1684,1685,1686,1687,1688,1689,1690,1691,1692,1693,1694,1695,1696,1697,1698,1699,1700,1701,1702,1703,1704,1705,1706,1707,1708,1709,1710,1711,1712,1713,1714,1715,1716,1717,1718,1719,1720,1721,1722,1723,1724,1725,1726,1727,1728,1729,1730,1731,1732,1733,1734,1735,1736,1737,1738,1739,1740,1741,1742,1743,1744,1745,1746,1747,1748,1749,1750,1751,1752,1753,1754,1755,1756,1757,1758,1759,1760,1761,1762,1763,1764,1765,1766,1767,1768,1769,1770,1771,1772,1773,1774,1775,1776,1777,1778,1779,1780,1781,1782,1783,1784,1785,1786,1787,1788,1789,1790,1791,1792,1793,1794,1795,1796,1797,1798,1799,1800,1801,1802,1803,1804,1805,1806,1807,1808,1809,1810,1811,1812,1813,1814,1815,1816,1817,1818,1819,1820,1821,1822,1823,1824,1825,1826,1827,1828,1829,1830,1831,1832,1833,1834,1835,1836,1837,1838,1839,1840,1841,1842,1843,1844,1845,1846,1847,1848,1849,1850,1851,1852,1853,1854,1855,1856,1857,1858,1859,1860,1861,1862,1863,1864,1865,1866,1867,1868,1869,1870,1871,1872,1873,1874,1875,1876,1877,1878,1879,1880,1881,1882,1883,1884,1885,1886,1887,1888,1889,1890,1891,1892,1893,1894,1895,1896,1897,1898,1899,1900,1901,1902,1903,1904,1905,1906,1907,1908,1909,1910,1911,1912,1913,1914,1915,1916,1917,1918,1919,1920,1921,1922,1923,1924,1925,1926,1927,1928,1929,1930,1931,1932,1933,1934,1935,1936,1937,1938,1939,1940,1941,1942,1943,1944,1945,1946,1947,1948,1949,1950,1951,1952,1953,1954,1955,1956,1957,1958,1959,1960,1961,1962,1963,1964,1965,1966,1967,1968,1969,1970,1971,1972,1973,1974,1975,1976,1977,1978,1979,1980,1981,1982,1983,1984,1985,1986,1987,1988,1989,1990,1991,1992,1993,1994,1995,1996,1997,1998,1999],\"y\":{\"__ndarray__\":\"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\",\"dtype\":\"float64\",\"shape\":[2000]}},\"selected\":{\"id\":\"1488\",\"type\":\"Selection\"},\"selection_policy\":{\"id\":\"1489\",\"type\":\"UnionRenderers\"}},\"id\":\"1441\",\"type\":\"ColumnDataSource\"},{\"attributes\":{},\"id\":\"1288\",\"type\":\"HelpTool\"},{\"attributes\":{},\"id\":\"1485\",\"type\":\"BasicTickFormatter\"},{\"attributes\":{\"callback\":null},\"id\":\"1267\",\"type\":\"DataRange1d\"},{\"attributes\":{},\"id\":\"1488\",\"type\":\"Selection\"},{\"attributes\":{},\"id\":\"1269\",\"type\":\"LinearScale\"},{\"attributes\":{},\"id\":\"1487\",\"type\":\"BasicTickFormatter\"},{\"attributes\":{},\"id\":\"1271\",\"type\":\"LinearScale\"},{\"attributes\":{},\"id\":\"1489\",\"type\":\"UnionRenderers\"},{\"attributes\":{\"formatter\":{\"id\":\"1485\",\"type\":\"BasicTickFormatter\"},\"ticker\":{\"id\":\"1274\",\"type\":\"BasicTicker\"}},\"id\":\"1273\",\"type\":\"LinearAxis\"},{\"attributes\":{},\"id\":\"1274\",\"type\":\"BasicTicker\"},{\"attributes\":{\"text\":\"\"},\"id\":\"1482\",\"type\":\"Title\"},{\"attributes\":{\"ticker\":{\"id\":\"1274\",\"type\":\"BasicTicker\"}},\"id\":\"1277\",\"type\":\"Grid\"},{\"attributes\":{\"bottom_units\":\"screen\",\"fill_alpha\":{\"value\":0.5},\"fill_color\":{\"value\":\"lightgrey\"},\"left_units\":\"screen\",\"level\":\"overlay\",\"line_alpha\":{\"value\":1.0},\"line_color\":{\"value\":\"black\"},\"line_dash\":[4,4],\"line_width\":{\"value\":2},\"render_mode\":\"css\",\"right_units\":\"screen\",\"top_units\":\"screen\"},\"id\":\"1490\",\"type\":\"BoxAnnotation\"},{\"attributes\":{\"formatter\":{\"id\":\"1487\",\"type\":\"BasicTickFormatter\"},\"ticker\":{\"id\":\"1279\",\"type\":\"BasicTicker\"}},\"id\":\"1278\",\"type\":\"LinearAxis\"}],\"root_ids\":[\"1264\"]},\"title\":\"Bokeh Application\",\"version\":\"1.3.0\"}};\n",
       "  var render_items = [{\"docid\":\"ffd0b6d3-e41f-463e-a71e-f9de791af936\",\"roots\":{\"1264\":\"63a4a088-e8ba-448a-bd67-ac0967b75bfb\"}}];\n",
       "  root.Bokeh.embed.embed_items_notebook(docs_json, render_items);\n",
       "\n",
       "  }\n",
       "  if (root.Bokeh !== undefined) {\n",
       "    embed_document(root);\n",
       "  } else {\n",
       "    var attempts = 0;\n",
       "    var timer = setInterval(function(root) {\n",
       "      if (root.Bokeh !== undefined) {\n",
       "        embed_document(root);\n",
       "        clearInterval(timer);\n",
       "      }\n",
       "      attempts++;\n",
       "      if (attempts > 100) {\n",
       "        console.log(\"Bokeh: ERROR: Unable to run BokehJS code because BokehJS library is missing\");\n",
       "        clearInterval(timer);\n",
       "      }\n",
       "    }, 10, root)\n",
       "  }\n",
       "})(window);"
      ],
      "application/vnd.bokehjs_exec.v0+json": ""
     },
     "metadata": {
      "application/vnd.bokehjs_exec.v0+json": {
       "id": "1264"
      }
     },
     "output_type": "display_data"
    },
    {
     "data": {
      "text/html": [
       "\n",
       "\n",
       "\n",
       "\n",
       "\n",
       "\n",
       "  <div class=\"bk-root\" id=\"c0993ed8-f791-4127-96e5-5bf324a12898\" data-root-id=\"1296\"></div>\n"
      ]
     },
     "metadata": {},
     "output_type": "display_data"
    },
    {
     "data": {
      "application/javascript": [
       "(function(root) {\n",
       "  function embed_document(root) {\n",
       "    \n",
       "  var docs_json = {\"b4337d02-f911-4584-8cb5-1d63f5788d94\":{\"roots\":{\"references\":[{\"attributes\":{\"below\":[{\"id\":\"1305\",\"type\":\"LinearAxis\"}],\"center\":[{\"id\":\"1309\",\"type\":\"Grid\"},{\"id\":\"1314\",\"type\":\"Grid\"}],\"left\":[{\"id\":\"1310\",\"type\":\"LinearAxis\"}],\"renderers\":[{\"id\":\"1449\",\"type\":\"GlyphRenderer\"}],\"title\":{\"id\":\"1585\",\"type\":\"Title\"},\"toolbar\":{\"id\":\"1321\",\"type\":\"Toolbar\"},\"x_range\":{\"id\":\"1297\",\"type\":\"DataRange1d\"},\"x_scale\":{\"id\":\"1301\",\"type\":\"LinearScale\"},\"y_range\":{\"id\":\"1299\",\"type\":\"DataRange1d\"},\"y_scale\":{\"id\":\"1303\",\"type\":\"LinearScale\"}},\"id\":\"1296\",\"subtype\":\"Figure\",\"type\":\"Plot\"},{\"attributes\":{\"text\":\"\"},\"id\":\"1585\",\"type\":\"Title\"},{\"attributes\":{},\"id\":\"1591\",\"type\":\"Selection\"},{\"attributes\":{},\"id\":\"1311\",\"type\":\"BasicTicker\"},{\"attributes\":{\"data_source\":{\"id\":\"1446\",\"type\":\"ColumnDataSource\"},\"glyph\":{\"id\":\"1447\",\"type\":\"Line\"},\"hover_glyph\":null,\"muted_glyph\":null,\"name\":\"Bad password\",\"nonselection_glyph\":{\"id\":\"1448\",\"type\":\"Line\"},\"selection_glyph\":null,\"view\":{\"id\":\"1450\",\"type\":\"CDSView\"}},\"id\":\"1449\",\"type\":\"GlyphRenderer\"},{\"attributes\":{},\"id\":\"1592\",\"type\":\"UnionRenderers\"},{\"attributes\":{\"dimension\":1,\"ticker\":{\"id\":\"1311\",\"type\":\"BasicTicker\"}},\"id\":\"1314\",\"type\":\"Grid\"},{\"attributes\":{\"line_alpha\":0.1,\"line_color\":\"#1f77b4\",\"x\":{\"field\":\"x\"},\"y\":{\"field\":\"y\"}},\"id\":\"1448\",\"type\":\"Line\"},{\"attributes\":{\"bottom_units\":\"screen\",\"fill_alpha\":{\"value\":0.5},\"fill_color\":{\"value\":\"lightgrey\"},\"left_units\":\"screen\",\"level\":\"overlay\",\"line_alpha\":{\"value\":1.0},\"line_color\":{\"value\":\"black\"},\"line_dash\":[4,4],\"line_width\":{\"value\":2},\"render_mode\":\"css\",\"right_units\":\"screen\",\"top_units\":\"screen\"},\"id\":\"1593\",\"type\":\"BoxAnnotation\"},{\"attributes\":{\"callback\":null},\"id\":\"1297\",\"type\":\"DataRange1d\"},{\"attributes\":{\"line_color\":\"red\",\"x\":{\"field\":\"x\"},\"y\":{\"field\":\"y\"}},\"id\":\"1447\",\"type\":\"Line\"},{\"attributes\":{\"active_drag\":\"auto\",\"active_inspect\":\"auto\",\"active_multi\":null,\"active_scroll\":\"auto\",\"active_tap\":\"auto\",\"tools\":[{\"id\":\"1315\",\"type\":\"PanTool\"},{\"id\":\"1316\",\"type\":\"WheelZoomTool\"},{\"id\":\"1317\",\"type\":\"BoxZoomTool\"},{\"id\":\"1318\",\"type\":\"SaveTool\"},{\"id\":\"1319\",\"type\":\"ResetTool\"},{\"id\":\"1320\",\"type\":\"HelpTool\"},{\"id\":\"1439\",\"type\":\"CrosshairTool\"}]},\"id\":\"1321\",\"type\":\"Toolbar\"},{\"attributes\":{},\"id\":\"1315\",\"type\":\"PanTool\"},{\"attributes\":{},\"id\":\"1316\",\"type\":\"WheelZoomTool\"},{\"attributes\":{\"overlay\":{\"id\":\"1593\",\"type\":\"BoxAnnotation\"}},\"id\":\"1317\",\"type\":\"BoxZoomTool\"},{\"attributes\":{},\"id\":\"1318\",\"type\":\"SaveTool\"},{\"attributes\":{},\"id\":\"1319\",\"type\":\"ResetTool\"},{\"attributes\":{},\"id\":\"1320\",\"type\":\"HelpTool\"},{\"attributes\":{\"callback\":null},\"id\":\"1299\",\"type\":\"DataRange1d\"},{\"attributes\":{\"callback\":null,\"data\":{\"x\":[0,1,2,3,4,5,6,7,8,9,10,11,12,13,14,15,16,17,18,19,20,21,22,23,24,25,26,27,28,29,30,31,32,33,34,35,36,37,38,39,40,41,42,43,44,45,46,47,48,49,50,51,52,53,54,55,56,57,58,59,60,61,62,63,64,65,66,67,68,69,70,71,72,73,74,75,76,77,78,79,80,81,82,83,84,85,86,87,88,89,90,91,92,93,94,95,96,97,98,99,100,101,102,103,104,105,106,107,108,109,110,111,112,113,114,115,116,117,118,119,120,121,122,123,124,125,126,127,128,129,130,131,132,133,134,135,136,137,138,139,140,141,142,143,144,145,146,147,148,149,150,151,152,153,154,155,156,157,158,159,160,161,162,163,164,165,166,167,168,169,170,171,172,173,174,175,176,177,178,179,180,181,182,183,184,185,186,187,188,189,190,191,192,193,194,195,196,197,198,199,200,201,202,203,204,205,206,207,208,209,210,211,212,213,214,215,216,217,218,219,220,221,222,223,224,225,226,227,228,229,230,231,232,233,234,235,236,237,238,239,240,241,242,243,244,245,246,247,248,249,250,251,252,253,254,255,256,257,258,259,260,261,262,263,264,265,266,267,268,269,270,271,272,273,274,275,276,277,278,279,280,281,282,283,284,285,286,287,288,289,290,291,292,293,294,295,296,297,298,299,300,301,302,303,304,305,306,307,308,309,310,311,312,313,314,315,316,317,318,319,320,321,322,323,324,325,326,327,328,329,330,331,332,333,334,335,336,337,338,339,340,341,342,343,344,345,346,347,348,349,350,351,352,353,354,355,356,357,358,359,360,361,362,363,364,365,366,367,368,369,370,371,372,373,374,375,376,377,378,379,380,381,382,383,384,385,386,387,388,389,390,391,392,393,394,395,396,397,398,399,400,401,402,403,404,405,406,407,408,409,410,411,412,413,414,415,416,417,418,419,420,421,422,423,424,425,426,427,428,429,430,431,432,433,434,435,436,437,438,439,440,441,442,443,444,445,446,447,448,449,450,451,452,453,454,455,456,457,458,459,460,461,462,463,464,465,466,467,468,469,470,471,472,473,474,475,476,477,478,479,480,481,482,483,484,485,486,487,488,489,490,491,492,493,494,495,496,497,498,499,500,501,502,503,504,505,506,507,508,509,510,511,512,513,514,515,516,517,518,519,520,521,522,523,524,525,526,527,528,529,530,531,532,533,534,535,536,537,538,539,540,541,542,543,544,545,546,547,548,549,550,551,552,553,554,555,556,557,558,559,560,561,562,563,564,565,566,567,568,569,570,571,572,573,574,575,576,577,578,579,580,581,582,583,584,585,586,587,588,589,590,591,592,593,594,595,596,597,598,599,600,601,602,603,604,605,606,607,608,609,610,611,612,613,614,615,616,617,618,619,620,621,622,623,624,625,626,627,628,629,630,631,632,633,634,635,636,637,638,639,640,641,642,643,644,645,646,647,648,649,650,651,652,653,654,655,656,657,658,659,660,661,662,663,664,665,666,667,668,669,670,671,672,673,674,675,676,677,678,679,680,681,682,683,684,685,686,687,688,689,690,691,692,693,694,695,696,697,698,699,700,701,702,703,704,705,706,707,708,709,710,711,712,713,714,715,716,717,718,719,720,721,722,723,724,725,726,727,728,729,730,731,732,733,734,735,736,737,738,739,740,741,742,743,744,745,746,747,748,749,750,751,752,753,754,755,756,757,758,759,760,761,762,763,764,765,766,767,768,769,770,771,772,773,774,775,776,777,778,779,780,781,782,783,784,785,786,787,788,789,790,791,792,793,794,795,796,797,798,799,800,801,802,803,804,805,806,807,808,809,810,811,812,813,814,815,816,817,818,819,820,821,822,823,824,825,826,827,828,829,830,831,832,833,834,835,836,837,838,839,840,841,842,843,844,845,846,847,848,849,850,851,852,853,854,855,856,857,858,859,860,861,862,863,864,865,866,867,868,869,870,871,872,873,874,875,876,877,878,879,880,881,882,883,884,885,886,887,888,889,890,891,892,893,894,895,896,897,898,899,900,901,902,903,904,905,906,907,908,909,910,911,912,913,914,915,916,917,918,919,920,921,922,923,924,925,926,927,928,929,930,931,932,933,934,935,936,937,938,939,940,941,942,943,944,945,946,947,948,949,950,951,952,953,954,955,956,957,958,959,960,961,962,963,964,965,966,967,968,969,970,971,972,973,974,975,976,977,978,979,980,981,982,983,984,985,986,987,988,989,990,991,992,993,994,995,996,997,998,999,1000,1001,1002,1003,1004,1005,1006,1007,1008,1009,1010,1011,1012,1013,1014,1015,1016,1017,1018,1019,1020,1021,1022,1023,1024,1025,1026,1027,1028,1029,1030,1031,1032,1033,1034,1035,1036,1037,1038,1039,1040,1041,1042,1043,1044,1045,1046,1047,1048,1049,1050,1051,1052,1053,1054,1055,1056,1057,1058,1059,1060,1061,1062,1063,1064,1065,1066,1067,1068,1069,1070,1071,1072,1073,1074,1075,1076,1077,1078,1079,1080,1081,1082,1083,1084,1085,1086,1087,1088,1089,1090,1091,1092,1093,1094,1095,1096,1097,1098,1099,1100,1101,1102,1103,1104,1105,1106,1107,1108,1109,1110,1111,1112,1113,1114,1115,1116,1117,1118,1119,1120,1121,1122,1123,1124,1125,1126,1127,1128,1129,1130,1131,1132,1133,1134,1135,1136,1137,1138,1139,1140,1141,1142,1143,1144,1145,1146,1147,1148,1149,1150,1151,1152,1153,1154,1155,1156,1157,1158,1159,1160,1161,1162,1163,1164,1165,1166,1167,1168,1169,1170,1171,1172,1173,1174,1175,1176,1177,1178,1179,1180,1181,1182,1183,1184,1185,1186,1187,1188,1189,1190,1191,1192,1193,1194,1195,1196,1197,1198,1199,1200,1201,1202,1203,1204,1205,1206,1207,1208,1209,1210,1211,1212,1213,1214,1215,1216,1217,1218,1219,1220,1221,1222,1223,1224,1225,1226,1227,1228,1229,1230,1231,1232,1233,1234,1235,1236,1237,1238,1239,1240,1241,1242,1243,1244,1245,1246,1247,1248,1249,1250,1251,1252,1253,1254,1255,1256,1257,1258,1259,1260,1261,1262,1263,1264,1265,1266,1267,1268,1269,1270,1271,1272,1273,1274,1275,1276,1277,1278,1279,1280,1281,1282,1283,1284,1285,1286,1287,1288,1289,1290,1291,1292,1293,1294,1295,1296,1297,1298,1299,1300,1301,1302,1303,1304,1305,1306,1307,1308,1309,1310,1311,1312,1313,1314,1315,1316,1317,1318,1319,1320,1321,1322,1323,1324,1325,1326,1327,1328,1329,1330,1331,1332,1333,1334,1335,1336,1337,1338,1339,1340,1341,1342,1343,1344,1345,1346,1347,1348,1349,1350,1351,1352,1353,1354,1355,1356,1357,1358,1359,1360,1361,1362,1363,1364,1365,1366,1367,1368,1369,1370,1371,1372,1373,1374,1375,1376,1377,1378,1379,1380,1381,1382,1383,1384,1385,1386,1387,1388,1389,1390,1391,1392,1393,1394,1395,1396,1397,1398,1399,1400,1401,1402,1403,1404,1405,1406,1407,1408,1409,1410,1411,1412,1413,1414,1415,1416,1417,1418,1419,1420,1421,1422,1423,1424,1425,1426,1427,1428,1429,1430,1431,1432,1433,1434,1435,1436,1437,1438,1439,1440,1441,1442,1443,1444,1445,1446,1447,1448,1449,1450,1451,1452,1453,1454,1455,1456,1457,1458,1459,1460,1461,1462,1463,1464,1465,1466,1467,1468,1469,1470,1471,1472,1473,1474,1475,1476,1477,1478,1479,1480,1481,1482,1483,1484,1485,1486,1487,1488,1489,1490,1491,1492,1493,1494,1495,1496,1497,1498,1499,1500,1501,1502,1503,1504,1505,1506,1507,1508,1509,1510,1511,1512,1513,1514,1515,1516,1517,1518,1519,1520,1521,1522,1523,1524,1525,1526,1527,1528,1529,1530,1531,1532,1533,1534,1535,1536,1537,1538,1539,1540,1541,1542,1543,1544,1545,1546,1547,1548,1549,1550,1551,1552,1553,1554,1555,1556,1557,1558,1559,1560,1561,1562,1563,1564,1565,1566,1567,1568,1569,1570,1571,1572,1573,1574,1575,1576,1577,1578,1579,1580,1581,1582,1583,1584,1585,1586,1587,1588,1589,1590,1591,1592,1593,1594,1595,1596,1597,1598,1599,1600,1601,1602,1603,1604,1605,1606,1607,1608,1609,1610,1611,1612,1613,1614,1615,1616,1617,1618,1619,1620,1621,1622,1623,1624,1625,1626,1627,1628,1629,1630,1631,1632,1633,1634,1635,1636,1637,1638,1639,1640,1641,1642,1643,1644,1645,1646,1647,1648,1649,1650,1651,1652,1653,1654,1655,1656,1657,1658,1659,1660,1661,1662,1663,1664,1665,1666,1667,1668,1669,1670,1671,1672,1673,1674,1675,1676,1677,1678,1679,1680,1681,1682,1683,1684,1685,1686,1687,1688,1689,1690,1691,1692,1693,1694,1695,1696,1697,1698,1699,1700,1701,1702,1703,1704,1705,1706,1707,1708,1709,1710,1711,1712,1713,1714,1715,1716,1717,1718,1719,1720,1721,1722,1723,1724,1725,1726,1727,1728,1729,1730,1731,1732,1733,1734,1735,1736,1737,1738,1739,1740,1741,1742,1743,1744,1745,1746,1747,1748,1749,1750,1751,1752,1753,1754,1755,1756,1757,1758,1759,1760,1761,1762,1763,1764,1765,1766,1767,1768,1769,1770,1771,1772,1773,1774,1775,1776,1777,1778,1779,1780,1781,1782,1783,1784,1785,1786,1787,1788,1789,1790,1791,1792,1793,1794,1795,1796,1797,1798,1799,1800,1801,1802,1803,1804,1805,1806,1807,1808,1809,1810,1811,1812,1813,1814,1815,1816,1817,1818,1819,1820,1821,1822,1823,1824,1825,1826,1827,1828,1829,1830,1831,1832,1833,1834,1835,1836,1837,1838,1839,1840,1841,1842,1843,1844,1845,1846,1847,1848,1849,1850,1851,1852,1853,1854,1855,1856,1857,1858,1859,1860,1861,1862,1863,1864,1865,1866,1867,1868,1869,1870,1871,1872,1873,1874,1875,1876,1877,1878,1879,1880,1881,1882,1883,1884,1885,1886,1887,1888,1889,1890,1891,1892,1893,1894,1895,1896,1897,1898,1899,1900,1901,1902,1903,1904,1905,1906,1907,1908,1909,1910,1911,1912,1913,1914,1915,1916,1917,1918,1919,1920,1921,1922,1923,1924,1925,1926,1927,1928,1929,1930,1931,1932,1933,1934,1935,1936,1937,1938,1939,1940,1941,1942,1943,1944,1945,1946,1947,1948,1949,1950,1951,1952,1953,1954,1955,1956,1957,1958,1959,1960,1961,1962,1963,1964,1965,1966,1967,1968,1969,1970,1971,1972,1973,1974,1975,1976,1977,1978,1979,1980,1981,1982,1983,1984,1985,1986,1987,1988,1989,1990,1991,1992,1993,1994,1995,1996,1997,1998,1999],\"y\":{\"__ndarray__\":\"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\",\"dtype\":\"float64\",\"shape\":[2000]}},\"selected\":{\"id\":\"1591\",\"type\":\"Selection\"},\"selection_policy\":{\"id\":\"1592\",\"type\":\"UnionRenderers\"}},\"id\":\"1446\",\"type\":\"ColumnDataSource\"},{\"attributes\":{},\"id\":\"1301\",\"type\":\"LinearScale\"},{\"attributes\":{},\"id\":\"1303\",\"type\":\"LinearScale\"},{\"attributes\":{},\"id\":\"1588\",\"type\":\"BasicTickFormatter\"},{\"attributes\":{},\"id\":\"1590\",\"type\":\"BasicTickFormatter\"},{\"attributes\":{\"formatter\":{\"id\":\"1588\",\"type\":\"BasicTickFormatter\"},\"ticker\":{\"id\":\"1306\",\"type\":\"BasicTicker\"}},\"id\":\"1305\",\"type\":\"LinearAxis\"},{\"attributes\":{},\"id\":\"1439\",\"type\":\"CrosshairTool\"},{\"attributes\":{},\"id\":\"1306\",\"type\":\"BasicTicker\"},{\"attributes\":{\"ticker\":{\"id\":\"1306\",\"type\":\"BasicTicker\"}},\"id\":\"1309\",\"type\":\"Grid\"},{\"attributes\":{\"source\":{\"id\":\"1446\",\"type\":\"ColumnDataSource\"}},\"id\":\"1450\",\"type\":\"CDSView\"},{\"attributes\":{\"formatter\":{\"id\":\"1590\",\"type\":\"BasicTickFormatter\"},\"ticker\":{\"id\":\"1311\",\"type\":\"BasicTicker\"}},\"id\":\"1310\",\"type\":\"LinearAxis\"}],\"root_ids\":[\"1296\"]},\"title\":\"Bokeh Application\",\"version\":\"1.3.0\"}};\n",
       "  var render_items = [{\"docid\":\"b4337d02-f911-4584-8cb5-1d63f5788d94\",\"roots\":{\"1296\":\"c0993ed8-f791-4127-96e5-5bf324a12898\"}}];\n",
       "  root.Bokeh.embed.embed_items_notebook(docs_json, render_items);\n",
       "\n",
       "  }\n",
       "  if (root.Bokeh !== undefined) {\n",
       "    embed_document(root);\n",
       "  } else {\n",
       "    var attempts = 0;\n",
       "    var timer = setInterval(function(root) {\n",
       "      if (root.Bokeh !== undefined) {\n",
       "        embed_document(root);\n",
       "        clearInterval(timer);\n",
       "      }\n",
       "      attempts++;\n",
       "      if (attempts > 100) {\n",
       "        console.log(\"Bokeh: ERROR: Unable to run BokehJS code because BokehJS library is missing\");\n",
       "        clearInterval(timer);\n",
       "      }\n",
       "    }, 10, root)\n",
       "  }\n",
       "})(window);"
      ],
      "application/vnd.bokehjs_exec.v0+json": ""
     },
     "metadata": {
      "application/vnd.bokehjs_exec.v0+json": {
       "id": "1296"
      }
     },
     "output_type": "display_data"
    }
   ],
   "source": [
    "trace = cap_pass_trace(\"aaaaa\\n\")\n",
    "new_trace = cap_pass_trace(password_good+\"\\n\")\n",
    "x_range = range(0, len(new_trace))\n",
    "p = figure()\n",
    "p1 = figure()\n",
    "p2 = figure()\n",
    "p.add_tools(CrosshairTool())\n",
    "p.line(x_range, new_trace, line_color='blue',name='Good password')\n",
    "p.line(x_range, trace, line_color='red')\n",
    "show(p)\n",
    "\n",
    "#Split\n",
    "p1.add_tools(CrosshairTool())\n",
    "p2.add_tools(CrosshairTool())\n",
    "p1.line(x_range, new_trace, line_color='blue',name='Good password')\n",
    "p2.line(x_range, trace, line_color='red', name='Bad password')\n",
    "show(p1)\n",
    "show(p2)\n"
   ]
  },
  {
   "cell_type": "markdown",
   "metadata": {},
   "source": [
    "Create a function to make drawing graphs easier, plus better gui options to obtain values."
   ]
  },
  {
   "cell_type": "code",
   "execution_count": 16,
   "metadata": {},
   "outputs": [],
   "source": [
    "def graph_trace(trace, max_range=len(trace), markers={}):\n",
    "    x_range = range(0, max_range)\n",
    "    TOOLTIPS = [\n",
    "        (\"index\", \"$index\"),\n",
    "        (\"(Trace,Power)\", \"(@x{00}, @y{0.00})\"),\n",
    "    ]\n",
    "    plot = figure(tooltips=TOOLTIPS,width=900,height=300)\n",
    "    plot.add_tools(CrosshairTool())\n",
    "    plot.line(x_range, trace[:max_range], line_color='black')\n",
    "    \n",
    "    if markers.get('markers_x') and markers.get('markers_y'):\n",
    "        x = markers.get('markers_x')\n",
    "        y = markers.get('markers_y')\n",
    "\n",
    "        # Add markers to graph to draw attention\n",
    "        plot.circle(x=x, y=y, size=7,color='blue',alpha=0.4)\n",
    "\n",
    "    show(plot)"
   ]
  },
  {
   "cell_type": "markdown",
   "metadata": {},
   "source": [
    "You should see both traces start and end similarly, but differ elsewhere. If you look closely, you should see that the blue trace looks a lot like the red trace but shifted later in time. We'll use this timing difference to break the password!\n",
    "\n",
    "Edit the above block to try different passwords and see how it changes for different lengths and number of correct characters. \n",
    "\n",
    "Go back to the original guesses (`\"\\n\"` and `\"h\\n\"`) and find some distinct spikes that get shifted in time. Your target may differ, but in my case, there were some distinct spikes of about -0.21 at 217 in red and 253 in blue. The plot is interactive, so you can zoom in and move around using the buttons on the right side of the plot. Record their locations, value, and the difference in location (in my case, 217, 253, -0.21, and 36)."
   ]
  },
  {
   "cell_type": "markdown",
   "metadata": {},
   "source": [
    "## Attacking a Single Letter"
   ]
  },
  {
   "cell_type": "markdown",
   "metadata": {},
   "source": [
    "Now that we've located a distinctive timing difference, we can start building our attack. We'll start with a single letter, since that will quickly give us some feedback on the attack.\n",
    "\n",
    "The plan for the attack is simple: keep guessing letters until we no longer see the distinctive spike in the original location. To do this, we'll create a loop that:\n",
    "\n",
    "* Figures out our next guess\n",
    "* Does the capture and records the trace\n",
    "* Checks if sample 217 is larger than -0.2 (replace with appropriate values)\n",
    "\n",
    "To make things a little easier for later, we'll make a function that will return whether our spike is (guess incorrect) or isn't (guess correct) in the right location:"
   ]
  },
  {
   "cell_type": "code",
   "execution_count": 17,
   "metadata": {},
   "outputs": [],
   "source": [
    "def checkpass(trace, i):\n",
    "    if PLATFORM == \"CWNANO\":\n",
    "        #There's a bit of jitter\n",
    "        return (trace[228 + 11*i] < 3 and trace[227 + 11*i] < 0.3)\n",
    "    elif PLATFORM == \"CWLITEARM\" or PLATFORM == \"CW308_STM32F3\":\n",
    "        return trace[229 + 36*i] > -0.2\n",
    "    elif PLATFORM == \"CW303\" or PLATFORM == \"CWLITEXMEGA\":\n",
    "        return trace[121 + 72 * i] > -0.3\n"
   ]
  },
  {
   "cell_type": "markdown",
   "metadata": {},
   "source": [
    "Let's modify the checkpass function to make it easier to adjust for deviations"
   ]
  },
  {
   "cell_type": "code",
   "execution_count": 18,
   "metadata": {},
   "outputs": [],
   "source": [
    "def checkpass(trace, i, power=-0.3,start_trace=121,trace_step=72,jitter=0):\n",
    "    if PLATFORM == \"CWNANO\":\n",
    "        #There's a bit of jitter\n",
    "        return (trace[228 + 11*i] < 3 and trace[227 + 11*i] < 0.3)\n",
    "    elif PLATFORM == \"CWLITEARM\" or PLATFORM == \"CW308_STM32F3\":\n",
    "        return trace[229 + 36*i] > -0.2\n",
    "    elif PLATFORM == \"CW303\" or PLATFORM == \"CWLITEXMEGA\":\n",
    "        return trace[start_trace + (trace_step * i) + jitter] > power"
   ]
  },
  {
   "cell_type": "markdown",
   "metadata": {},
   "source": [
    "The below loop finds the first correct character, prints it, then ends. You should see \"Success: h\" after a while.  \n",
    "Expect this code to fail in finding the correct character for the password.  \n",
    "Take the time to analyze the trace readout and find the point in time of the trace that indicates when a char is wrong.  \n",
    "\n",
    "Tip: Compare the bad guess trace with the correct password trace. Start by comparing each trace point from left to right and take note of the different points.  \n",
    "Personally I found it easier to read the traces after zooming into the trace to make it easier to visually compare points. \n",
    "This [trace](https://wiki.newae.com/File:Passwordcrackerpts.png) from an older NewAE [tutorial](https://wiki.newae.com/V3:Tutorial_B3-1_Timing_Analysis_with_Power_for_Password_Bypass) demonstrates the goal best."
   ]
  },
  {
   "cell_type": "code",
   "execution_count": 19,
   "metadata": {},
   "outputs": [
    {
     "name": "stderr",
     "output_type": "stream",
     "text": [
      "WARNING:root:SAM3U Serial buffers OVERRUN - data loss has occurred.\n"
     ]
    },
    {
     "name": "stdout",
     "output_type": "stream",
     "text": [
      "Success: h\n"
     ]
    },
    {
     "data": {
      "text/html": [
       "\n",
       "\n",
       "\n",
       "\n",
       "\n",
       "\n",
       "  <div class=\"bk-root\" id=\"5bc548a8-2f5b-4bbf-baea-d5f765c42959\" data-root-id=\"1648\"></div>\n"
      ]
     },
     "metadata": {},
     "output_type": "display_data"
    },
    {
     "data": {
      "application/javascript": [
       "(function(root) {\n",
       "  function embed_document(root) {\n",
       "    \n",
       "  var docs_json = {\"bd01b57d-9748-4378-96f9-7a6c4edfe503\":{\"roots\":{\"references\":[{\"attributes\":{\"below\":[{\"id\":\"1657\",\"type\":\"LinearAxis\"}],\"center\":[{\"id\":\"1661\",\"type\":\"Grid\"},{\"id\":\"1666\",\"type\":\"Grid\"}],\"left\":[{\"id\":\"1662\",\"type\":\"LinearAxis\"}],\"plot_height\":300,\"plot_width\":900,\"renderers\":[{\"id\":\"1687\",\"type\":\"GlyphRenderer\"}],\"title\":{\"id\":\"1738\",\"type\":\"Title\"},\"toolbar\":{\"id\":\"1674\",\"type\":\"Toolbar\"},\"x_range\":{\"id\":\"1649\",\"type\":\"DataRange1d\"},\"x_scale\":{\"id\":\"1653\",\"type\":\"LinearScale\"},\"y_range\":{\"id\":\"1651\",\"type\":\"DataRange1d\"},\"y_scale\":{\"id\":\"1655\",\"type\":\"LinearScale\"}},\"id\":\"1648\",\"subtype\":\"Figure\",\"type\":\"Plot\"},{\"attributes\":{\"source\":{\"id\":\"1684\",\"type\":\"ColumnDataSource\"}},\"id\":\"1688\",\"type\":\"CDSView\"},{\"attributes\":{\"formatter\":{\"id\":\"1741\",\"type\":\"BasicTickFormatter\"},\"ticker\":{\"id\":\"1658\",\"type\":\"BasicTicker\"}},\"id\":\"1657\",\"type\":\"LinearAxis\"},{\"attributes\":{},\"id\":\"1658\",\"type\":\"BasicTicker\"},{\"attributes\":{},\"id\":\"1741\",\"type\":\"BasicTickFormatter\"},{\"attributes\":{\"bottom_units\":\"screen\",\"fill_alpha\":{\"value\":0.5},\"fill_color\":{\"value\":\"lightgrey\"},\"left_units\":\"screen\",\"level\":\"overlay\",\"line_alpha\":{\"value\":1.0},\"line_color\":{\"value\":\"black\"},\"line_dash\":[4,4],\"line_width\":{\"value\":2},\"render_mode\":\"css\",\"right_units\":\"screen\",\"top_units\":\"screen\"},\"id\":\"1746\",\"type\":\"BoxAnnotation\"},{\"attributes\":{\"ticker\":{\"id\":\"1658\",\"type\":\"BasicTicker\"}},\"id\":\"1661\",\"type\":\"Grid\"},{\"attributes\":{},\"id\":\"1743\",\"type\":\"BasicTickFormatter\"},{\"attributes\":{\"text\":\"\"},\"id\":\"1738\",\"type\":\"Title\"},{\"attributes\":{\"formatter\":{\"id\":\"1743\",\"type\":\"BasicTickFormatter\"},\"ticker\":{\"id\":\"1663\",\"type\":\"BasicTicker\"}},\"id\":\"1662\",\"type\":\"LinearAxis\"},{\"attributes\":{},\"id\":\"1744\",\"type\":\"Selection\"},{\"attributes\":{},\"id\":\"1663\",\"type\":\"BasicTicker\"},{\"attributes\":{},\"id\":\"1745\",\"type\":\"UnionRenderers\"},{\"attributes\":{\"dimension\":1,\"ticker\":{\"id\":\"1663\",\"type\":\"BasicTicker\"}},\"id\":\"1666\",\"type\":\"Grid\"},{\"attributes\":{\"x\":{\"field\":\"x\"},\"y\":{\"field\":\"y\"}},\"id\":\"1685\",\"type\":\"Line\"},{\"attributes\":{\"callback\":null,\"data\":{\"x\":[0,1,2,3,4,5,6,7,8,9,10,11,12,13,14,15,16,17,18,19,20,21,22,23,24,25,26,27,28,29,30,31,32,33,34,35,36,37,38,39,40,41,42,43,44,45,46,47,48,49,50,51,52,53,54,55,56,57,58,59,60,61,62,63,64,65,66,67,68,69,70,71,72,73,74,75,76,77,78,79,80,81,82,83,84,85,86,87,88,89,90,91,92,93,94,95,96,97,98,99,100,101,102,103,104,105,106,107,108,109,110,111,112,113,114,115,116,117,118,119,120,121,122,123,124,125,126,127,128,129,130,131,132,133,134,135,136,137,138,139,140,141,142,143,144,145,146,147,148,149,150,151,152,153,154,155,156,157,158,159,160,161,162,163,164,165,166,167,168,169,170,171,172,173,174,175,176,177,178,179,180,181,182,183,184,185,186,187,188,189,190,191,192,193,194,195,196,197,198,199,200,201,202,203,204,205,206,207,208,209,210,211,212,213,214,215,216,217,218,219,220,221,222,223,224,225,226,227,228,229,230,231,232,233,234,235,236,237,238,239,240,241,242,243,244,245,246,247,248,249,250,251,252,253,254,255,256,257,258,259,260,261,262,263,264,265,266,267,268,269,270,271,272,273,274,275,276,277,278,279,280,281,282,283,284,285,286,287,288,289,290,291,292,293,294,295,296,297,298,299,300,301,302,303,304,305,306],\"y\":{\"__ndarray__\":\"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\",\"dtype\":\"float64\",\"shape\":[307]}},\"selected\":{\"id\":\"1744\",\"type\":\"Selection\"},\"selection_policy\":{\"id\":\"1745\",\"type\":\"UnionRenderers\"}},\"id\":\"1684\",\"type\":\"ColumnDataSource\"},{\"attributes\":{\"active_drag\":\"auto\",\"active_inspect\":\"auto\",\"active_multi\":null,\"active_scroll\":\"auto\",\"active_tap\":\"auto\",\"tools\":[{\"id\":\"1667\",\"type\":\"PanTool\"},{\"id\":\"1668\",\"type\":\"WheelZoomTool\"},{\"id\":\"1669\",\"type\":\"BoxZoomTool\"},{\"id\":\"1670\",\"type\":\"SaveTool\"},{\"id\":\"1671\",\"type\":\"ResetTool\"},{\"id\":\"1672\",\"type\":\"HelpTool\"},{\"id\":\"1673\",\"type\":\"HoverTool\"},{\"id\":\"1682\",\"type\":\"CrosshairTool\"}]},\"id\":\"1674\",\"type\":\"Toolbar\"},{\"attributes\":{},\"id\":\"1667\",\"type\":\"PanTool\"},{\"attributes\":{},\"id\":\"1653\",\"type\":\"LinearScale\"},{\"attributes\":{},\"id\":\"1668\",\"type\":\"WheelZoomTool\"},{\"attributes\":{},\"id\":\"1655\",\"type\":\"LinearScale\"},{\"attributes\":{\"callback\":null},\"id\":\"1651\",\"type\":\"DataRange1d\"},{\"attributes\":{\"overlay\":{\"id\":\"1746\",\"type\":\"BoxAnnotation\"}},\"id\":\"1669\",\"type\":\"BoxZoomTool\"},{\"attributes\":{},\"id\":\"1670\",\"type\":\"SaveTool\"},{\"attributes\":{},\"id\":\"1671\",\"type\":\"ResetTool\"},{\"attributes\":{},\"id\":\"1672\",\"type\":\"HelpTool\"},{\"attributes\":{\"callback\":null},\"id\":\"1649\",\"type\":\"DataRange1d\"},{\"attributes\":{\"callback\":null,\"tooltips\":[[\"index\",\"$index\"],[\"(Trace,Power)\",\"(@x{00}, @y{0.00})\"]]},\"id\":\"1673\",\"type\":\"HoverTool\"},{\"attributes\":{\"line_alpha\":0.1,\"line_color\":\"#1f77b4\",\"x\":{\"field\":\"x\"},\"y\":{\"field\":\"y\"}},\"id\":\"1686\",\"type\":\"Line\"},{\"attributes\":{},\"id\":\"1682\",\"type\":\"CrosshairTool\"},{\"attributes\":{\"data_source\":{\"id\":\"1684\",\"type\":\"ColumnDataSource\"},\"glyph\":{\"id\":\"1685\",\"type\":\"Line\"},\"hover_glyph\":null,\"muted_glyph\":null,\"nonselection_glyph\":{\"id\":\"1686\",\"type\":\"Line\"},\"selection_glyph\":null,\"view\":{\"id\":\"1688\",\"type\":\"CDSView\"}},\"id\":\"1687\",\"type\":\"GlyphRenderer\"}],\"root_ids\":[\"1648\"]},\"title\":\"Bokeh Application\",\"version\":\"1.3.0\"}};\n",
       "  var render_items = [{\"docid\":\"bd01b57d-9748-4378-96f9-7a6c4edfe503\",\"roots\":{\"1648\":\"5bc548a8-2f5b-4bbf-baea-d5f765c42959\"}}];\n",
       "  root.Bokeh.embed.embed_items_notebook(docs_json, render_items);\n",
       "\n",
       "  }\n",
       "  if (root.Bokeh !== undefined) {\n",
       "    embed_document(root);\n",
       "  } else {\n",
       "    var attempts = 0;\n",
       "    var timer = setInterval(function(root) {\n",
       "      if (root.Bokeh !== undefined) {\n",
       "        embed_document(root);\n",
       "        clearInterval(timer);\n",
       "      }\n",
       "      attempts++;\n",
       "      if (attempts > 100) {\n",
       "        console.log(\"Bokeh: ERROR: Unable to run BokehJS code because BokehJS library is missing\");\n",
       "        clearInterval(timer);\n",
       "      }\n",
       "    }, 10, root)\n",
       "  }\n",
       "})(window);"
      ],
      "application/vnd.bokehjs_exec.v0+json": ""
     },
     "metadata": {
      "application/vnd.bokehjs_exec.v0+json": {
       "id": "1648"
      }
     },
     "output_type": "display_data"
    },
    {
     "data": {
      "text/html": [
       "\n",
       "\n",
       "\n",
       "\n",
       "\n",
       "\n",
       "  <div class=\"bk-root\" id=\"804c7c15-b6c3-48f6-b8ba-e783192722a1\" data-root-id=\"1801\"></div>\n"
      ]
     },
     "metadata": {},
     "output_type": "display_data"
    },
    {
     "data": {
      "application/javascript": [
       "(function(root) {\n",
       "  function embed_document(root) {\n",
       "    \n",
       "  var docs_json = {\"af23a7d2-7f50-468b-87f9-d6b4c1b8bf43\":{\"roots\":{\"references\":[{\"attributes\":{\"below\":[{\"id\":\"1810\",\"type\":\"LinearAxis\"}],\"center\":[{\"id\":\"1814\",\"type\":\"Grid\"},{\"id\":\"1819\",\"type\":\"Grid\"}],\"left\":[{\"id\":\"1815\",\"type\":\"LinearAxis\"}],\"plot_height\":300,\"plot_width\":900,\"renderers\":[{\"id\":\"1840\",\"type\":\"GlyphRenderer\"}],\"title\":{\"id\":\"1900\",\"type\":\"Title\"},\"toolbar\":{\"id\":\"1827\",\"type\":\"Toolbar\"},\"x_range\":{\"id\":\"1802\",\"type\":\"DataRange1d\"},\"x_scale\":{\"id\":\"1806\",\"type\":\"LinearScale\"},\"y_range\":{\"id\":\"1804\",\"type\":\"DataRange1d\"},\"y_scale\":{\"id\":\"1808\",\"type\":\"LinearScale\"}},\"id\":\"1801\",\"subtype\":\"Figure\",\"type\":\"Plot\"},{\"attributes\":{},\"id\":\"1906\",\"type\":\"Selection\"},{\"attributes\":{\"dimension\":1,\"ticker\":{\"id\":\"1816\",\"type\":\"BasicTicker\"}},\"id\":\"1819\",\"type\":\"Grid\"},{\"attributes\":{},\"id\":\"1907\",\"type\":\"UnionRenderers\"},{\"attributes\":{\"x\":{\"field\":\"x\"},\"y\":{\"field\":\"y\"}},\"id\":\"1838\",\"type\":\"Line\"},{\"attributes\":{\"bottom_units\":\"screen\",\"fill_alpha\":{\"value\":0.5},\"fill_color\":{\"value\":\"lightgrey\"},\"left_units\":\"screen\",\"level\":\"overlay\",\"line_alpha\":{\"value\":1.0},\"line_color\":{\"value\":\"black\"},\"line_dash\":[4,4],\"line_width\":{\"value\":2},\"render_mode\":\"css\",\"right_units\":\"screen\",\"top_units\":\"screen\"},\"id\":\"1908\",\"type\":\"BoxAnnotation\"},{\"attributes\":{\"callback\":null,\"data\":{\"x\":[0,1,2,3,4,5,6,7,8,9,10,11,12,13,14,15,16,17,18,19,20,21,22,23,24,25,26,27,28,29,30,31,32,33,34,35,36,37,38,39,40,41,42,43,44,45,46,47,48,49,50,51,52,53,54,55,56,57,58,59,60,61,62,63,64,65,66,67,68,69,70,71,72,73,74,75,76,77,78,79,80,81,82,83,84,85,86,87,88,89,90,91,92,93,94,95,96,97,98,99,100,101,102,103,104,105,106,107,108,109,110,111,112,113,114,115,116,117,118,119,120,121,122,123,124,125,126,127,128,129,130,131,132,133,134,135,136,137,138,139,140,141,142,143,144,145,146,147,148,149,150,151,152,153,154,155,156,157,158,159,160,161,162,163,164,165,166,167,168,169,170,171,172,173,174,175,176,177,178,179,180,181,182,183,184,185,186,187,188,189,190,191,192,193,194,195,196,197,198,199,200,201,202,203,204,205,206,207,208,209,210,211,212,213,214,215,216,217,218,219,220,221,222,223,224,225,226,227,228,229,230,231,232,233,234,235,236,237,238,239,240,241,242,243,244,245,246,247,248,249,250,251,252,253,254,255,256,257,258,259,260,261,262,263,264,265,266,267,268,269,270,271,272,273,274,275,276,277,278,279,280,281,282,283,284,285,286,287,288,289,290,291,292,293,294,295,296,297,298,299,300,301,302,303,304,305,306],\"y\":{\"__ndarray__\":\"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\",\"dtype\":\"float64\",\"shape\":[307]}},\"selected\":{\"id\":\"1906\",\"type\":\"Selection\"},\"selection_policy\":{\"id\":\"1907\",\"type\":\"UnionRenderers\"}},\"id\":\"1837\",\"type\":\"ColumnDataSource\"},{\"attributes\":{\"active_drag\":\"auto\",\"active_inspect\":\"auto\",\"active_multi\":null,\"active_scroll\":\"auto\",\"active_tap\":\"auto\",\"tools\":[{\"id\":\"1820\",\"type\":\"PanTool\"},{\"id\":\"1821\",\"type\":\"WheelZoomTool\"},{\"id\":\"1822\",\"type\":\"BoxZoomTool\"},{\"id\":\"1823\",\"type\":\"SaveTool\"},{\"id\":\"1824\",\"type\":\"ResetTool\"},{\"id\":\"1825\",\"type\":\"HelpTool\"},{\"id\":\"1826\",\"type\":\"HoverTool\"},{\"id\":\"1835\",\"type\":\"CrosshairTool\"}]},\"id\":\"1827\",\"type\":\"Toolbar\"},{\"attributes\":{},\"id\":\"1820\",\"type\":\"PanTool\"},{\"attributes\":{},\"id\":\"1821\",\"type\":\"WheelZoomTool\"},{\"attributes\":{\"overlay\":{\"id\":\"1908\",\"type\":\"BoxAnnotation\"}},\"id\":\"1822\",\"type\":\"BoxZoomTool\"},{\"attributes\":{},\"id\":\"1823\",\"type\":\"SaveTool\"},{\"attributes\":{\"formatter\":{\"id\":\"1905\",\"type\":\"BasicTickFormatter\"},\"ticker\":{\"id\":\"1816\",\"type\":\"BasicTicker\"}},\"id\":\"1815\",\"type\":\"LinearAxis\"},{\"attributes\":{},\"id\":\"1824\",\"type\":\"ResetTool\"},{\"attributes\":{},\"id\":\"1825\",\"type\":\"HelpTool\"},{\"attributes\":{},\"id\":\"1835\",\"type\":\"CrosshairTool\"},{\"attributes\":{\"callback\":null,\"tooltips\":[[\"index\",\"$index\"],[\"(Trace,Power)\",\"(@x{00}, @y{0.00})\"]]},\"id\":\"1826\",\"type\":\"HoverTool\"},{\"attributes\":{\"callback\":null},\"id\":\"1804\",\"type\":\"DataRange1d\"},{\"attributes\":{\"callback\":null},\"id\":\"1802\",\"type\":\"DataRange1d\"},{\"attributes\":{\"ticker\":{\"id\":\"1811\",\"type\":\"BasicTicker\"}},\"id\":\"1814\",\"type\":\"Grid\"},{\"attributes\":{\"line_alpha\":0.1,\"line_color\":\"#1f77b4\",\"x\":{\"field\":\"x\"},\"y\":{\"field\":\"y\"}},\"id\":\"1839\",\"type\":\"Line\"},{\"attributes\":{\"data_source\":{\"id\":\"1837\",\"type\":\"ColumnDataSource\"},\"glyph\":{\"id\":\"1838\",\"type\":\"Line\"},\"hover_glyph\":null,\"muted_glyph\":null,\"nonselection_glyph\":{\"id\":\"1839\",\"type\":\"Line\"},\"selection_glyph\":null,\"view\":{\"id\":\"1841\",\"type\":\"CDSView\"}},\"id\":\"1840\",\"type\":\"GlyphRenderer\"},{\"attributes\":{\"formatter\":{\"id\":\"1903\",\"type\":\"BasicTickFormatter\"},\"ticker\":{\"id\":\"1811\",\"type\":\"BasicTicker\"}},\"id\":\"1810\",\"type\":\"LinearAxis\"},{\"attributes\":{\"source\":{\"id\":\"1837\",\"type\":\"ColumnDataSource\"}},\"id\":\"1841\",\"type\":\"CDSView\"},{\"attributes\":{},\"id\":\"1811\",\"type\":\"BasicTicker\"},{\"attributes\":{},\"id\":\"1808\",\"type\":\"LinearScale\"},{\"attributes\":{},\"id\":\"1816\",\"type\":\"BasicTicker\"},{\"attributes\":{},\"id\":\"1903\",\"type\":\"BasicTickFormatter\"},{\"attributes\":{\"text\":\"\"},\"id\":\"1900\",\"type\":\"Title\"},{\"attributes\":{},\"id\":\"1806\",\"type\":\"LinearScale\"},{\"attributes\":{},\"id\":\"1905\",\"type\":\"BasicTickFormatter\"}],\"root_ids\":[\"1801\"]},\"title\":\"Bokeh Application\",\"version\":\"1.3.0\"}};\n",
       "  var render_items = [{\"docid\":\"af23a7d2-7f50-468b-87f9-d6b4c1b8bf43\",\"roots\":{\"1801\":\"804c7c15-b6c3-48f6-b8ba-e783192722a1\"}}];\n",
       "  root.Bokeh.embed.embed_items_notebook(docs_json, render_items);\n",
       "\n",
       "  }\n",
       "  if (root.Bokeh !== undefined) {\n",
       "    embed_document(root);\n",
       "  } else {\n",
       "    var attempts = 0;\n",
       "    var timer = setInterval(function(root) {\n",
       "      if (root.Bokeh !== undefined) {\n",
       "        embed_document(root);\n",
       "        clearInterval(timer);\n",
       "      }\n",
       "      attempts++;\n",
       "      if (attempts > 100) {\n",
       "        console.log(\"Bokeh: ERROR: Unable to run BokehJS code because BokehJS library is missing\");\n",
       "        clearInterval(timer);\n",
       "      }\n",
       "    }, 10, root)\n",
       "  }\n",
       "})(window);"
      ],
      "application/vnd.bokehjs_exec.v0+json": ""
     },
     "metadata": {
      "application/vnd.bokehjs_exec.v0+json": {
       "id": "1801"
      }
     },
     "output_type": "display_data"
    }
   ],
   "source": [
    "trylist = \"abcdefghijklmnopqrstuvwxyz0123456789\"\n",
    "password = \"\"\n",
    "power_threshold = -0.20 # Important\n",
    "trace_step = 40 # This value isn't important when guessing only the first char\n",
    "trace_index = 145 # Really import. You might have to compare two trace points to account for jitter.\n",
    "\n",
    "# Attempt bruteforce first char of password\n",
    "for c in trylist:\n",
    "    next_pass = password + c + \"\\n\"\n",
    "    trace = cap_pass_trace(next_pass)\n",
    "    \n",
    "    if (\n",
    "        checkpass(trace, 0,power_threshold,trace_index,trace_step) \n",
    "        and \n",
    "        checkpass(trace, 0,power_threshold,trace_index+1,trace_step)\n",
    "    ):\n",
    "        # todo: check to account for jitter.\n",
    "        print(\"Success: \" + c)\n",
    "        graph_trace(trace,307)\n",
    "        trace = cap_pass_trace(\"h0px3\\n\")\n",
    "        graph_trace(trace,307)\n",
    "        break\n",
    "        \n",
    "reset_target(scope)"
   ]
  },
  {
   "cell_type": "markdown",
   "metadata": {},
   "source": [
    "Slight modification to the code above to make it possible to test any char in the password index.  \n",
    "Added markers to graph to indicate points of interest."
   ]
  },
  {
   "cell_type": "code",
   "execution_count": 20,
   "metadata": {},
   "outputs": [
    {
     "name": "stderr",
     "output_type": "stream",
     "text": [
      "WARNING:root:SAM3U Serial buffers OVERRUN - data loss has occurred.\n"
     ]
    },
    {
     "name": "stdout",
     "output_type": "stream",
     "text": [
      "h0px3\n",
      "Success: 0\n"
     ]
    },
    {
     "data": {
      "text/html": [
       "\n",
       "\n",
       "\n",
       "\n",
       "\n",
       "\n",
       "  <div class=\"bk-root\" id=\"f07504d4-a331-4b14-993f-21dfa1aab7a5\" data-root-id=\"1963\"></div>\n"
      ]
     },
     "metadata": {},
     "output_type": "display_data"
    },
    {
     "data": {
      "application/javascript": [
       "(function(root) {\n",
       "  function embed_document(root) {\n",
       "    \n",
       "  var docs_json = {\"fd2d4bbf-e688-407a-a945-9e71c75d88d2\":{\"roots\":{\"references\":[{\"attributes\":{\"below\":[{\"id\":\"1972\",\"type\":\"LinearAxis\"}],\"center\":[{\"id\":\"1976\",\"type\":\"Grid\"},{\"id\":\"1981\",\"type\":\"Grid\"}],\"left\":[{\"id\":\"1977\",\"type\":\"LinearAxis\"}],\"plot_height\":300,\"plot_width\":900,\"renderers\":[{\"id\":\"2002\",\"type\":\"GlyphRenderer\"},{\"id\":\"2007\",\"type\":\"GlyphRenderer\"}],\"title\":{\"id\":\"2076\",\"type\":\"Title\"},\"toolbar\":{\"id\":\"1989\",\"type\":\"Toolbar\"},\"x_range\":{\"id\":\"1964\",\"type\":\"DataRange1d\"},\"x_scale\":{\"id\":\"1968\",\"type\":\"LinearScale\"},\"y_range\":{\"id\":\"1966\",\"type\":\"DataRange1d\"},\"y_scale\":{\"id\":\"1970\",\"type\":\"LinearScale\"}},\"id\":\"1963\",\"subtype\":\"Figure\",\"type\":\"Plot\"},{\"attributes\":{},\"id\":\"1983\",\"type\":\"WheelZoomTool\"},{\"attributes\":{},\"id\":\"2083\",\"type\":\"UnionRenderers\"},{\"attributes\":{\"overlay\":{\"id\":\"2086\",\"type\":\"BoxAnnotation\"}},\"id\":\"1984\",\"type\":\"BoxZoomTool\"},{\"attributes\":{},\"id\":\"2084\",\"type\":\"Selection\"},{\"attributes\":{},\"id\":\"1985\",\"type\":\"SaveTool\"},{\"attributes\":{},\"id\":\"2085\",\"type\":\"UnionRenderers\"},{\"attributes\":{},\"id\":\"1986\",\"type\":\"ResetTool\"},{\"attributes\":{\"callback\":null},\"id\":\"1964\",\"type\":\"DataRange1d\"},{\"attributes\":{\"bottom_units\":\"screen\",\"fill_alpha\":{\"value\":0.5},\"fill_color\":{\"value\":\"lightgrey\"},\"left_units\":\"screen\",\"level\":\"overlay\",\"line_alpha\":{\"value\":1.0},\"line_color\":{\"value\":\"black\"},\"line_dash\":[4,4],\"line_width\":{\"value\":2},\"render_mode\":\"css\",\"right_units\":\"screen\",\"top_units\":\"screen\"},\"id\":\"2086\",\"type\":\"BoxAnnotation\"},{\"attributes\":{},\"id\":\"1987\",\"type\":\"HelpTool\"},{\"attributes\":{\"line_alpha\":0.1,\"line_color\":\"#1f77b4\",\"x\":{\"field\":\"x\"},\"y\":{\"field\":\"y\"}},\"id\":\"2001\",\"type\":\"Line\"},{\"attributes\":{\"callback\":null,\"tooltips\":[[\"index\",\"$index\"],[\"(Trace,Power)\",\"(@x{00}, @y{0.00})\"]]},\"id\":\"1988\",\"type\":\"HoverTool\"},{\"attributes\":{\"callback\":null},\"id\":\"1966\",\"type\":\"DataRange1d\"},{\"attributes\":{},\"id\":\"1970\",\"type\":\"LinearScale\"},{\"attributes\":{\"x\":{\"field\":\"x\"},\"y\":{\"field\":\"y\"}},\"id\":\"2000\",\"type\":\"Line\"},{\"attributes\":{},\"id\":\"1968\",\"type\":\"LinearScale\"},{\"attributes\":{\"data_source\":{\"id\":\"1999\",\"type\":\"ColumnDataSource\"},\"glyph\":{\"id\":\"2000\",\"type\":\"Line\"},\"hover_glyph\":null,\"muted_glyph\":null,\"nonselection_glyph\":{\"id\":\"2001\",\"type\":\"Line\"},\"selection_glyph\":null,\"view\":{\"id\":\"2003\",\"type\":\"CDSView\"}},\"id\":\"2002\",\"type\":\"GlyphRenderer\"},{\"attributes\":{\"source\":{\"id\":\"1999\",\"type\":\"ColumnDataSource\"}},\"id\":\"2003\",\"type\":\"CDSView\"},{\"attributes\":{\"formatter\":{\"id\":\"2079\",\"type\":\"BasicTickFormatter\"},\"ticker\":{\"id\":\"1973\",\"type\":\"BasicTicker\"}},\"id\":\"1972\",\"type\":\"LinearAxis\"},{\"attributes\":{\"callback\":null,\"data\":{\"x\":[185,186],\"y\":[-0.2,-0.2]},\"selected\":{\"id\":\"2084\",\"type\":\"Selection\"},\"selection_policy\":{\"id\":\"2085\",\"type\":\"UnionRenderers\"}},\"id\":\"2004\",\"type\":\"ColumnDataSource\"},{\"attributes\":{},\"id\":\"1973\",\"type\":\"BasicTicker\"},{\"attributes\":{\"fill_alpha\":{\"value\":0.4},\"fill_color\":{\"value\":\"blue\"},\"line_alpha\":{\"value\":0.4},\"line_color\":{\"value\":\"blue\"},\"size\":{\"units\":\"screen\",\"value\":7},\"x\":{\"field\":\"x\"},\"y\":{\"field\":\"y\"}},\"id\":\"2005\",\"type\":\"Circle\"},{\"attributes\":{\"ticker\":{\"id\":\"1973\",\"type\":\"BasicTicker\"}},\"id\":\"1976\",\"type\":\"Grid\"},{\"attributes\":{\"fill_alpha\":{\"value\":0.1},\"fill_color\":{\"value\":\"#1f77b4\"},\"line_alpha\":{\"value\":0.1},\"line_color\":{\"value\":\"#1f77b4\"},\"size\":{\"units\":\"screen\",\"value\":7},\"x\":{\"field\":\"x\"},\"y\":{\"field\":\"y\"}},\"id\":\"2006\",\"type\":\"Circle\"},{\"attributes\":{\"formatter\":{\"id\":\"2081\",\"type\":\"BasicTickFormatter\"},\"ticker\":{\"id\":\"1978\",\"type\":\"BasicTicker\"}},\"id\":\"1977\",\"type\":\"LinearAxis\"},{\"attributes\":{\"data_source\":{\"id\":\"2004\",\"type\":\"ColumnDataSource\"},\"glyph\":{\"id\":\"2005\",\"type\":\"Circle\"},\"hover_glyph\":null,\"muted_glyph\":null,\"nonselection_glyph\":{\"id\":\"2006\",\"type\":\"Circle\"},\"selection_glyph\":null,\"view\":{\"id\":\"2008\",\"type\":\"CDSView\"}},\"id\":\"2007\",\"type\":\"GlyphRenderer\"},{\"attributes\":{},\"id\":\"1978\",\"type\":\"BasicTicker\"},{\"attributes\":{\"source\":{\"id\":\"2004\",\"type\":\"ColumnDataSource\"}},\"id\":\"2008\",\"type\":\"CDSView\"},{\"attributes\":{\"dimension\":1,\"ticker\":{\"id\":\"1978\",\"type\":\"BasicTicker\"}},\"id\":\"1981\",\"type\":\"Grid\"},{\"attributes\":{\"text\":\"\"},\"id\":\"2076\",\"type\":\"Title\"},{\"attributes\":{\"callback\":null,\"data\":{\"x\":[0,1,2,3,4,5,6,7,8,9,10,11,12,13,14,15,16,17,18,19,20,21,22,23,24,25,26,27,28,29,30,31,32,33,34,35,36,37,38,39,40,41,42,43,44,45,46,47,48,49,50,51,52,53,54,55,56,57,58,59,60,61,62,63,64,65,66,67,68,69,70,71,72,73,74,75,76,77,78,79,80,81,82,83,84,85,86,87,88,89,90,91,92,93,94,95,96,97,98,99,100,101,102,103,104,105,106,107,108,109,110,111,112,113,114,115,116,117,118,119,120,121,122,123,124,125,126,127,128,129,130,131,132,133,134,135,136,137,138,139,140,141,142,143,144,145,146,147,148,149,150,151,152,153,154,155,156,157,158,159,160,161,162,163,164,165,166,167,168,169,170,171,172,173,174,175,176,177,178,179,180,181,182,183,184,185,186,187,188,189,190,191,192,193,194,195,196,197,198,199,200,201,202,203,204,205,206,207,208,209,210,211,212,213,214,215,216,217,218,219,220,221,222,223,224,225,226,227,228,229,230,231,232,233,234,235,236,237,238,239,240,241,242,243,244,245,246,247,248,249,250,251,252,253,254,255,256,257,258,259,260,261,262,263,264,265,266,267,268,269,270,271,272,273,274,275,276,277,278,279,280,281,282,283,284,285,286,287,288,289,290,291,292,293,294,295,296,297,298,299,300,301,302,303,304,305,306],\"y\":{\"__ndarray__\":\"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\",\"dtype\":\"float64\",\"shape\":[307]}},\"selected\":{\"id\":\"2082\",\"type\":\"Selection\"},\"selection_policy\":{\"id\":\"2083\",\"type\":\"UnionRenderers\"}},\"id\":\"1999\",\"type\":\"ColumnDataSource\"},{\"attributes\":{},\"id\":\"2079\",\"type\":\"BasicTickFormatter\"},{\"attributes\":{},\"id\":\"2081\",\"type\":\"BasicTickFormatter\"},{\"attributes\":{},\"id\":\"1997\",\"type\":\"CrosshairTool\"},{\"attributes\":{\"active_drag\":\"auto\",\"active_inspect\":\"auto\",\"active_multi\":null,\"active_scroll\":\"auto\",\"active_tap\":\"auto\",\"tools\":[{\"id\":\"1982\",\"type\":\"PanTool\"},{\"id\":\"1983\",\"type\":\"WheelZoomTool\"},{\"id\":\"1984\",\"type\":\"BoxZoomTool\"},{\"id\":\"1985\",\"type\":\"SaveTool\"},{\"id\":\"1986\",\"type\":\"ResetTool\"},{\"id\":\"1987\",\"type\":\"HelpTool\"},{\"id\":\"1988\",\"type\":\"HoverTool\"},{\"id\":\"1997\",\"type\":\"CrosshairTool\"}]},\"id\":\"1989\",\"type\":\"Toolbar\"},{\"attributes\":{},\"id\":\"2082\",\"type\":\"Selection\"},{\"attributes\":{},\"id\":\"1982\",\"type\":\"PanTool\"}],\"root_ids\":[\"1963\"]},\"title\":\"Bokeh Application\",\"version\":\"1.3.0\"}};\n",
       "  var render_items = [{\"docid\":\"fd2d4bbf-e688-407a-a945-9e71c75d88d2\",\"roots\":{\"1963\":\"f07504d4-a331-4b14-993f-21dfa1aab7a5\"}}];\n",
       "  root.Bokeh.embed.embed_items_notebook(docs_json, render_items);\n",
       "\n",
       "  }\n",
       "  if (root.Bokeh !== undefined) {\n",
       "    embed_document(root);\n",
       "  } else {\n",
       "    var attempts = 0;\n",
       "    var timer = setInterval(function(root) {\n",
       "      if (root.Bokeh !== undefined) {\n",
       "        embed_document(root);\n",
       "        clearInterval(timer);\n",
       "      }\n",
       "      attempts++;\n",
       "      if (attempts > 100) {\n",
       "        console.log(\"Bokeh: ERROR: Unable to run BokehJS code because BokehJS library is missing\");\n",
       "        clearInterval(timer);\n",
       "      }\n",
       "    }, 10, root)\n",
       "  }\n",
       "})(window);"
      ],
      "application/vnd.bokehjs_exec.v0+json": ""
     },
     "metadata": {
      "application/vnd.bokehjs_exec.v0+json": {
       "id": "1963"
      }
     },
     "output_type": "display_data"
    },
    {
     "data": {
      "text/html": [
       "\n",
       "\n",
       "\n",
       "\n",
       "\n",
       "\n",
       "  <div class=\"bk-root\" id=\"1f9abc4a-5483-4598-abf8-b892f1282b89\" data-root-id=\"2153\"></div>\n"
      ]
     },
     "metadata": {},
     "output_type": "display_data"
    },
    {
     "data": {
      "application/javascript": [
       "(function(root) {\n",
       "  function embed_document(root) {\n",
       "    \n",
       "  var docs_json = {\"c28c9a0f-c582-4365-9d7e-ec7ee99fe028\":{\"roots\":{\"references\":[{\"attributes\":{\"below\":[{\"id\":\"2162\",\"type\":\"LinearAxis\"}],\"center\":[{\"id\":\"2166\",\"type\":\"Grid\"},{\"id\":\"2171\",\"type\":\"Grid\"}],\"left\":[{\"id\":\"2167\",\"type\":\"LinearAxis\"}],\"plot_height\":300,\"plot_width\":900,\"renderers\":[{\"id\":\"2192\",\"type\":\"GlyphRenderer\"}],\"title\":{\"id\":\"2272\",\"type\":\"Title\"},\"toolbar\":{\"id\":\"2179\",\"type\":\"Toolbar\"},\"x_range\":{\"id\":\"2154\",\"type\":\"DataRange1d\"},\"x_scale\":{\"id\":\"2158\",\"type\":\"LinearScale\"},\"y_range\":{\"id\":\"2156\",\"type\":\"DataRange1d\"},\"y_scale\":{\"id\":\"2160\",\"type\":\"LinearScale\"}},\"id\":\"2153\",\"subtype\":\"Figure\",\"type\":\"Plot\"},{\"attributes\":{\"formatter\":{\"id\":\"2275\",\"type\":\"BasicTickFormatter\"},\"ticker\":{\"id\":\"2163\",\"type\":\"BasicTicker\"}},\"id\":\"2162\",\"type\":\"LinearAxis\"},{\"attributes\":{},\"id\":\"2160\",\"type\":\"LinearScale\"},{\"attributes\":{},\"id\":\"2158\",\"type\":\"LinearScale\"},{\"attributes\":{\"callback\":null},\"id\":\"2154\",\"type\":\"DataRange1d\"},{\"attributes\":{\"callback\":null},\"id\":\"2156\",\"type\":\"DataRange1d\"},{\"attributes\":{\"x\":{\"field\":\"x\"},\"y\":{\"field\":\"y\"}},\"id\":\"2190\",\"type\":\"Line\"},{\"attributes\":{},\"id\":\"2277\",\"type\":\"BasicTickFormatter\"},{\"attributes\":{},\"id\":\"2172\",\"type\":\"PanTool\"},{\"attributes\":{},\"id\":\"2173\",\"type\":\"WheelZoomTool\"},{\"attributes\":{\"bottom_units\":\"screen\",\"fill_alpha\":{\"value\":0.5},\"fill_color\":{\"value\":\"lightgrey\"},\"left_units\":\"screen\",\"level\":\"overlay\",\"line_alpha\":{\"value\":1.0},\"line_color\":{\"value\":\"black\"},\"line_dash\":[4,4],\"line_width\":{\"value\":2},\"render_mode\":\"css\",\"right_units\":\"screen\",\"top_units\":\"screen\"},\"id\":\"2280\",\"type\":\"BoxAnnotation\"},{\"attributes\":{\"overlay\":{\"id\":\"2280\",\"type\":\"BoxAnnotation\"}},\"id\":\"2174\",\"type\":\"BoxZoomTool\"},{\"attributes\":{},\"id\":\"2278\",\"type\":\"Selection\"},{\"attributes\":{},\"id\":\"2175\",\"type\":\"SaveTool\"},{\"attributes\":{\"active_drag\":\"auto\",\"active_inspect\":\"auto\",\"active_multi\":null,\"active_scroll\":\"auto\",\"active_tap\":\"auto\",\"tools\":[{\"id\":\"2172\",\"type\":\"PanTool\"},{\"id\":\"2173\",\"type\":\"WheelZoomTool\"},{\"id\":\"2174\",\"type\":\"BoxZoomTool\"},{\"id\":\"2175\",\"type\":\"SaveTool\"},{\"id\":\"2176\",\"type\":\"ResetTool\"},{\"id\":\"2177\",\"type\":\"HelpTool\"},{\"id\":\"2178\",\"type\":\"HoverTool\"},{\"id\":\"2187\",\"type\":\"CrosshairTool\"}]},\"id\":\"2179\",\"type\":\"Toolbar\"},{\"attributes\":{},\"id\":\"2176\",\"type\":\"ResetTool\"},{\"attributes\":{\"formatter\":{\"id\":\"2277\",\"type\":\"BasicTickFormatter\"},\"ticker\":{\"id\":\"2168\",\"type\":\"BasicTicker\"}},\"id\":\"2167\",\"type\":\"LinearAxis\"},{\"attributes\":{},\"id\":\"2177\",\"type\":\"HelpTool\"},{\"attributes\":{},\"id\":\"2187\",\"type\":\"CrosshairTool\"},{\"attributes\":{\"source\":{\"id\":\"2189\",\"type\":\"ColumnDataSource\"}},\"id\":\"2193\",\"type\":\"CDSView\"},{\"attributes\":{\"data_source\":{\"id\":\"2189\",\"type\":\"ColumnDataSource\"},\"glyph\":{\"id\":\"2190\",\"type\":\"Line\"},\"hover_glyph\":null,\"muted_glyph\":null,\"nonselection_glyph\":{\"id\":\"2191\",\"type\":\"Line\"},\"selection_glyph\":null,\"view\":{\"id\":\"2193\",\"type\":\"CDSView\"}},\"id\":\"2192\",\"type\":\"GlyphRenderer\"},{\"attributes\":{\"callback\":null,\"data\":{\"x\":[0,1,2,3,4,5,6,7,8,9,10,11,12,13,14,15,16,17,18,19,20,21,22,23,24,25,26,27,28,29,30,31,32,33,34,35,36,37,38,39,40,41,42,43,44,45,46,47,48,49,50,51,52,53,54,55,56,57,58,59,60,61,62,63,64,65,66,67,68,69,70,71,72,73,74,75,76,77,78,79,80,81,82,83,84,85,86,87,88,89,90,91,92,93,94,95,96,97,98,99,100,101,102,103,104,105,106,107,108,109,110,111,112,113,114,115,116,117,118,119,120,121,122,123,124,125,126,127,128,129,130,131,132,133,134,135,136,137,138,139,140,141,142,143,144,145,146,147,148,149,150,151,152,153,154,155,156,157,158,159,160,161,162,163,164,165,166,167,168,169,170,171,172,173,174,175,176,177,178,179,180,181,182,183,184,185,186,187,188,189,190,191,192,193,194,195,196,197,198,199,200,201,202,203,204,205,206,207,208,209,210,211,212,213,214,215,216,217,218,219,220,221,222,223,224,225,226,227,228,229,230,231,232,233,234,235,236,237,238,239,240,241,242,243,244,245,246,247,248,249,250,251,252,253,254,255,256,257,258,259,260,261,262,263,264,265,266,267,268,269,270,271,272,273,274,275,276,277,278,279,280,281,282,283,284,285,286,287,288,289,290,291,292,293,294,295,296,297,298,299,300,301,302,303,304,305,306],\"y\":{\"__ndarray__\":\"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\",\"dtype\":\"float64\",\"shape\":[307]}},\"selected\":{\"id\":\"2278\",\"type\":\"Selection\"},\"selection_policy\":{\"id\":\"2279\",\"type\":\"UnionRenderers\"}},\"id\":\"2189\",\"type\":\"ColumnDataSource\"},{\"attributes\":{\"line_alpha\":0.1,\"line_color\":\"#1f77b4\",\"x\":{\"field\":\"x\"},\"y\":{\"field\":\"y\"}},\"id\":\"2191\",\"type\":\"Line\"},{\"attributes\":{\"dimension\":1,\"ticker\":{\"id\":\"2168\",\"type\":\"BasicTicker\"}},\"id\":\"2171\",\"type\":\"Grid\"},{\"attributes\":{\"callback\":null,\"tooltips\":[[\"index\",\"$index\"],[\"(Trace,Power)\",\"(@x{00}, @y{0.00})\"]]},\"id\":\"2178\",\"type\":\"HoverTool\"},{\"attributes\":{},\"id\":\"2168\",\"type\":\"BasicTicker\"},{\"attributes\":{},\"id\":\"2275\",\"type\":\"BasicTickFormatter\"},{\"attributes\":{},\"id\":\"2163\",\"type\":\"BasicTicker\"},{\"attributes\":{\"text\":\"\"},\"id\":\"2272\",\"type\":\"Title\"},{\"attributes\":{\"ticker\":{\"id\":\"2163\",\"type\":\"BasicTicker\"}},\"id\":\"2166\",\"type\":\"Grid\"},{\"attributes\":{},\"id\":\"2279\",\"type\":\"UnionRenderers\"}],\"root_ids\":[\"2153\"]},\"title\":\"Bokeh Application\",\"version\":\"1.3.0\"}};\n",
       "  var render_items = [{\"docid\":\"c28c9a0f-c582-4365-9d7e-ec7ee99fe028\",\"roots\":{\"2153\":\"1f9abc4a-5483-4598-abf8-b892f1282b89\"}}];\n",
       "  root.Bokeh.embed.embed_items_notebook(docs_json, render_items);\n",
       "\n",
       "  }\n",
       "  if (root.Bokeh !== undefined) {\n",
       "    embed_document(root);\n",
       "  } else {\n",
       "    var attempts = 0;\n",
       "    var timer = setInterval(function(root) {\n",
       "      if (root.Bokeh !== undefined) {\n",
       "        embed_document(root);\n",
       "        clearInterval(timer);\n",
       "      }\n",
       "      attempts++;\n",
       "      if (attempts > 100) {\n",
       "        console.log(\"Bokeh: ERROR: Unable to run BokehJS code because BokehJS library is missing\");\n",
       "        clearInterval(timer);\n",
       "      }\n",
       "    }, 10, root)\n",
       "  }\n",
       "})(window);"
      ],
      "application/vnd.bokehjs_exec.v0+json": ""
     },
     "metadata": {
      "application/vnd.bokehjs_exec.v0+json": {
       "id": "2153"
      }
     },
     "output_type": "display_data"
    }
   ],
   "source": [
    "trylist = \"abcdefghijklmnopqrstuvwxyz0123456789\"\n",
    "password = \"\"\n",
    "power_threshold = -0.20 # Important\n",
    "trace_step = 40 # This value is important when guessing any char other than the first char\n",
    "trace_index = 145 # Really import. You might have to compare two trace points to account for jitter.\n",
    "\n",
    "print(password_good)\n",
    "password_index = 1 # Change this value manually to experiement\n",
    "\n",
    "# Attempt bruteforce first char of password\n",
    "for c in trylist:\n",
    "    next_pass = password_good[0:password_index] + c + \"\\n\"\n",
    "    trace = cap_pass_trace(next_pass)\n",
    "    final_trace_index = trace_index+(trace_step*password_index)\n",
    "    \n",
    "    if (\n",
    "        checkpass(trace, password_index,power_threshold,trace_index,trace_step,0)\n",
    "        and \n",
    "        checkpass(trace, password_index,power_threshold,trace_index,trace_step,1)\n",
    "    ):\n",
    "        print(\"Success: \" + c)\n",
    "        graph_trace(trace,307,\n",
    "                    {'markers_x':[final_trace_index,final_trace_index+1],\n",
    "                     'markers_y':[power_threshold,power_threshold]}\n",
    "        )\n",
    "        trace = cap_pass_trace(password_good[0:password_index+1]+\"\\n\")\n",
    "        graph_trace(trace,307)\n",
    "        break\n",
    "        \n",
    "reset_target(scope)"
   ]
  },
  {
   "cell_type": "code",
   "execution_count": 21,
   "metadata": {
    "jupyter": {
     "source_hidden": true
    }
   },
   "outputs": [],
   "source": [
    "def __bruteforce_index(crack_index=0):\n",
    "    '''Attempt to bruteforce a char a crack_index of the password.\n",
    "    Any char greater than index 0, will only work if previous chars are known.\n",
    "    \n",
    "    Arg:\n",
    "        crack_index: int, which index in the password to bruteforce guess\n",
    "    \n",
    "    '''\n",
    "    trylist = \"abcdefghijklmnopqrstuvwxyz0123456789\"\n",
    "    password = \"\"\n",
    "    power_threshold = -0.20 # Important\n",
    "    trace_step = 41 # This value is important when guessing any char other than the first char\n",
    "    trace_index = 145 # Really import. You might have to compare two trace points to account for jitter.\n",
    "    \n",
    "    #print(password_good)\n",
    "    password_good = password_good # We already know the password.\n",
    "    password_index = crack_index #\n",
    "    found_char = ''\n",
    "\n",
    "    # Attempt bruteforce char of password specifiec by crack_index\n",
    "    for c in trylist:\n",
    "        next_pass = password_good[0:password_index] + c + \"\\n\"\n",
    "        trace = cap_pass_trace(next_pass)\n",
    "        \n",
    "        '''There is a deviation in time when the power spike indicating a failed password\n",
    "        appears.\n",
    "        We must check multiple points in the trace to ensure we have the correct reading.\n",
    "        '''\n",
    "        if (\n",
    "            checkpass(trace, password_index,power_threshold,trace_index,trace_step) \n",
    "            and \n",
    "            checkpass(trace, password_index,power_threshold,trace_index+1,trace_step)\n",
    "            and\n",
    "            checkpass(trace, password_index,power_threshold,trace_index,trace_step+1) \n",
    "            and \n",
    "            checkpass(trace, password_index,power_threshold,trace_index+1,trace_step+1)\n",
    "           ):\n",
    "            print(\"Success: {} in {}\".format(c,next_pass) )\n",
    "            #graph_trace(trace,300)\n",
    "            trace = cap_pass_trace(password_good[0:password_index+1]+\"\\n\")\n",
    "            #graph_trace(trace,300)\n",
    "            found_char = c\n",
    "            break\n",
    "\n",
    "    #reset_target(scope)\n",
    "    return found_char"
   ]
  },
  {
   "cell_type": "code",
   "execution_count": 24,
   "metadata": {},
   "outputs": [],
   "source": [
    "def bruteforce_index(password_so_far='', debug=False):\n",
    "    '''Attempt to bruteforce a char a crack_index of the password.\n",
    "    Any char greater than index 0, will only work if previous chars are known.\n",
    "    If unable to crack char, retry attempt is possible.\n",
    "    \n",
    "    Arg:\n",
    "        crack_index: int, which index in the password to bruteforce guess\n",
    "    \n",
    "    '''\n",
    "    __debug = debug\n",
    "    \n",
    "    trylist = \"abcdefghijklmnopqrstuvwxyz0123456789\"\n",
    "    password = \"\"\n",
    "    power_threshold = -0.20 # Important\n",
    "    power_threshold = -0.20 # Important\n",
    "    trace_step = 40 # This value is important when guessing any char other than the first char\n",
    "    trace_index = 145 # Really import. You might have to compare two trace points to account for jitter.\n",
    "    jitter = 1 # deviation\n",
    "    password_so_far = password_so_far # We already know the password.\n",
    "    password_index = len(password_so_far) #\n",
    "    found_char = ''\n",
    "    retry = 2\n",
    "    \n",
    "    if __debug:\n",
    "        print('Debug bruteforce_index()')\n",
    "        print('Power threshold {}, trace step {}, trace index {}, password so far {}, index to crack {}.'.\n",
    "              format(\n",
    "             power_threshold,\n",
    "             trace_step,\n",
    "             trace_index,\n",
    "             password_so_far,\n",
    "             password_index))\n",
    "\n",
    "    for attempt in range(0,retry+1):\n",
    "        # Attempt bruteforce char of password specifiec by crack_index\n",
    "        for c in trylist:\n",
    "            next_pass = password_so_far[0:password_index] + c + \"\\n\"\n",
    "            trace = cap_pass_trace(next_pass)\n",
    "            final_trace_index = trace_index+(trace_step*password_index)\n",
    "\n",
    "            if __debug:\n",
    "                print('Password sent: {}'.format(next_pass))\n",
    "                print('Trace value readouts: Trace[{}]={}, jitter Trace[{}]={}'.format(\n",
    "                        final_trace_index,\n",
    "                        trace[final_trace_index:final_trace_index+1],\n",
    "                        final_trace_index+jitter,\n",
    "                        trace[final_trace_index+jitter:final_trace_index+jitter+1])\n",
    "                )\n",
    "\n",
    "\n",
    "            '''There is a deviation in time when the power spike indicating a failed password\n",
    "            appears.\n",
    "            We must check multiple points in the trace to ensure we have the correct reading.\n",
    "            '''\n",
    "            if (\n",
    "                checkpass(trace, password_index,power_threshold,trace_index,trace_step,0)\n",
    "                and \n",
    "                checkpass(trace, password_index,power_threshold,trace_index,trace_step,jitter)\n",
    "                ):\n",
    "                print(\"Success: {} in {}\".format(c,next_pass) )\n",
    "\n",
    "                if __debug:\n",
    "                    print('Trace value readouts: Trace[{}]={}'.format(\n",
    "                        final_trace_index,\n",
    "                        trace[final_trace_index:final_trace_index+1])\n",
    "                    )\n",
    "                    graph_trace(trace,345)\n",
    "                    trace = cap_pass_trace(password_good[0:password_index+1]+\"\\n\")\n",
    "                    graph_trace(trace,345)\n",
    "                found_char = c\n",
    "                break\n",
    "    \n",
    "    \n",
    "        # Notify user we haven't found the char and ran out of retries.\n",
    "        if found_char == '':\n",
    "            print('Char not cracked. Attempt {} Retry? {}'.format(attempt+1, retry))\n",
    "            if retry <= attempt: # Unable to guess correctly\n",
    "                raise Exception('Unable to crack password')\n",
    "        else: # char is cracked\n",
    "            break\n",
    "\n",
    "    #reset_target(scope)\n",
    "    return found_char"
   ]
  },
  {
   "cell_type": "markdown",
   "metadata": {},
   "source": [
    "Just some test proof of concept code to experiement with automating some way of determining where in the trace to look for password check.\n",
    "Stopped working on it so don't use yet."
   ]
  },
  {
   "cell_type": "code",
   "execution_count": 23,
   "metadata": {
    "jupyter": {
     "source_hidden": true
    }
   },
   "outputs": [
    {
     "name": "stderr",
     "output_type": "stream",
     "text": [
      "WARNING:root:SAM3U Serial buffers OVERRUN - data loss has occurred.\n"
     ]
    },
    {
     "name": "stdout",
     "output_type": "stream",
     "text": [
      "-0.25 3\n"
     ]
    }
   ],
   "source": [
    "trylist = \"abcdefghijklmnopqrstuvwxyz0123456789\"\n",
    "password = \"h\"\n",
    "import numpy\n",
    "\n",
    "def bruteforce_power():\n",
    "    success_power = set()\n",
    "    # Attempt bruteforce first char of password\n",
    "    for power in numpy.arange(-0.25,0,0.01):\n",
    "    #for power in numpy.arange(0.0,0.3,0.001):\n",
    "        next_pass = password + \"\\n\"\n",
    "        trace = cap_pass_trace(next_pass)\n",
    "        # print(power)\n",
    "\n",
    "        if checkpass(trace, 0, power):\n",
    "            #print(\"Success: {} {}\".format(password, power))\n",
    "            success_power.add(power)\n",
    "            #break\n",
    "    return success_power\n",
    "\n",
    "\n",
    "pm = []\n",
    "for round in range(0,3):    \n",
    "    pm += list(bruteforce_power())\n",
    "\n",
    "count_p = {}\n",
    "for p in set(pm):\n",
    "    count_p[p] = pm.count(p)\n",
    "\n",
    "freq_power = max(count_p, key=lambda key: count_p[key])\n",
    "print('{} {}'.format(freq_power, count_p[freq_power]))\n",
    "reset_target(scope)"
   ]
  },
  {
   "cell_type": "markdown",
   "metadata": {},
   "source": [
    "## Attacking the Full Password"
   ]
  },
  {
   "cell_type": "markdown",
   "metadata": {},
   "source": [
    "Now that we can guess a single character, attacking the rest is easy; we just need to repeat the process in another loop, move the check point (this is the change is location you recorded earlier), and update our guess with the new correct letter.\n",
    "\n",
    "After updating the below script and running it, you should see parts of the password printed out as each letter is found."
   ]
  },
  {
   "cell_type": "code",
   "execution_count": 26,
   "metadata": {},
   "outputs": [
    {
     "name": "stdout",
     "output_type": "stream",
     "text": [
      "Char not cracked. Attempt 1 Retry? 2\n",
      "Char not cracked. Attempt 2 Retry? 2\n",
      "Success: 3 in h0px3\n",
      "\n",
      "3\n"
     ]
    }
   ],
   "source": [
    "# Should change strategy to determine condition for success or failure and allow for variable length passwords\n",
    "cracked_password = ''\n",
    "\n",
    "cracked_password = bruteforce_index('h0px',debug=False)\n",
    "print(cracked_password)"
   ]
  },
  {
   "cell_type": "code",
   "execution_count": 31,
   "metadata": {},
   "outputs": [
    {
     "name": "stdout",
     "output_type": "stream",
     "text": [
      "cracking index 0\n",
      "Success: h in h\n",
      "\n",
      "h\n",
      "cracking index 1\n",
      "Char not cracked. Attempt 1 Retry? 2\n",
      "Success: 0 in h0\n",
      "\n",
      "h0\n",
      "cracking index 2\n",
      "Success: p in h0p\n",
      "\n",
      "h0p\n",
      "cracking index 3\n",
      "Success: x in h0px\n",
      "\n",
      "h0px\n",
      "cracking index 4\n",
      "Char not cracked. Attempt 1 Retry? 2\n",
      "Success: 3 in h0px3\n",
      "\n",
      "h0px3\n",
      "Guessed password is h0px3\n"
     ]
    }
   ],
   "source": [
    "# Should change strategy to determine condition for success or failure and allow for variable length passwords\n",
    "password_length = 5\n",
    "cracked_password = ''\n",
    "\n",
    "for password_index in range(0,password_length):\n",
    "    print('cracking index {}'.format(password_index))\n",
    "    cracked_password += bruteforce_index(cracked_password)\n",
    "    print(cracked_password)\n",
    "    \n",
    "print('Guessed password is {}'.format(cracked_password))"
   ]
  },
  {
   "cell_type": "markdown",
   "metadata": {},
   "source": [
    "That's it! You should have successfully cracked a password using the timing attack. Some notes on this method:\n",
    "\n",
    "* The target device has a finite start-up time, which slows down the attack. If you wish, remove some of the `printf()`'s from the target code, recompile and reprogram, and see how quickly you can do this attack.\n",
    "* The current script doesn't look for the \"WELCOME\" message when the password is OK. That is an extension that allows it to crack any size password.\n",
    "* If there was a lock-out on a wrong password, the system would ignore it, as it resets the target after every attempt."
   ]
  },
  {
   "cell_type": "markdown",
   "metadata": {},
   "source": [
    "## Conclusion"
   ]
  },
  {
   "cell_type": "markdown",
   "metadata": {},
   "source": [
    "This tutorial has demonstrated the use of the power side-channel for performing timing attacks. A target with a simple password-based security system is broken."
   ]
  },
  {
   "cell_type": "code",
   "execution_count": 32,
   "metadata": {},
   "outputs": [],
   "source": [
    "scope.dis()\n",
    "target.dis()"
   ]
  },
  {
   "cell_type": "markdown",
   "metadata": {},
   "source": [
    "## Tests"
   ]
  },
  {
   "cell_type": "code",
   "execution_count": 33,
   "metadata": {},
   "outputs": [],
   "source": [
    "assert (cracked_password == \"h0px3\"), \"Failed to break password, got {}.\\nIf on Nano, may need to rerun\".format(password)"
   ]
  },
  {
   "cell_type": "code",
   "execution_count": null,
   "metadata": {},
   "outputs": [],
   "source": []
  }
 ],
 "metadata": {
  "kernelspec": {
   "display_name": "Python 3",
   "language": "python",
   "name": "python3"
  },
  "language_info": {
   "codemirror_mode": {
    "name": "ipython",
    "version": 3
   },
   "file_extension": ".py",
   "mimetype": "text/x-python",
   "name": "python",
   "nbconvert_exporter": "python",
   "pygments_lexer": "ipython3",
   "version": "3.6.8"
  }
 },
 "nbformat": 4,
 "nbformat_minor": 4
}
